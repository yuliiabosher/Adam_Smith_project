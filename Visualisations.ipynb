{
  "nbformat": 4,
  "nbformat_minor": 0,
  "metadata": {
    "colab": {
      "provenance": [],
      "authorship_tag": "ABX9TyObT674UwHe81vj0Z7fMCJm",
      "include_colab_link": true
    },
    "kernelspec": {
      "name": "python3",
      "display_name": "Python 3"
    },
    "language_info": {
      "name": "python"
    }
  },
  "cells": [
    {
      "cell_type": "markdown",
      "metadata": {
        "id": "view-in-github",
        "colab_type": "text"
      },
      "source": [
        "<a href=\"https://colab.research.google.com/github/yuliiabosher/Adam_Smith_project/blob/main/Visualisations.ipynb\" target=\"_parent\"><img src=\"https://colab.research.google.com/assets/colab-badge.svg\" alt=\"Open In Colab\"/></a>"
      ]
    },
    {
      "cell_type": "code",
      "source": [
        "!pip install nltk"
      ],
      "metadata": {
        "colab": {
          "base_uri": "https://localhost:8080/"
        },
        "id": "ZePMv8zmrHBV",
        "outputId": "c930005e-c413-4a31-a442-5a5183e5959f"
      },
      "execution_count": 19,
      "outputs": [
        {
          "output_type": "stream",
          "name": "stdout",
          "text": [
            "Requirement already satisfied: nltk in /usr/local/lib/python3.10/dist-packages (3.8.1)\n",
            "Requirement already satisfied: click in /usr/local/lib/python3.10/dist-packages (from nltk) (8.1.7)\n",
            "Requirement already satisfied: joblib in /usr/local/lib/python3.10/dist-packages (from nltk) (1.4.2)\n",
            "Requirement already satisfied: regex>=2021.8.3 in /usr/local/lib/python3.10/dist-packages (from nltk) (2024.5.15)\n",
            "Requirement already satisfied: tqdm in /usr/local/lib/python3.10/dist-packages (from nltk) (4.66.4)\n"
          ]
        }
      ]
    },
    {
      "cell_type": "code",
      "execution_count": 36,
      "metadata": {
        "id": "aJC_zbAMe5D5",
        "colab": {
          "base_uri": "https://localhost:8080/"
        },
        "outputId": "43769c71-8e0d-47e0-8780-e50b32c5a1b1"
      },
      "outputs": [
        {
          "output_type": "stream",
          "name": "stderr",
          "text": [
            "[nltk_data] Downloading package punkt to /root/nltk_data...\n",
            "[nltk_data]   Package punkt is already up-to-date!\n",
            "[nltk_data] Downloading package averaged_perceptron_tagger to\n",
            "[nltk_data]     /root/nltk_data...\n",
            "[nltk_data]   Package averaged_perceptron_tagger is already up-to-\n",
            "[nltk_data]       date!\n",
            "[nltk_data] Downloading package maxent_ne_chunker to\n",
            "[nltk_data]     /root/nltk_data...\n",
            "[nltk_data]   Package maxent_ne_chunker is already up-to-date!\n",
            "[nltk_data] Downloading package words to /root/nltk_data...\n",
            "[nltk_data]   Package words is already up-to-date!\n"
          ]
        },
        {
          "output_type": "execute_result",
          "data": {
            "text/plain": [
              "True"
            ]
          },
          "metadata": {},
          "execution_count": 36
        }
      ],
      "source": [
        "import pandas as pd\n",
        "import matplotlib.pyplot as plt\n",
        "import nltk\n",
        "import collections\n",
        "\n",
        "nltk.download(\"punkt\")\n",
        "nltk.download(\"averaged_perceptron_tagger\")\n",
        "nltk.download('maxent_ne_chunker')\n",
        "nltk.download('words')"
      ]
    },
    {
      "cell_type": "code",
      "source": [
        "def month_to_number(month):\n",
        "  months = {\"january\": \"1\", \"february\": \"2\", \"march\": \"3\", \"april\": \"4\", \"may\": \"5\", \"june\": \"6\", \"july\": \"7\", \\\n",
        "            \"august\": \"8\", \"september\": \"9\", \"october\": \"10\", \"november\": \"11\", \"december\": \"12\"}\n",
        "  month = month.lower()\n",
        "  numerical = months[month]\n",
        "  return numerical\n",
        "\n",
        "def to_date(string):\n",
        "  elements = string.split(',')\n",
        "  year = elements[-1].strip()\n",
        "  month, day = elements[-2].split()\n",
        "  month = month_to_number(month)\n",
        "  date = f'{year}-{month}-{day}'\n",
        "  return date"
      ],
      "metadata": {
        "id": "mb_OqgtZris6"
      },
      "execution_count": 20,
      "outputs": []
    },
    {
      "cell_type": "code",
      "source": [
        "df = pd.read_excel('https://github.com/yuliiabosher/Adam_Smith_project/raw/main/adam_smith.xlsx', skiprows=1)\n",
        "df = df.fillna('n/a')\n",
        "df = df.drop(df[df['Mention of Adam smith'].str.contains('NA')].index)\n",
        "df = df.drop(df[df['Mention of Adam smith'].str.contains('n/a')].index)\n",
        "df.columns = ['Date', 'Extract', 'Notes', 'Notes2', 'About Adam Smith', 'Rep']\n",
        "dates = []\n",
        "for index, row in df.iterrows():\n",
        "  dates.append(to_date(row['Date']))\n",
        "df['Date'] = dates\n",
        "df['Date'] = pd.to_datetime(df['Date'])\n",
        "df = df.set_index('Date').sort_index()\n",
        "plt.hist(df.index)\n"
      ],
      "metadata": {
        "id": "O4KXpehzfNzX",
        "outputId": "dbb0d8a8-da34-457c-943d-dc82910ca056",
        "colab": {
          "base_uri": "https://localhost:8080/",
          "height": 519
        }
      },
      "execution_count": 21,
      "outputs": [
        {
          "output_type": "execute_result",
          "data": {
            "text/plain": [
              "(array([1., 2., 4., 3., 4., 1., 2., 1., 2., 3.]),\n",
              " array([16785., 17049., 17313., 17577., 17841., 18105., 18369., 18633.,\n",
              "        18897., 19161., 19425.]),\n",
              " <BarContainer object of 10 artists>)"
            ]
          },
          "metadata": {},
          "execution_count": 21
        },
        {
          "output_type": "display_data",
          "data": {
            "text/plain": [
              "<Figure size 640x480 with 1 Axes>"
            ],
            "image/png": "[encoded data removed]"
          },
          "metadata": {}
        }
      ]
    },
    {
      "cell_type": "code",
      "source": [
        "ner_categories = collections.defaultdict(int)\n",
        "for index, row in df.iterrows():\n",
        "  sentences = nltk.sent_tokenize(row['Extract'])\n",
        "  token_sentences = [nltk.word_tokenize(sent) for sent in sentences]\n",
        "  pos_sentences = [nltk.pos_tag(sent) for sent in token_sentences]\n",
        "  chunked_sentences = nltk.ne_chunk_sents(pos_sentences, binary=True)\n",
        "  for sent in chunked_sentences:\n",
        "    for chunk in sent:\n",
        "      if hasattr(chunk, 'label'):\n",
        "        ner_categories[chunk.label()] += 1\n",
        "\n",
        "labels = list(ner_categories.keys())\n",
        "values = [ner_categories.get(v) for v in labels]\n",
        "plt.pie(values, labels=labels, autopct='%1.1f%%', startangle=140)\n",
        "plt.show()\n"
      ],
      "metadata": {
        "colab": {
          "base_uri": "https://localhost:8080/",
          "height": 426
        },
        "id": "WBIk4gi4Hor0",
        "outputId": "1c1a458e-ce44-45ba-de27-ca41d516dc17"
      },
      "execution_count": 39,
      "outputs": [
        {
          "output_type": "display_data",
          "data": {
            "text/plain": [
              "<Figure size 640x480 with 1 Axes>"
            ],
            "image/png": "[encoded data removed]"
          },
          "metadata": {}
        }
      ]
    },
    {
      "cell_type": "code",
      "source": [],
      "metadata": {
        "id": "V9XoVSaPzdjE"
      },
      "execution_count": null,
      "outputs": []
    }
  ]
}
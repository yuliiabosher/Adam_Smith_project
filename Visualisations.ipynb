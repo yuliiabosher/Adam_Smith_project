{
  "nbformat": 4,
  "nbformat_minor": 0,
  "metadata": {
    "colab": {
      "provenance": [],
      "authorship_tag": "ABX9TyNP4WnJ5f2pX4JbZ1X0AzJu",
      "include_colab_link": true
    },
    "kernelspec": {
      "name": "python3",
      "display_name": "Python 3"
    },
    "language_info": {
      "name": "python"
    }
  },
  "cells": [
    {
      "cell_type": "markdown",
      "metadata": {
        "id": "view-in-github",
        "colab_type": "text"
      },
      "source": [
        "<a href=\"https://colab.research.google.com/github/yuliiabosher/Adam_Smith_project/blob/main/Visualisations.ipynb\" target=\"_parent\"><img src=\"https://colab.research.google.com/assets/colab-badge.svg\" alt=\"Open In Colab\"/></a>"
      ]
    },
    {
      "cell_type": "code",
      "source": [
        "!pip install nltk\n",
        "!pip install nxviz"
      ],
      "metadata": {
        "colab": {
          "base_uri": "https://localhost:8080/"
        },
        "id": "ZePMv8zmrHBV",
        "outputId": "525dbd1b-8814-4ec0-c25c-99eba93d8051"
      },
      "execution_count": 1,
      "outputs": [
        {
          "output_type": "stream",
          "name": "stdout",
          "text": [
            "Requirement already satisfied: nltk in /usr/local/lib/python3.10/dist-packages (3.8.1)\n",
            "Requirement already satisfied: click in /usr/local/lib/python3.10/dist-packages (from nltk) (8.1.7)\n",
            "Requirement already satisfied: joblib in /usr/local/lib/python3.10/dist-packages (from nltk) (1.4.2)\n",
            "Requirement already satisfied: regex>=2021.8.3 in /usr/local/lib/python3.10/dist-packages (from nltk) (2024.5.15)\n",
            "Requirement already satisfied: tqdm in /usr/local/lib/python3.10/dist-packages (from nltk) (4.66.4)\n",
            "Collecting nxviz\n",
            "  Downloading nxviz-0.7.4-py3-none-any.whl (28 kB)\n",
            "Requirement already satisfied: matplotlib>=3.3.3 in /usr/local/lib/python3.10/dist-packages (from nxviz) (3.7.1)\n",
            "Requirement already satisfied: more-itertools>=8.6.0 in /usr/local/lib/python3.10/dist-packages (from nxviz) (10.1.0)\n",
            "Requirement already satisfied: networkx>=2.5 in /usr/local/lib/python3.10/dist-packages (from nxviz) (3.3)\n",
            "Requirement already satisfied: numpy>=1.19.4 in /usr/local/lib/python3.10/dist-packages (from nxviz) (1.25.2)\n",
            "Collecting palettable>=3.3.0 (from nxviz)\n",
            "  Downloading palettable-3.3.3-py2.py3-none-any.whl (332 kB)\n",
            "\u001b[2K     \u001b[90m━━━━━━━━━━━━━━━━━━━━━━━━━━━━━━━━━━━━━━━━\u001b[0m \u001b[32m332.3/332.3 kB\u001b[0m \u001b[31m3.6 MB/s\u001b[0m eta \u001b[36m0:00:00\u001b[0m\n",
            "\u001b[?25hRequirement already satisfied: pandas>=1.2.0 in /usr/local/lib/python3.10/dist-packages (from nxviz) (2.0.3)\n",
            "Requirement already satisfied: seaborn>=0.11.1 in /usr/local/lib/python3.10/dist-packages (from nxviz) (0.13.1)\n",
            "Requirement already satisfied: contourpy>=1.0.1 in /usr/local/lib/python3.10/dist-packages (from matplotlib>=3.3.3->nxviz) (1.2.1)\n",
            "Requirement already satisfied: cycler>=0.10 in /usr/local/lib/python3.10/dist-packages (from matplotlib>=3.3.3->nxviz) (0.12.1)\n",
            "Requirement already satisfied: fonttools>=4.22.0 in /usr/local/lib/python3.10/dist-packages (from matplotlib>=3.3.3->nxviz) (4.53.0)\n",
            "Requirement already satisfied: kiwisolver>=1.0.1 in /usr/local/lib/python3.10/dist-packages (from matplotlib>=3.3.3->nxviz) (1.4.5)\n",
            "Requirement already satisfied: packaging>=20.0 in /usr/local/lib/python3.10/dist-packages (from matplotlib>=3.3.3->nxviz) (24.0)\n",
            "Requirement already satisfied: pillow>=6.2.0 in /usr/local/lib/python3.10/dist-packages (from matplotlib>=3.3.3->nxviz) (9.4.0)\n",
            "Requirement already satisfied: pyparsing>=2.3.1 in /usr/local/lib/python3.10/dist-packages (from matplotlib>=3.3.3->nxviz) (3.1.2)\n",
            "Requirement already satisfied: python-dateutil>=2.7 in /usr/local/lib/python3.10/dist-packages (from matplotlib>=3.3.3->nxviz) (2.8.2)\n",
            "Requirement already satisfied: pytz>=2020.1 in /usr/local/lib/python3.10/dist-packages (from pandas>=1.2.0->nxviz) (2023.4)\n",
            "Requirement already satisfied: tzdata>=2022.1 in /usr/local/lib/python3.10/dist-packages (from pandas>=1.2.0->nxviz) (2024.1)\n",
            "Requirement already satisfied: six>=1.5 in /usr/local/lib/python3.10/dist-packages (from python-dateutil>=2.7->matplotlib>=3.3.3->nxviz) (1.16.0)\n",
            "Installing collected packages: palettable, nxviz\n",
            "Successfully installed nxviz-0.7.4 palettable-3.3.3\n"
          ]
        }
      ]
    },
    {
      "cell_type": "code",
      "execution_count": 2,
      "metadata": {
        "id": "aJC_zbAMe5D5",
        "colab": {
          "base_uri": "https://localhost:8080/"
        },
        "outputId": "8e2565bf-b86b-471a-cdc0-6e9009e9f7bf"
      },
      "outputs": [
        {
          "output_type": "stream",
          "name": "stderr",
          "text": [
            "/usr/local/lib/python3.10/dist-packages/nxviz/__init__.py:18: UserWarning: \n",
            "nxviz has a new API! Version 0.7.4 onwards, the old class-based API is being\n",
            "deprecated in favour of a new API focused on advancing a grammar of network\n",
            "graphics. If your plotting code depends on the old API, please consider\n",
            "pinning nxviz at version 0.7.4, as the new API will break your old code.\n",
            "\n",
            "To check out the new API, please head over to the docs at\n",
            "https://ericmjl.github.io/nxviz/ to learn more. We hope you enjoy using it!\n",
            "\n",
            "(This deprecation message will go away in version 1.0.)\n",
            "\n",
            "  warnings.warn(\n",
            "[nltk_data] Downloading package punkt to /root/nltk_data...\n",
            "[nltk_data]   Unzipping tokenizers/punkt.zip.\n",
            "[nltk_data] Downloading package averaged_perceptron_tagger to\n",
            "[nltk_data]     /root/nltk_data...\n",
            "[nltk_data]   Unzipping taggers/averaged_perceptron_tagger.zip.\n",
            "[nltk_data] Downloading package maxent_ne_chunker to\n",
            "[nltk_data]     /root/nltk_data...\n",
            "[nltk_data]   Unzipping chunkers/maxent_ne_chunker.zip.\n",
            "[nltk_data] Downloading package words to /root/nltk_data...\n",
            "[nltk_data]   Unzipping corpora/words.zip.\n",
            "[nltk_data] Downloading package stopwords to /root/nltk_data...\n",
            "[nltk_data]   Unzipping corpora/stopwords.zip.\n",
            "[nltk_data] Downloading package wordnet to /root/nltk_data...\n"
          ]
        },
        {
          "output_type": "execute_result",
          "data": {
            "text/plain": [
              "True"
            ]
          },
          "metadata": {},
          "execution_count": 2
        }
      ],
      "source": [
        "import pandas as pd\n",
        "import matplotlib.pyplot as plt\n",
        "import nltk\n",
        "import collections\n",
        "from gensim.corpora.dictionary import Dictionary\n",
        "from gensim.models.tfidfmodel import TfidfModel\n",
        "import itertools\n",
        "from textblob import TextBlob\n",
        "from wordcloud import WordCloud\n",
        "from sklearn.feature_extraction.text import CountVectorizer, ENGLISH_STOP_WORDS\n",
        "import networkx as nx\n",
        "import nxviz as nv\n",
        "from nxviz import annotate\n",
        "\n",
        "nltk.download(\"punkt\")\n",
        "nltk.download(\"averaged_perceptron_tagger\")\n",
        "nltk.download('maxent_ne_chunker')\n",
        "nltk.download('words')\n",
        "nltk.download('stopwords')\n",
        "nltk.download('wordnet')"
      ]
    },
    {
      "cell_type": "code",
      "source": [
        "def month_to_number(month):\n",
        "  months = {\"january\": \"1\", \"february\": \"2\", \"march\": \"3\", \"april\": \"4\", \"may\": \"5\", \"june\": \"6\", \"july\": \"7\", \\\n",
        "            \"august\": \"8\", \"september\": \"9\", \"october\": \"10\", \"november\": \"11\", \"december\": \"12\"}\n",
        "  month = month.lower()\n",
        "  numerical = months[month]\n",
        "  return numerical\n",
        "\n",
        "def to_date(string):\n",
        "  elements = string.split(',')\n",
        "  year = elements[-1].strip()\n",
        "  month, day = elements[-2].split()\n",
        "  month = month_to_number(month)\n",
        "  date = f'{year}-{month}-{day}'\n",
        "  return date"
      ],
      "metadata": {
        "id": "mb_OqgtZris6"
      },
      "execution_count": 3,
      "outputs": []
    },
    {
      "cell_type": "code",
      "source": [
        "def clean_df(df):\n",
        "  df = pd.read_excel(df)\n",
        "  df = df.fillna('n/a')\n",
        "  df = df.drop(df[df['Mention of Adam smith'].str.contains('NA')].index)\n",
        "  df = df.drop(df[df['Mention of Adam smith'].str.contains('n/a')].index)\n",
        "  df.columns = ['Date', 'Extract', 'Notes', 'Notes2', 'About Adam Smith', 'Rep']\n",
        "  dates = []\n",
        "  for index, row in df.iterrows():\n",
        "    dates.append(to_date(row['Date']))\n",
        "  df['Date'] = dates\n",
        "  df['Date'] = pd.to_datetime(df['Date'])\n",
        "  df = df.set_index('Date').sort_index()\n",
        "  return df\n",
        "df = clean_df('https://github.com/yuliiabosher/Adam_Smith_project/raw/main/adam_smith.xlsx')\n",
        "display(df.head())"
      ],
      "metadata": {
        "id": "O4KXpehzfNzX",
        "outputId": "a21eb26a-3189-434e-e12d-b851b7583471",
        "colab": {
          "base_uri": "https://localhost:8080/",
          "height": 257
        }
      },
      "execution_count": 4,
      "outputs": [
        {
          "output_type": "display_data",
          "data": {
            "text/plain": [
              "                                                      Extract Notes Notes2  \\\n",
              "Date                                                                         \n",
              "2008-06-10  Democrats will claim this bill will bring gas ...   n/a    n/a   \n",
              "2008-06-12  The sad truth is that the bulk of the EADS tan...   n/a    n/a   \n",
              "2008-07-10  The father of modern capitalism, Adam Smith, o...   n/a    n/a   \n",
              "2008-07-15  This gold is not coming back on the market. Su...   n/a    n/a   \n",
              "2008-07-23  There are those who will object to the bill be...   n/a    n/a   \n",
              "\n",
              "                                             About Adam Smith  \\\n",
              "Date                                                            \n",
              "2008-06-10                                                n/a   \n",
              "2008-06-12                                                n/a   \n",
              "2008-07-10                                                n/a   \n",
              "2008-07-15                                                n/a   \n",
              "2008-07-23  -‘‘The Wealth of Nations”\\n- Those exertions o...   \n",
              "\n",
              "                                                   Rep  \n",
              "Date                                                    \n",
              "2008-06-10          Mitch McConnell \\nRepublican Party  \n",
              "2008-06-12   Donald Anthony Manzullo\\nRepublican Party  \n",
              "2008-07-10  Joseph Isadore Lieberman\\nDemocratic Party  \n",
              "2008-07-15                Steve King\\nRepublican Party  \n",
              "2008-07-23  Joseph Isadore Lieberman\\nDemocratic Party  "
            ],
            "text/html": [
              "\n",
              "  <div id=\"df-70916120-7593-4ad0-a331-a9b9e2d51f02\" class=\"colab-df-container\">\n",
              "    <div>\n",
              "<style scoped>\n",
              "    .dataframe tbody tr th:only-of-type {\n",
              "        vertical-align: middle;\n",
              "    }\n",
              "\n",
              "    .dataframe tbody tr th {\n",
              "        vertical-align: top;\n",
              "    }\n",
              "\n",
              "    .dataframe thead th {\n",
              "        text-align: right;\n",
              "    }\n",
              "</style>\n",
              "<table border=\"1\" class=\"dataframe\">\n",
              "  <thead>\n",
              "    <tr style=\"text-align: right;\">\n",
              "      <th></th>\n",
              "      <th>Extract</th>\n",
              "      <th>Notes</th>\n",
              "      <th>Notes2</th>\n",
              "      <th>About Adam Smith</th>\n",
              "      <th>Rep</th>\n",
              "    </tr>\n",
              "    <tr>\n",
              "      <th>Date</th>\n",
              "      <th></th>\n",
              "      <th></th>\n",
              "      <th></th>\n",
              "      <th></th>\n",
              "      <th></th>\n",
              "    </tr>\n",
              "  </thead>\n",
              "  <tbody>\n",
              "    <tr>\n",
              "      <th>2008-06-10</th>\n",
              "      <td>Democrats will claim this bill will bring gas ...</td>\n",
              "      <td>n/a</td>\n",
              "      <td>n/a</td>\n",
              "      <td>n/a</td>\n",
              "      <td>Mitch McConnell \\nRepublican Party</td>\n",
              "    </tr>\n",
              "    <tr>\n",
              "      <th>2008-06-12</th>\n",
              "      <td>The sad truth is that the bulk of the EADS tan...</td>\n",
              "      <td>n/a</td>\n",
              "      <td>n/a</td>\n",
              "      <td>n/a</td>\n",
              "      <td>Donald Anthony Manzullo\\nRepublican Party</td>\n",
              "    </tr>\n",
              "    <tr>\n",
              "      <th>2008-07-10</th>\n",
              "      <td>The father of modern capitalism, Adam Smith, o...</td>\n",
              "      <td>n/a</td>\n",
              "      <td>n/a</td>\n",
              "      <td>n/a</td>\n",
              "      <td>Joseph Isadore Lieberman\\nDemocratic Party</td>\n",
              "    </tr>\n",
              "    <tr>\n",
              "      <th>2008-07-15</th>\n",
              "      <td>This gold is not coming back on the market. Su...</td>\n",
              "      <td>n/a</td>\n",
              "      <td>n/a</td>\n",
              "      <td>n/a</td>\n",
              "      <td>Steve King\\nRepublican Party</td>\n",
              "    </tr>\n",
              "    <tr>\n",
              "      <th>2008-07-23</th>\n",
              "      <td>There are those who will object to the bill be...</td>\n",
              "      <td>n/a</td>\n",
              "      <td>n/a</td>\n",
              "      <td>-‘‘The Wealth of Nations”\\n- Those exertions o...</td>\n",
              "      <td>Joseph Isadore Lieberman\\nDemocratic Party</td>\n",
              "    </tr>\n",
              "  </tbody>\n",
              "</table>\n",
              "</div>\n",
              "    <div class=\"colab-df-buttons\">\n",
              "\n",
              "  <div class=\"colab-df-container\">\n",
              "    <button class=\"colab-df-convert\" onclick=\"convertToInteractive('df-70916120-7593-4ad0-a331-a9b9e2d51f02')\"\n",
              "            title=\"Convert this dataframe to an interactive table.\"\n",
              "            style=\"display:none;\">\n",
              "\n",
              "  <svg xmlns=\"http://www.w3.org/2000/svg\" height=\"24px\" viewBox=\"0 -960 960 960\">\n",
              "    <path d=\"M120-120v-720h720v720H120Zm60-500h600v-160H180v160Zm220 220h160v-160H400v160Zm0 220h160v-160H400v160ZM180-400h160v-160H180v160Zm440 0h160v-160H620v160ZM180-180h160v-160H180v160Zm440 0h160v-160H620v160Z\"/>\n",
              "  </svg>\n",
              "    </button>\n",
              "\n",
              "  <style>\n",
              "    .colab-df-container {\n",
              "      display:flex;\n",
              "      gap: 12px;\n",
              "    }\n",
              "\n",
              "    .colab-df-convert {\n",
              "      background-color: #E8F0FE;\n",
              "      border: none;\n",
              "      border-radius: 50%;\n",
              "      cursor: pointer;\n",
              "      display: none;\n",
              "      fill: #1967D2;\n",
              "      height: 32px;\n",
              "      padding: 0 0 0 0;\n",
              "      width: 32px;\n",
              "    }\n",
              "\n",
              "    .colab-df-convert:hover {\n",
              "      background-color: #E2EBFA;\n",
              "      box-shadow: 0px 1px 2px rgba(60, 64, 67, 0.3), 0px 1px 3px 1px rgba(60, 64, 67, 0.15);\n",
              "      fill: #174EA6;\n",
              "    }\n",
              "\n",
              "    .colab-df-buttons div {\n",
              "      margin-bottom: 4px;\n",
              "    }\n",
              "\n",
              "    [theme=dark] .colab-df-convert {\n",
              "      background-color: #3B4455;\n",
              "      fill: #D2E3FC;\n",
              "    }\n",
              "\n",
              "    [theme=dark] .colab-df-convert:hover {\n",
              "      background-color: #434B5C;\n",
              "      box-shadow: 0px 1px 3px 1px rgba(0, 0, 0, 0.15);\n",
              "      filter: drop-shadow(0px 1px 2px rgba(0, 0, 0, 0.3));\n",
              "      fill: #FFFFFF;\n",
              "    }\n",
              "  </style>\n",
              "\n",
              "    <script>\n",
              "      const buttonEl =\n",
              "        document.querySelector('#df-70916120-7593-4ad0-a331-a9b9e2d51f02 button.colab-df-convert');\n",
              "      buttonEl.style.display =\n",
              "        google.colab.kernel.accessAllowed ? 'block' : 'none';\n",
              "\n",
              "      async function convertToInteractive(key) {\n",
              "        const element = document.querySelector('#df-70916120-7593-4ad0-a331-a9b9e2d51f02');\n",
              "        const dataTable =\n",
              "          await google.colab.kernel.invokeFunction('convertToInteractive',\n",
              "                                                    [key], {});\n",
              "        if (!dataTable) return;\n",
              "\n",
              "        const docLinkHtml = 'Like what you see? Visit the ' +\n",
              "          '<a target=\"_blank\" href=https://colab.research.google.com/notebooks/data_table.ipynb>data table notebook</a>'\n",
              "          + ' to learn more about interactive tables.';\n",
              "        element.innerHTML = '';\n",
              "        dataTable['output_type'] = 'display_data';\n",
              "        await google.colab.output.renderOutput(dataTable, element);\n",
              "        const docLink = document.createElement('div');\n",
              "        docLink.innerHTML = docLinkHtml;\n",
              "        element.appendChild(docLink);\n",
              "      }\n",
              "    </script>\n",
              "  </div>\n",
              "\n",
              "\n",
              "<div id=\"df-c47f5429-a51a-484f-a2f4-c3e4fff96d99\">\n",
              "  <button class=\"colab-df-quickchart\" onclick=\"quickchart('df-c47f5429-a51a-484f-a2f4-c3e4fff96d99')\"\n",
              "            title=\"Suggest charts\"\n",
              "            style=\"display:none;\">\n",
              "\n",
              "<svg xmlns=\"http://www.w3.org/2000/svg\" height=\"24px\"viewBox=\"0 0 24 24\"\n",
              "     width=\"24px\">\n",
              "    <g>\n",
              "        <path d=\"M19 3H5c-1.1 0-2 .9-2 2v14c0 1.1.9 2 2 2h14c1.1 0 2-.9 2-2V5c0-1.1-.9-2-2-2zM9 17H7v-7h2v7zm4 0h-2V7h2v10zm4 0h-2v-4h2v4z\"/>\n",
              "    </g>\n",
              "</svg>\n",
              "  </button>\n",
              "\n",
              "<style>\n",
              "  .colab-df-quickchart {\n",
              "      --bg-color: #E8F0FE;\n",
              "      --fill-color: #1967D2;\n",
              "      --hover-bg-color: #E2EBFA;\n",
              "      --hover-fill-color: #174EA6;\n",
              "      --disabled-fill-color: #AAA;\n",
              "      --disabled-bg-color: #DDD;\n",
              "  }\n",
              "\n",
              "  [theme=dark] .colab-df-quickchart {\n",
              "      --bg-color: #3B4455;\n",
              "      --fill-color: #D2E3FC;\n",
              "      --hover-bg-color: #434B5C;\n",
              "      --hover-fill-color: #FFFFFF;\n",
              "      --disabled-bg-color: #3B4455;\n",
              "      --disabled-fill-color: #666;\n",
              "  }\n",
              "\n",
              "  .colab-df-quickchart {\n",
              "    background-color: var(--bg-color);\n",
              "    border: none;\n",
              "    border-radius: 50%;\n",
              "    cursor: pointer;\n",
              "    display: none;\n",
              "    fill: var(--fill-color);\n",
              "    height: 32px;\n",
              "    padding: 0;\n",
              "    width: 32px;\n",
              "  }\n",
              "\n",
              "  .colab-df-quickchart:hover {\n",
              "    background-color: var(--hover-bg-color);\n",
              "    box-shadow: 0 1px 2px rgba(60, 64, 67, 0.3), 0 1px 3px 1px rgba(60, 64, 67, 0.15);\n",
              "    fill: var(--button-hover-fill-color);\n",
              "  }\n",
              "\n",
              "  .colab-df-quickchart-complete:disabled,\n",
              "  .colab-df-quickchart-complete:disabled:hover {\n",
              "    background-color: var(--disabled-bg-color);\n",
              "    fill: var(--disabled-fill-color);\n",
              "    box-shadow: none;\n",
              "  }\n",
              "\n",
              "  .colab-df-spinner {\n",
              "    border: 2px solid var(--fill-color);\n",
              "    border-color: transparent;\n",
              "    border-bottom-color: var(--fill-color);\n",
              "    animation:\n",
              "      spin 1s steps(1) infinite;\n",
              "  }\n",
              "\n",
              "  @keyframes spin {\n",
              "    0% {\n",
              "      border-color: transparent;\n",
              "      border-bottom-color: var(--fill-color);\n",
              "      border-left-color: var(--fill-color);\n",
              "    }\n",
              "    20% {\n",
              "      border-color: transparent;\n",
              "      border-left-color: var(--fill-color);\n",
              "      border-top-color: var(--fill-color);\n",
              "    }\n",
              "    30% {\n",
              "      border-color: transparent;\n",
              "      border-left-color: var(--fill-color);\n",
              "      border-top-color: var(--fill-color);\n",
              "      border-right-color: var(--fill-color);\n",
              "    }\n",
              "    40% {\n",
              "      border-color: transparent;\n",
              "      border-right-color: var(--fill-color);\n",
              "      border-top-color: var(--fill-color);\n",
              "    }\n",
              "    60% {\n",
              "      border-color: transparent;\n",
              "      border-right-color: var(--fill-color);\n",
              "    }\n",
              "    80% {\n",
              "      border-color: transparent;\n",
              "      border-right-color: var(--fill-color);\n",
              "      border-bottom-color: var(--fill-color);\n",
              "    }\n",
              "    90% {\n",
              "      border-color: transparent;\n",
              "      border-bottom-color: var(--fill-color);\n",
              "    }\n",
              "  }\n",
              "</style>\n",
              "\n",
              "  <script>\n",
              "    async function quickchart(key) {\n",
              "      const quickchartButtonEl =\n",
              "        document.querySelector('#' + key + ' button');\n",
              "      quickchartButtonEl.disabled = true;  // To prevent multiple clicks.\n",
              "      quickchartButtonEl.classList.add('colab-df-spinner');\n",
              "      try {\n",
              "        const charts = await google.colab.kernel.invokeFunction(\n",
              "            'suggestCharts', [key], {});\n",
              "      } catch (error) {\n",
              "        console.error('Error during call to suggestCharts:', error);\n",
              "      }\n",
              "      quickchartButtonEl.classList.remove('colab-df-spinner');\n",
              "      quickchartButtonEl.classList.add('colab-df-quickchart-complete');\n",
              "    }\n",
              "    (() => {\n",
              "      let quickchartButtonEl =\n",
              "        document.querySelector('#df-c47f5429-a51a-484f-a2f4-c3e4fff96d99 button');\n",
              "      quickchartButtonEl.style.display =\n",
              "        google.colab.kernel.accessAllowed ? 'block' : 'none';\n",
              "    })();\n",
              "  </script>\n",
              "</div>\n",
              "    </div>\n",
              "  </div>\n"
            ],
            "application/vnd.google.colaboratory.intrinsic+json": {
              "type": "dataframe",
              "summary": "{\n  \"name\": \"display(df\",\n  \"rows\": 5,\n  \"fields\": [\n    {\n      \"column\": \"Date\",\n      \"properties\": {\n        \"dtype\": \"date\",\n        \"min\": \"2008-06-10 00:00:00\",\n        \"max\": \"2008-07-23 00:00:00\",\n        \"num_unique_values\": 5,\n        \"samples\": [\n          \"2008-06-12 00:00:00\",\n          \"2008-07-23 00:00:00\",\n          \"2008-07-10 00:00:00\"\n        ],\n        \"semantic_type\": \"\",\n        \"description\": \"\"\n      }\n    },\n    {\n      \"column\": \"Extract\",\n      \"properties\": {\n        \"dtype\": \"string\",\n        \"num_unique_values\": 5,\n        \"samples\": [\n          \"The sad truth is that the bulk of the EADS tanker will be built in Europe. Yet, current policies prohibit the Pentagon from considering the U.S. industrial base during a major defense acquisition. This must change. We must have the ability to build the weapons necessary to defend ourselves to be a great nation. Even Adam Smith agrees.\",\n          \"There are those who will object to the bill because they think that government should never interfere in free markets. The father of capitalism, Adam Smith, noted in \\u2018\\u2018The Wealth of Nations,\\u2019\\u2019 the great classic text on capitalism, that even in a free market, there needs to be some limits. He wrote: Those exertions of the natural liberty of a few individuals which may endanger the security of the whole society are and ought to be restrained by the laws of all governments.\",\n          \"The father of modern capitalism, Adam Smith, overall wanted to limit the role of government in free markets. In fact, in \\u2018\\u2018The Wealth of Nations\\u2019\\u2019 Smith said speculators served many useful functions in a free market and many of his observations are still true today. But Smith knew there had to be limits, writing: \\u2018\\u2018those exertions of the natural liberty of a few individuals, which may endanger the security of the whole society, are, and ought to be, restrained by the laws of all governments.\\u2019\"\n        ],\n        \"semantic_type\": \"\",\n        \"description\": \"\"\n      }\n    },\n    {\n      \"column\": \"Notes\",\n      \"properties\": {\n        \"dtype\": \"category\",\n        \"num_unique_values\": 1,\n        \"samples\": [\n          \"n/a\"\n        ],\n        \"semantic_type\": \"\",\n        \"description\": \"\"\n      }\n    },\n    {\n      \"column\": \"Notes2\",\n      \"properties\": {\n        \"dtype\": \"category\",\n        \"num_unique_values\": 1,\n        \"samples\": [\n          \"n/a\"\n        ],\n        \"semantic_type\": \"\",\n        \"description\": \"\"\n      }\n    },\n    {\n      \"column\": \"About Adam Smith\",\n      \"properties\": {\n        \"dtype\": \"category\",\n        \"num_unique_values\": 2,\n        \"samples\": [\n          \"-\\u2018\\u2018The Wealth of Nations\\u201d\\n- Those exertions of the natural liberty of a few individuals which may endanger the security of the whole society are and ought to be restrained by the laws of all governments\"\n        ],\n        \"semantic_type\": \"\",\n        \"description\": \"\"\n      }\n    },\n    {\n      \"column\": \"Rep\",\n      \"properties\": {\n        \"dtype\": \"string\",\n        \"num_unique_values\": 4,\n        \"samples\": [\n          \"Donald Anthony Manzullo\\nRepublican Party\"\n        ],\n        \"semantic_type\": \"\",\n        \"description\": \"\"\n      }\n    }\n  ]\n}"
            }
          },
          "metadata": {}
        }
      ]
    },
    {
      "cell_type": "code",
      "source": [
        "def create_histogram(df):\n",
        "  #styles 'fast','fivethirtyeight'',',''seaborn-v0_8-whitegrid'\n",
        "  fig, ax = plt.subplots()\n",
        "  plt.style.use('seaborn-v0_8-whitegrid')\n",
        "  plt.hist(df.index, color='#D1870A')\n",
        "  font = {'family':'fantasy','color':'black','size':15}\n",
        "  plt.xlabel('Year', fontdict = font)\n",
        "  plt.ylabel('Frequency of mentions', fontdict = font)\n",
        "  plt.title('Frequency of Adam Smith mentions in each year between 1995 and 2024', fontdict = font)\n",
        "  plt.show()\n",
        "\n",
        "create_histogram(df)"
      ],
      "metadata": {
        "id": "yxdsbnEZ9kPP",
        "outputId": "0a433f3b-1cba-4582-89cf-33f2b095b6e5",
        "colab": {
          "base_uri": "https://localhost:8080/",
          "height": 495
        }
      },
      "execution_count": 5,
      "outputs": [
        {
          "output_type": "display_data",
          "data": {
            "text/plain": [
              "<Figure size 640x480 with 1 Axes>"
            ],
            "image/png": "[encoded data removed]"
          },
          "metadata": {}
        }
      ]
    },
    {
      "cell_type": "code",
      "source": [
        "def tokenize_df(df):\n",
        "  tokens = [nltk.word_tokenize(row['Extract']) for index, row in df.iterrows()]\n",
        "  return tokens\n",
        "\n",
        "token_list = tokenize_df(df)\n",
        "print(token_list[0][:10])"
      ],
      "metadata": {
        "colab": {
          "base_uri": "https://localhost:8080/"
        },
        "id": "JPMvHprFG0aB",
        "outputId": "ab39d8da-d34f-4962-aaf7-b8501601ad75"
      },
      "execution_count": 6,
      "outputs": [
        {
          "output_type": "stream",
          "name": "stdout",
          "text": [
            "['Democrats', 'will', 'claim', 'this', 'bill', 'will', 'bring', 'gas', 'prices', 'down']\n"
          ]
        }
      ]
    },
    {
      "cell_type": "code",
      "source": [
        "def preprocess_tokens(list_of_lists):\n",
        "  lower_tokens = [[t.lower() for t in list_of_tokens] for list_of_tokens in list_of_lists for t in list_of_tokens]\n",
        "  alpha_num_only = [[t for t in token_list if t.isalnum()] for token_list in lower_tokens]\n",
        "  stopwords = nltk.corpus.stopwords.words('english')\n",
        "  stopwords.extend(['adam', 'smith', 'get', 'like', 'said', 'go', 'going', 'would', 'mean', 'well', 'never', 'read', 'wrote', 'see', 'one'])\n",
        "  no_stops = [[t for t in alpha_list if t not in stopwords] for alpha_list in alpha_num_only]\n",
        "  wordnet_lemmatizer = nltk.stem.WordNetLemmatizer()\n",
        "  lemmatized = [[wordnet_lemmatizer.lemmatize(t) for t in no_stops_list] for no_stops_list in no_stops]\n",
        "  return lemmatized\n",
        "\n",
        "preprocessed = preprocess_tokens(token_list)\n",
        "print(preprocessed[0][:10])"
      ],
      "metadata": {
        "id": "2jXp10MNMD_i",
        "outputId": "d62efc1a-9a2c-46fd-aa8f-b01dd563136a",
        "colab": {
          "base_uri": "https://localhost:8080/"
        }
      },
      "execution_count": 54,
      "outputs": [
        {
          "output_type": "stream",
          "name": "stdout",
          "text": [
            "['democrat', 'claim', 'bill', 'bring', 'gas', 'price', 'counting', 'american', 'forget', 'basic']\n"
          ]
        }
      ]
    },
    {
      "cell_type": "code",
      "source": [
        "def create_corpus(preprocessed_data):\n",
        "  dictionary = Dictionary(preprocessed)\n",
        "  corpus = [dictionary.doc2bow(article) for article in preprocessed]\n",
        "  return dictionary, corpus\n",
        "\n",
        "dictionary, corpus = create_corpus(preprocessed)\n",
        "print(corpus[0][:10])"
      ],
      "metadata": {
        "colab": {
          "base_uri": "https://localhost:8080/"
        },
        "id": "TugAwRj76aZ3",
        "outputId": "fc480246-45de-4465-bf04-6f8dbb912c60"
      },
      "execution_count": 55,
      "outputs": [
        {
          "output_type": "stream",
          "name": "stdout",
          "text": [
            "[(0, 1), (1, 1), (2, 1), (3, 1), (4, 1), (5, 1), (6, 1), (7, 1), (8, 1), (9, 1)]\n"
          ]
        }
      ]
    },
    {
      "cell_type": "code",
      "source": [
        "def find_most_frequently_occuring_pairs(corpus):\n",
        "  word_id_list_of_lists = [[i[0] for i in j] for j in corpus]\n",
        "  pair_list_of_lists = [list(itertools.combinations(nested_list,2)) for nested_list in word_id_list_of_lists]\n",
        "  catalogue_of_occurences = collections.defaultdict(int)\n",
        "  for list_of_pairs in pair_list_of_lists:\n",
        "    for pair in list_of_pairs:\n",
        "      catalogue_of_occurences[pair]+=1\n",
        "  most_frequently_occuring_pairs = sorted(list(catalogue_of_occurences.items()), key=lambda x: x[1], reverse=True)[:100]\n",
        "  return most_frequently_occuring_pairs\n",
        "most_frequently_occuring_pairs = find_most_frequently_occuring_pairs(corpus)\n",
        "print(most_frequently_occuring_pairs[:10])"
      ],
      "metadata": {
        "colab": {
          "base_uri": "https://localhost:8080/"
        },
        "id": "ApHOt_dPMZvz",
        "outputId": "08a5a82d-b7fb-4506-c5a4-26256b9c07de"
      },
      "execution_count": 56,
      "outputs": [
        {
          "output_type": "stream",
          "name": "stdout",
          "text": [
            "[((46, 85), 1805), ((61, 69), 1233), ((46, 61), 1159), ((61, 85), 1106), ((85, 133), 951), ((46, 69), 882), ((69, 85), 853), ((61, 63), 761), ((164, 323), 759), ((61, 284), 742)]\n"
          ]
        }
      ]
    },
    {
      "cell_type": "code",
      "source": [
        "for nested_tuple in most_frequently_occuring_pairs:\n",
        "  print(dictionary.get(nested_tuple[0][0]), dictionary.get(nested_tuple[0][1]))"
      ],
      "metadata": {
        "colab": {
          "base_uri": "https://localhost:8080/"
        },
        "id": "ty9YKd7uG6vi",
        "outputId": "e034a568-0238-45e8-884f-ea1b240dc594"
      },
      "execution_count": 57,
      "outputs": [
        {
          "output_type": "stream",
          "name": "stdout",
          "text": [
            "nation wealth\n",
            "free market\n",
            "nation free\n",
            "free wealth\n",
            "wealth 1776\n",
            "nation market\n",
            "market wealth\n",
            "free government\n",
            "hand invisible\n",
            "free enterprise\n",
            "nation 1776\n",
            "wealth book\n",
            "government market\n",
            "nation think\n",
            "wealth think\n",
            "1776 year\n",
            "nation government\n",
            "nation book\n",
            "wealth year\n",
            "wealth country\n",
            "free economy\n",
            "american market\n",
            "free year\n",
            "wealth published\n",
            "1776 published\n",
            "economy year\n",
            "1776 book\n",
            "wealth scottish\n",
            "nation year\n",
            "cost year\n",
            "nation world\n",
            "nation take\n",
            "wealth people\n",
            "country way\n",
            "government wealth\n",
            "great wealth\n",
            "great nation\n",
            "american free\n",
            "american wealth\n",
            "labor capital\n",
            "wealth revolution\n",
            "economist first\n",
            "hand people\n",
            "wealth first\n",
            "free work\n",
            "wealth work\n",
            "wealth america\n",
            "american america\n",
            "market america\n",
            "capitalism free\n",
            "nation hand\n",
            "nation scottish\n",
            "market scottish\n",
            "wealth way\n",
            "nation economy\n",
            "nation published\n",
            "free book\n",
            "increase billion\n",
            "law natural\n",
            "wealth labor\n",
            "market economy\n",
            "class country\n",
            "nation first\n",
            "market people\n",
            "nation enterprise\n",
            "state united\n",
            "hand consumer\n",
            "country trade\n",
            "economics nation\n",
            "economics wealth\n",
            "free 1776\n",
            "free people\n",
            "nation economist\n",
            "people country\n",
            "actually hand\n",
            "actually invisible\n",
            "year enterprise\n",
            "capitalism wealth\n",
            "nation many\n",
            "people invisible\n",
            "great believe\n",
            "nation father\n",
            "father wealth\n",
            "market think\n",
            "economy competition\n",
            "economy right\n",
            "year competition\n",
            "year right\n",
            "competition right\n",
            "free world\n",
            "way economic\n",
            "think scottish\n",
            "book published\n",
            "individual market\n",
            "american nation\n",
            "american philosopher\n",
            "american scottish\n",
            "free philosopher\n",
            "free scottish\n",
            "market philosopher\n"
          ]
        }
      ]
    },
    {
      "cell_type": "code",
      "source": [
        "G = nx.Graph()\n",
        "nodes = set([i[0] for j in corpus for i in j])\n",
        "G.add_nodes_from(nodes)\n",
        "[G.add_edge(i[0],i[1]) for i in y]\n",
        "for word_id in nodes:\n",
        "  G.nodes[word_id]['label'] = dictionary.get(word_id)\n",
        "labels = {}\n",
        "for node, data in G.nodes(data=True):\n",
        "  labels[node] = data.get('label')\n",
        "nx.draw(G, with_labels=True, labels = labels)\n",
        "G.nodes(data=True)"
      ],
      "metadata": {
        "colab": {
          "base_uri": "https://localhost:8080/",
          "height": 231
        },
        "id": "chTFDYxmMA_W",
        "outputId": "c8cb4218-3298-4267-e996-1d57f63876fb"
      },
      "execution_count": 40,
      "outputs": [
        {
          "output_type": "error",
          "ename": "TypeError",
          "evalue": "'NoneType' object is not iterable",
          "traceback": [
            "\u001b[0;31m---------------------------------------------------------------------------\u001b[0m",
            "\u001b[0;31mTypeError\u001b[0m                                 Traceback (most recent call last)",
            "\u001b[0;32m<ipython-input-40-67f99ee9ee3f>\u001b[0m in \u001b[0;36m<cell line: 4>\u001b[0;34m()\u001b[0m\n\u001b[1;32m      2\u001b[0m \u001b[0mnodes\u001b[0m \u001b[0;34m=\u001b[0m \u001b[0mset\u001b[0m\u001b[0;34m(\u001b[0m\u001b[0;34m[\u001b[0m\u001b[0mi\u001b[0m\u001b[0;34m[\u001b[0m\u001b[0;36m0\u001b[0m\u001b[0;34m]\u001b[0m \u001b[0;32mfor\u001b[0m \u001b[0mj\u001b[0m \u001b[0;32min\u001b[0m \u001b[0mcorpus\u001b[0m \u001b[0;32mfor\u001b[0m \u001b[0mi\u001b[0m \u001b[0;32min\u001b[0m \u001b[0mj\u001b[0m\u001b[0;34m]\u001b[0m\u001b[0;34m)\u001b[0m\u001b[0;34m\u001b[0m\u001b[0;34m\u001b[0m\u001b[0m\n\u001b[1;32m      3\u001b[0m \u001b[0mG\u001b[0m\u001b[0;34m.\u001b[0m\u001b[0madd_nodes_from\u001b[0m\u001b[0;34m(\u001b[0m\u001b[0mnodes\u001b[0m\u001b[0;34m)\u001b[0m\u001b[0;34m\u001b[0m\u001b[0;34m\u001b[0m\u001b[0m\n\u001b[0;32m----> 4\u001b[0;31m \u001b[0;34m[\u001b[0m\u001b[0mG\u001b[0m\u001b[0;34m.\u001b[0m\u001b[0madd_edge\u001b[0m\u001b[0;34m(\u001b[0m\u001b[0mi\u001b[0m\u001b[0;34m[\u001b[0m\u001b[0;36m0\u001b[0m\u001b[0;34m]\u001b[0m\u001b[0;34m,\u001b[0m\u001b[0mi\u001b[0m\u001b[0;34m[\u001b[0m\u001b[0;36m1\u001b[0m\u001b[0;34m]\u001b[0m\u001b[0;34m)\u001b[0m \u001b[0;32mfor\u001b[0m \u001b[0mi\u001b[0m \u001b[0;32min\u001b[0m \u001b[0my\u001b[0m\u001b[0;34m]\u001b[0m\u001b[0;34m\u001b[0m\u001b[0;34m\u001b[0m\u001b[0m\n\u001b[0m\u001b[1;32m      5\u001b[0m \u001b[0;32mfor\u001b[0m \u001b[0mword_id\u001b[0m \u001b[0;32min\u001b[0m \u001b[0mnodes\u001b[0m\u001b[0;34m:\u001b[0m\u001b[0;34m\u001b[0m\u001b[0;34m\u001b[0m\u001b[0m\n\u001b[1;32m      6\u001b[0m   \u001b[0mG\u001b[0m\u001b[0;34m.\u001b[0m\u001b[0mnodes\u001b[0m\u001b[0;34m[\u001b[0m\u001b[0mword_id\u001b[0m\u001b[0;34m]\u001b[0m\u001b[0;34m[\u001b[0m\u001b[0;34m'label'\u001b[0m\u001b[0;34m]\u001b[0m \u001b[0;34m=\u001b[0m \u001b[0mdictionary\u001b[0m\u001b[0;34m.\u001b[0m\u001b[0mget\u001b[0m\u001b[0;34m(\u001b[0m\u001b[0mword_id\u001b[0m\u001b[0;34m)\u001b[0m\u001b[0;34m\u001b[0m\u001b[0;34m\u001b[0m\u001b[0m\n",
            "\u001b[0;31mTypeError\u001b[0m: 'NoneType' object is not iterable"
          ]
        }
      ]
    },
    {
      "cell_type": "code",
      "source": [
        "def visualise_clique(n):\n",
        "  largest_clique = sorted(nx.find_cliques(G), key=lambda x:len(x))[n]\n",
        "  G_lc = G.subgraph(largest_clique)\n",
        "  c = nv.circos(G_lc)\n",
        "  labels = {}\n",
        "  for node, data in G_lc.nodes(data=True):\n",
        "    labels[node] = data.get('label')\n",
        "  G_lc = nx.relabel_nodes(G_lc, labels)\n",
        "  annotate.circos_labels(G_lc,  layout=\"numbers\")\n",
        "  plt.tight_layout(rect=(0.05, 0.05, 0.95, 0.95))\n",
        "  plt.show()\n",
        "visualise_clique(-1)"
      ],
      "metadata": {
        "id": "B2ImNGlxZ7xz"
      },
      "execution_count": null,
      "outputs": []
    },
    {
      "cell_type": "code",
      "source": [
        "visualise_clique(-2)"
      ],
      "metadata": {
        "id": "pHuITuoxs8K8"
      },
      "execution_count": null,
      "outputs": []
    },
    {
      "cell_type": "code",
      "source": [
        "visualise_clique(-3)"
      ],
      "metadata": {
        "id": "GqzBIIZhs_oG"
      },
      "execution_count": null,
      "outputs": []
    },
    {
      "cell_type": "code",
      "source": [
        "visualise_clique(-4)"
      ],
      "metadata": {
        "id": "CohyUfICtFTF"
      },
      "execution_count": null,
      "outputs": []
    },
    {
      "cell_type": "code",
      "source": [
        "visualise_clique(-5)"
      ],
      "metadata": {
        "id": "hF_WJJjxtPJw"
      },
      "execution_count": null,
      "outputs": []
    },
    {
      "cell_type": "code",
      "source": [
        "def word_count_desc(corpus):\n",
        "  total_word_count = collections.defaultdict(int)\n",
        "  for word_id, word_count in itertools.chain.from_iterable(corpus):\n",
        "      total_word_count[word_id] += word_count\n",
        "  sorted_word_count = sorted(total_word_count.items(), key=lambda w: w[1], reverse=True)\n",
        "  return sorted_word_count\n",
        "\n",
        "sorted_word_count = word_count_desc(corpus)\n",
        "print(sorted_word_count[:10])"
      ],
      "metadata": {
        "id": "EcmGgcnrIOaR"
      },
      "execution_count": null,
      "outputs": []
    },
    {
      "cell_type": "code",
      "source": [
        "for word_id, word_count in sorted_word_count[:20]:\n",
        "    print(dictionary.get(word_id), word_count)"
      ],
      "metadata": {
        "id": "HPOPOopeJUIr"
      },
      "execution_count": null,
      "outputs": []
    },
    {
      "cell_type": "code",
      "source": [
        "def calculate_weight_of_words(corpus):\n",
        "  try:\n",
        "    tfidf = TfidfModel(corpus)\n",
        "    all_tfidf_weights = []\n",
        "    i=1\n",
        "    while tfidf[corpus[i]]:\n",
        "      tfidf_weights = tfidf[corpus[i]]\n",
        "      sorted_tfidf_weights = sorted(tfidf_weights, key=lambda w: w[1], reverse=True)\n",
        "      all_tfidf_weights.append(sorted_tfidf_weights)\n",
        "      i+=1\n",
        "    return all_tfidf_weights\n",
        "  except IndexError:\n",
        "    return all_tfidf_weights\n",
        "\n",
        "all_tfidf_weights = calculate_weight_of_words(corpus)\n",
        "for term_id, weight in all_tfidf_weights[1][:20]:\n",
        "  print(dictionary.get(term_id), weight)"
      ],
      "metadata": {
        "id": "u75opmmlR2xe"
      },
      "execution_count": null,
      "outputs": []
    },
    {
      "cell_type": "code",
      "source": [
        "def add_extract_length(df):\n",
        "  df['Extract length'] = df['Extract'].str.len()\n",
        "  return df\n",
        "df = add_extract_length(df)\n",
        "display(df.head())"
      ],
      "metadata": {
        "id": "iq2u3iDj2ZhA"
      },
      "execution_count": null,
      "outputs": []
    },
    {
      "cell_type": "code",
      "source": [
        "def check_sentiment(df):\n",
        "  polarity = []\n",
        "  subjectivity = []\n",
        "  for index, row in df.iterrows():\n",
        "    sentiment = TextBlob(row['Extract'])\n",
        "    polarity.append(sentiment.polarity)\n",
        "    subjectivity.append(sentiment.subjectivity)\n",
        "  df['Polarity'] = polarity\n",
        "  df['Subjectivity'] = subjectivity\n",
        "  return df\n",
        "\n",
        "df_sentiments = check_sentiment(df)\n",
        "display(df_sentiments.head())"
      ],
      "metadata": {
        "id": "RUvyOMcg5jyk"
      },
      "execution_count": null,
      "outputs": []
    },
    {
      "cell_type": "code",
      "source": [
        "def plot_subjectivity_score(df):\n",
        "  plt.scatter(df.index, df['Subjectivity'], color='#D1870A')\n",
        "  font = {'family':'fantasy','color':'black','size':15}\n",
        "  plt.ylabel('Subjectivity score from 0 to 1', fontdict = font)\n",
        "  plt.xlabel('Date', fontdict = font)\n",
        "  plt.title('Subjectivity score in congressional record extracts metnioning Adam Smith', fontdict = font)\n",
        "  plt.show()\n",
        "plot_subjectivity_score(df_sentiments)"
      ],
      "metadata": {
        "id": "4Jke_pmC6b7y"
      },
      "execution_count": null,
      "outputs": []
    },
    {
      "cell_type": "code",
      "source": [
        "def plot_polarity_score(df):\n",
        "  plt.scatter(df.index, df['Polarity'])\n",
        "  font = {'family':'fantasy','color':'black','size':15}\n",
        "  plt.ylabel('Polarity score from -1 to 1', fontdict = font)\n",
        "  plt.xlabel('Date', fontdict = font)\n",
        "  plt.title('Polarity score in congressional record extracts metnioning Adam Smith', fontdict = font)\n",
        "  plt.show()\n",
        "plot_polarity_score(df_sentiments)"
      ],
      "metadata": {
        "id": "nMbhdWZkjinR"
      },
      "execution_count": null,
      "outputs": []
    },
    {
      "cell_type": "code",
      "source": [
        "def word_cloud(df):\n",
        "  text = \" \"\n",
        "  for index, row in df.iterrows():\n",
        "    text += \" \"\n",
        "    text += row['Extract']\n",
        "  word_cloud = WordCloud(background_color='white').generate(text)\n",
        "  plt.imshow(word_cloud, interpolation='bilinear')\n",
        "  plt.axis('off')\n",
        "  plt.show()\n",
        "word_cloud(df)"
      ],
      "metadata": {
        "id": "NCZSrbNMIU37"
      },
      "execution_count": null,
      "outputs": []
    },
    {
      "cell_type": "code",
      "source": [
        "def bow_with_ngrams(df):\n",
        "  my_stop_words = list(ENGLISH_STOP_WORDS.union(['adam', 'smith', 'speaker', 'don', 'seen', 'smith' 'wrote', 'actually', 'mr speaker', 'sure', 'said']))\n",
        "  vect = CountVectorizer(ngram_range=(1, 2), max_features=200, stop_words=my_stop_words)\n",
        "  vect.fit(df.Extract)\n",
        "  X_extract = vect.transform(df.Extract)\n",
        "  X_df=pd.DataFrame(X_extract.toarray(), columns=vect.get_feature_names_out())\n",
        "  return X_df\n",
        "display(bow_with_ngrams(df).columns)\n",
        "bow_bigrams = bow_with_ngrams(df).head()\n",
        "print(bow_bigrams)"
      ],
      "metadata": {
        "id": "8pmMe3dwOOSu"
      },
      "execution_count": null,
      "outputs": []
    }
  ]
}
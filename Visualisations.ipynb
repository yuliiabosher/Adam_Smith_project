{
  "nbformat": 4,
  "nbformat_minor": 0,
  "metadata": {
    "colab": {
      "provenance": [],
      "authorship_tag": "ABX9TyM9CtRa01RpQP0htZcNMozo",
      "include_colab_link": true
    },
    "kernelspec": {
      "name": "python3",
      "display_name": "Python 3"
    },
    "language_info": {
      "name": "python"
    }
  },
  "cells": [
    {
      "cell_type": "markdown",
      "metadata": {
        "id": "view-in-github",
        "colab_type": "text"
      },
      "source": [
        "<a href=\"https://colab.research.google.com/github/yuliiabosher/Adam_Smith_project/blob/main/Visualisations.ipynb\" target=\"_parent\"><img src=\"https://colab.research.google.com/assets/colab-badge.svg\" alt=\"Open In Colab\"/></a>"
      ]
    },
    {
      "cell_type": "code",
      "source": [
        "!pip install nltk"
      ],
      "metadata": {
        "colab": {
          "base_uri": "https://localhost:8080/"
        },
        "id": "ZePMv8zmrHBV",
        "outputId": "a54987cb-19ec-4fff-b56e-f627b1c03ad3"
      },
      "execution_count": 1,
      "outputs": [
        {
          "output_type": "stream",
          "name": "stdout",
          "text": [
            "Requirement already satisfied: nltk in /usr/local/lib/python3.10/dist-packages (3.8.1)\n",
            "Requirement already satisfied: click in /usr/local/lib/python3.10/dist-packages (from nltk) (8.1.7)\n",
            "Requirement already satisfied: joblib in /usr/local/lib/python3.10/dist-packages (from nltk) (1.4.2)\n",
            "Requirement already satisfied: regex>=2021.8.3 in /usr/local/lib/python3.10/dist-packages (from nltk) (2024.5.15)\n",
            "Requirement already satisfied: tqdm in /usr/local/lib/python3.10/dist-packages (from nltk) (4.66.4)\n"
          ]
        }
      ]
    },
    {
      "cell_type": "code",
      "execution_count": 69,
      "metadata": {
        "id": "aJC_zbAMe5D5",
        "colab": {
          "base_uri": "https://localhost:8080/"
        },
        "outputId": "5810b4a3-e61c-4049-dd1c-a66d51b152a5"
      },
      "outputs": [
        {
          "output_type": "stream",
          "name": "stderr",
          "text": [
            "[nltk_data] Downloading package punkt to /root/nltk_data...\n",
            "[nltk_data]   Package punkt is already up-to-date!\n",
            "[nltk_data] Downloading package averaged_perceptron_tagger to\n",
            "[nltk_data]     /root/nltk_data...\n",
            "[nltk_data]   Package averaged_perceptron_tagger is already up-to-\n",
            "[nltk_data]       date!\n",
            "[nltk_data] Downloading package maxent_ne_chunker to\n",
            "[nltk_data]     /root/nltk_data...\n",
            "[nltk_data]   Package maxent_ne_chunker is already up-to-date!\n",
            "[nltk_data] Downloading package words to /root/nltk_data...\n",
            "[nltk_data]   Package words is already up-to-date!\n",
            "[nltk_data] Downloading package stopwords to /root/nltk_data...\n",
            "[nltk_data]   Package stopwords is already up-to-date!\n",
            "[nltk_data] Downloading package wordnet to /root/nltk_data...\n",
            "[nltk_data]   Package wordnet is already up-to-date!\n"
          ]
        },
        {
          "output_type": "execute_result",
          "data": {
            "text/plain": [
              "True"
            ]
          },
          "metadata": {},
          "execution_count": 69
        }
      ],
      "source": [
        "import pandas as pd\n",
        "import matplotlib.pyplot as plt\n",
        "import nltk\n",
        "import collections\n",
        "from gensim.corpora.dictionary import Dictionary\n",
        "from gensim.models.tfidfmodel import TfidfModel\n",
        "import itertools\n",
        "\n",
        "nltk.download(\"punkt\")\n",
        "nltk.download(\"averaged_perceptron_tagger\")\n",
        "nltk.download('maxent_ne_chunker')\n",
        "nltk.download('words')\n",
        "nltk.download('stopwords')\n",
        "nltk.download('wordnet')"
      ]
    },
    {
      "cell_type": "code",
      "source": [
        "def month_to_number(month):\n",
        "  months = {\"january\": \"1\", \"february\": \"2\", \"march\": \"3\", \"april\": \"4\", \"may\": \"5\", \"june\": \"6\", \"july\": \"7\", \\\n",
        "            \"august\": \"8\", \"september\": \"9\", \"october\": \"10\", \"november\": \"11\", \"december\": \"12\"}\n",
        "  month = month.lower()\n",
        "  numerical = months[month]\n",
        "  return numerical\n",
        "\n",
        "def to_date(string):\n",
        "  elements = string.split(',')\n",
        "  year = elements[-1].strip()\n",
        "  month, day = elements[-2].split()\n",
        "  month = month_to_number(month)\n",
        "  date = f'{year}-{month}-{day}'\n",
        "  return date"
      ],
      "metadata": {
        "id": "mb_OqgtZris6"
      },
      "execution_count": 3,
      "outputs": []
    },
    {
      "cell_type": "code",
      "source": [
        "def clean_df(df):\n",
        "  df = pd.read_excel(df, skiprows=1)\n",
        "  df = df.fillna('n/a')\n",
        "  df = df.drop(df[df['Mention of Adam smith'].str.contains('NA')].index)\n",
        "  df = df.drop(df[df['Mention of Adam smith'].str.contains('n/a')].index)\n",
        "  df.columns = ['Date', 'Extract', 'Notes', 'Notes2', 'About Adam Smith', 'Rep']\n",
        "  dates = []\n",
        "  for index, row in df.iterrows():\n",
        "    dates.append(to_date(row['Date']))\n",
        "  df['Date'] = dates\n",
        "  df['Date'] = pd.to_datetime(df['Date'])\n",
        "  df = df.set_index('Date').sort_index()\n",
        "  return df\n",
        "df = clean_df('https://github.com/yuliiabosher/Adam_Smith_project/raw/main/adam_smith.xlsx')\n",
        "plt.hist(df.index)"
      ],
      "metadata": {
        "id": "O4KXpehzfNzX",
        "outputId": "bcb22fc0-07e9-4d53-e0bd-0b68853608a0",
        "colab": {
          "base_uri": "https://localhost:8080/",
          "height": 519
        }
      },
      "execution_count": 8,
      "outputs": [
        {
          "output_type": "execute_result",
          "data": {
            "text/plain": [
              "(array([1., 2., 4., 3., 4., 1., 2., 1., 2., 3.]),\n",
              " array([16785., 17049., 17313., 17577., 17841., 18105., 18369., 18633.,\n",
              "        18897., 19161., 19425.]),\n",
              " <BarContainer object of 10 artists>)"
            ]
          },
          "metadata": {},
          "execution_count": 8
        },
        {
          "output_type": "display_data",
          "data": {
            "text/plain": [
              "<Figure size 640x480 with 1 Axes>"
            ],
            "image/png": "[encoded data removed]"
          },
          "metadata": {}
        }
      ]
    },
    {
      "cell_type": "code",
      "source": [
        "def tokenize_df(df):\n",
        "  tokens = [nltk.word_tokenize(row['Extract']) for index, row in df.iterrows()]\n",
        "  return tokens\n",
        "\n",
        "token_list = tokenize_df(df)\n",
        "print(token_list[0][:10])"
      ],
      "metadata": {
        "colab": {
          "base_uri": "https://localhost:8080/"
        },
        "id": "JPMvHprFG0aB",
        "outputId": "e34fe425-2046-4e39-eb47-91c5b0be6115"
      },
      "execution_count": 49,
      "outputs": [
        {
          "output_type": "stream",
          "name": "stdout",
          "text": [
            "['It', 'was', 'on', 'this', 'very', 'day', ',', 'December', '16', ',']\n"
          ]
        }
      ]
    },
    {
      "cell_type": "code",
      "source": [
        "def preprocess_tokens(list_of_lists):\n",
        "  lower_tokens = [[t.lower() for t in list_of_tokens] for list_of_tokens in list_of_lists for t in list_of_tokens]\n",
        "  alpha_only = [[t for t in token_list if t.isalpha()] for token_list in lower_tokens]\n",
        "  no_stops = [[t for t in alpha_list if t not in nltk.corpus.stopwords.words('english')] for alpha_list in alpha_only]\n",
        "  wordnet_lemmatizer = nltk.stem.WordNetLemmatizer()\n",
        "  lemmatized = [[wordnet_lemmatizer.lemmatize(t) for t in no_stops_list] for no_stops_list in no_stops]\n",
        "  return lemmatized\n",
        "\n",
        "preprocessed = preprocess_tokens(token_list)\n",
        "print(preprocessed[0][:10])"
      ],
      "metadata": {
        "id": "2jXp10MNMD_i",
        "outputId": "b740348e-bcfd-42d2-f18a-9420056829df",
        "colab": {
          "base_uri": "https://localhost:8080/"
        }
      },
      "execution_count": 48,
      "outputs": [
        {
          "output_type": "stream",
          "name": "stdout",
          "text": [
            "['day', 'december', 'patriot', 'boston', 'harbor', 'expressed', 'displeasure', 'foreign', 'power', 'influence']\n"
          ]
        }
      ]
    },
    {
      "cell_type": "code",
      "source": [
        "def create_corpus(preprocessed_data):\n",
        "  dictionary = Dictionary(preprocessed)\n",
        "  corpus = [dictionary.doc2bow(article) for article in preprocessed]\n",
        "  return corpus\n",
        "\n",
        "corpus = create_corpus(preprocessed)\n",
        "print(corpus[0][:10])"
      ],
      "metadata": {
        "colab": {
          "base_uri": "https://localhost:8080/"
        },
        "id": "TugAwRj76aZ3",
        "outputId": "4a999fc8-04db-4964-eca0-d8d654c98fbd"
      },
      "execution_count": 53,
      "outputs": [
        {
          "output_type": "stream",
          "name": "stdout",
          "text": [
            "[(0, 1), (1, 1), (2, 1), (3, 2), (4, 3), (5, 1), (6, 1), (7, 1), (8, 1), (9, 1)]\n"
          ]
        }
      ]
    },
    {
      "cell_type": "code",
      "source": [
        "def word_count_desc(corpus):\n",
        "  total_word_count = collections.defaultdict(int)\n",
        "  for word_id, word_count in itertools.chain.from_iterable(corpus):\n",
        "      total_word_count[word_id] += word_count\n",
        "  sorted_word_count = sorted(total_word_count.items(), key=lambda w: w[1], reverse=True)\n",
        "  return sorted_word_count\n",
        "\n",
        "sorted_word_count = word_count_desc(corpus)\n",
        "print(sorted_word_count[:10])"
      ],
      "metadata": {
        "colab": {
          "base_uri": "https://localhost:8080/"
        },
        "id": "EcmGgcnrIOaR",
        "outputId": "ff65f759-3cbe-4905-f39c-1f0ddbe8c0bc"
      },
      "execution_count": 65,
      "outputs": [
        {
          "output_type": "stream",
          "name": "stdout",
          "text": [
            "[(33, 2457), (0, 2318), (119, 1342), (17, 1196), (45, 1080), (104, 1047), (38, 1031), (135, 968), (23, 878), (166, 821)]\n"
          ]
        }
      ]
    },
    {
      "cell_type": "code",
      "source": [
        "for word_id, word_count in sorted_word_count[:20]:\n",
        "    print(dictionary.get(word_id), word_count)"
      ],
      "metadata": {
        "colab": {
          "base_uri": "https://localhost:8080/"
        },
        "id": "HPOPOopeJUIr",
        "outputId": "b8bea5c1-e820-484e-e344-fdbd96bd9aa9"
      },
      "execution_count": 66,
      "outputs": [
        {
          "output_type": "stream",
          "name": "stdout",
          "text": [
            "smith 2457\n",
            "adam 2318\n",
            "wealth 1342\n",
            "free 1196\n",
            "country 1080\n",
            "people 1047\n",
            "would 1031\n",
            "year 968\n",
            "market 878\n",
            "capitalism 821\n",
            "nation 801\n",
            "like 603\n",
            "wrote 601\n",
            "great 529\n",
            "said 527\n",
            "society 504\n",
            "political 495\n",
            "competition 456\n",
            "quote 429\n",
            "world 427\n"
          ]
        }
      ]
    },
    {
      "cell_type": "code",
      "source": [
        "def calculate_weight_of_words(corpus):\n",
        "  tfidf = TfidfModel(corpus)\n",
        "  tfidf_weights = tfidf[corpus[10]]\n",
        "  sorted_tfidf_weights = sorted(tfidf_weights, key=lambda w: w[1], reverse=True)\n",
        "  for term_id, weight in sorted_tfidf_weights[:20]:\n",
        "      print(dictionary.get(term_id), weight)\n",
        "  return sorted_tfidf_weights\n",
        "sorted_tfidf_weights = calculate_weight_of_words(corpus)\n",
        "print(sorted_tfidf_weights)"
      ],
      "metadata": {
        "id": "u75opmmlR2xe",
        "outputId": "cfc3f994-974f-4bc1-c21c-2ce0c596b2cb",
        "colab": {
          "base_uri": "https://localhost:8080/"
        }
      },
      "execution_count": 87,
      "outputs": [
        {
          "output_type": "stream",
          "name": "stdout",
          "text": [
            "commodity 0.4764702349667554\n",
            "boston 0.3176468233111702\n",
            "arbitrarily 0.1588234116555851\n",
            "discriminated 0.1588234116555851\n",
            "displeasure 0.1588234116555851\n",
            "envisioned 0.1588234116555851\n",
            "especially 0.1588234116555851\n",
            "expressed 0.1588234116555851\n",
            "felt 0.1588234116555851\n",
            "foreign 0.1588234116555851\n",
            "harbor 0.1588234116555851\n",
            "influence 0.1588234116555851\n",
            "opportunity 0.1588234116555851\n",
            "owner 0.1588234116555851\n",
            "participant 0.1588234116555851\n",
            "practitioner 0.1588234116555851\n",
            "tea 0.1588234116555851\n",
            "teaching 0.1588234116555851\n",
            "versed 0.1588234116555851\n",
            "yes 0.1588234116555851\n",
            "[(4, 0.4764702349667554), (3, 0.3176468233111702), (2, 0.1588234116555851), (8, 0.1588234116555851), (9, 0.1588234116555851), (11, 0.1588234116555851), (12, 0.1588234116555851), (14, 0.1588234116555851), (15, 0.1588234116555851), (16, 0.1588234116555851), (19, 0.1588234116555851), (20, 0.1588234116555851), (26, 0.1588234116555851), (27, 0.1588234116555851), (28, 0.1588234116555851), (32, 0.1588234116555851), (34, 0.1588234116555851), (35, 0.1588234116555851), (36, 0.1588234116555851), (39, 0.1588234116555851), (6, 0.1537062767308486), (7, 0.13663900968686055), (29, 0.13663900968686055), (1, 0.1233676214623409), (24, 0.12253228512384305), (37, 0.12253228512384305), (13, 0.11853682678083187), (31, 0.11751887244322412), (5, 0.11409816693055135), (21, 0.1104339717632562), (30, 0.1080500376907654), (22, 0.10741750501136631), (25, 0.10741750501136631), (18, 0.10071757015203703), (10, 0.08178064460273209), (23, 0.05955252431974684), (17, 0.05062123353342408), (38, 0.032254109004799594), (33, 0.002406697707000253), (0, 0.0002951111112869668)]\n"
          ]
        }
      ]
    }
  ]
}
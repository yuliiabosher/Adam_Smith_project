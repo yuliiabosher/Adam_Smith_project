{
  "nbformat": 4,
  "nbformat_minor": 0,
  "metadata": {
    "colab": {
      "provenance": [],
      "authorship_tag": "ABX9TyO5MK3xOELRH07cmKftwnr7",
      "include_colab_link": true
    },
    "kernelspec": {
      "name": "python3",
      "display_name": "Python 3"
    },
    "language_info": {
      "name": "python"
    }
  },
  "cells": [
    {
      "cell_type": "markdown",
      "metadata": {
        "id": "view-in-github",
        "colab_type": "text"
      },
      "source": [
        "<a href=\"https://colab.research.google.com/github/yuliiabosher/Adam_Smith_project/blob/main/Visualisations.ipynb\" target=\"_parent\"><img src=\"https://colab.research.google.com/assets/colab-badge.svg\" alt=\"Open In Colab\"/></a>"
      ]
    },
    {
      "cell_type": "code",
      "source": [
        "!pip install nltk"
      ],
      "metadata": {
        "colab": {
          "base_uri": "https://localhost:8080/"
        },
        "id": "ZePMv8zmrHBV",
        "outputId": "a54987cb-19ec-4fff-b56e-f627b1c03ad3"
      },
      "execution_count": 1,
      "outputs": [
        {
          "output_type": "stream",
          "name": "stdout",
          "text": [
            "Requirement already satisfied: nltk in /usr/local/lib/python3.10/dist-packages (3.8.1)\n",
            "Requirement already satisfied: click in /usr/local/lib/python3.10/dist-packages (from nltk) (8.1.7)\n",
            "Requirement already satisfied: joblib in /usr/local/lib/python3.10/dist-packages (from nltk) (1.4.2)\n",
            "Requirement already satisfied: regex>=2021.8.3 in /usr/local/lib/python3.10/dist-packages (from nltk) (2024.5.15)\n",
            "Requirement already satisfied: tqdm in /usr/local/lib/python3.10/dist-packages (from nltk) (4.66.4)\n"
          ]
        }
      ]
    },
    {
      "cell_type": "code",
      "execution_count": 2,
      "metadata": {
        "id": "aJC_zbAMe5D5",
        "colab": {
          "base_uri": "https://localhost:8080/"
        },
        "outputId": "e599df9c-b890-49cd-a4a6-017d7050ae0f"
      },
      "outputs": [
        {
          "output_type": "stream",
          "name": "stderr",
          "text": [
            "[nltk_data] Downloading package punkt to /root/nltk_data...\n",
            "[nltk_data]   Unzipping tokenizers/punkt.zip.\n",
            "[nltk_data] Downloading package averaged_perceptron_tagger to\n",
            "[nltk_data]     /root/nltk_data...\n",
            "[nltk_data]   Unzipping taggers/averaged_perceptron_tagger.zip.\n",
            "[nltk_data] Downloading package maxent_ne_chunker to\n",
            "[nltk_data]     /root/nltk_data...\n",
            "[nltk_data]   Unzipping chunkers/maxent_ne_chunker.zip.\n",
            "[nltk_data] Downloading package words to /root/nltk_data...\n",
            "[nltk_data]   Unzipping corpora/words.zip.\n",
            "[nltk_data] Downloading package stopwords to /root/nltk_data...\n",
            "[nltk_data]   Unzipping corpora/stopwords.zip.\n",
            "[nltk_data] Downloading package wordnet to /root/nltk_data...\n"
          ]
        },
        {
          "output_type": "execute_result",
          "data": {
            "text/plain": [
              "True"
            ]
          },
          "metadata": {},
          "execution_count": 2
        }
      ],
      "source": [
        "import pandas as pd\n",
        "import matplotlib.pyplot as plt\n",
        "import nltk\n",
        "import collections\n",
        "\n",
        "nltk.download(\"punkt\")\n",
        "nltk.download(\"averaged_perceptron_tagger\")\n",
        "nltk.download('maxent_ne_chunker')\n",
        "nltk.download('words')\n",
        "nltk.download('stopwords')\n",
        "nltk.download('wordnet')"
      ]
    },
    {
      "cell_type": "code",
      "source": [
        "def month_to_number(month):\n",
        "  months = {\"january\": \"1\", \"february\": \"2\", \"march\": \"3\", \"april\": \"4\", \"may\": \"5\", \"june\": \"6\", \"july\": \"7\", \\\n",
        "            \"august\": \"8\", \"september\": \"9\", \"october\": \"10\", \"november\": \"11\", \"december\": \"12\"}\n",
        "  month = month.lower()\n",
        "  numerical = months[month]\n",
        "  return numerical\n",
        "\n",
        "def to_date(string):\n",
        "  elements = string.split(',')\n",
        "  year = elements[-1].strip()\n",
        "  month, day = elements[-2].split()\n",
        "  month = month_to_number(month)\n",
        "  date = f'{year}-{month}-{day}'\n",
        "  return date"
      ],
      "metadata": {
        "id": "mb_OqgtZris6"
      },
      "execution_count": 3,
      "outputs": []
    },
    {
      "cell_type": "code",
      "source": [
        "def clean_df(df):\n",
        "  df = pd.read_excel(df, skiprows=1)\n",
        "  df = df.fillna('n/a')\n",
        "  df = df.drop(df[df['Mention of Adam smith'].str.contains('NA')].index)\n",
        "  df = df.drop(df[df['Mention of Adam smith'].str.contains('n/a')].index)\n",
        "  df.columns = ['Date', 'Extract', 'Notes', 'Notes2', 'About Adam Smith', 'Rep']\n",
        "  dates = []\n",
        "  for index, row in df.iterrows():\n",
        "    dates.append(to_date(row['Date']))\n",
        "  df['Date'] = dates\n",
        "  df['Date'] = pd.to_datetime(df['Date'])\n",
        "  df = df.set_index('Date').sort_index()\n",
        "  return df\n",
        "df = clean_df('https://github.com/yuliiabosher/Adam_Smith_project/raw/main/adam_smith.xlsx')\n",
        "plt.hist(df.index)"
      ],
      "metadata": {
        "id": "O4KXpehzfNzX",
        "outputId": "bcb22fc0-07e9-4d53-e0bd-0b68853608a0",
        "colab": {
          "base_uri": "https://localhost:8080/",
          "height": 519
        }
      },
      "execution_count": 8,
      "outputs": [
        {
          "output_type": "execute_result",
          "data": {
            "text/plain": [
              "(array([1., 2., 4., 3., 4., 1., 2., 1., 2., 3.]),\n",
              " array([16785., 17049., 17313., 17577., 17841., 18105., 18369., 18633.,\n",
              "        18897., 19161., 19425.]),\n",
              " <BarContainer object of 10 artists>)"
            ]
          },
          "metadata": {},
          "execution_count": 8
        },
        {
          "output_type": "display_data",
          "data": {
            "text/plain": [
              "<Figure size 640x480 with 1 Axes>"
            ],
            "image/png": "[encoded data removed]"
          },
          "metadata": {}
        }
      ]
    },
    {
      "cell_type": "code",
      "source": [
        "def tokenize_df(df):\n",
        "  tokens = [nltk.word_tokenize(row['Extract']) for index, row in df.iterrows()]\n",
        "  return tokens\n",
        "\n",
        "token_list = tokenize_df(df)\n",
        "print(token_list)"
      ],
      "metadata": {
        "colab": {
          "base_uri": "https://localhost:8080/"
        },
        "id": "JPMvHprFG0aB",
        "outputId": "12f9fa27-73f2-4285-db9f-a36050a9d902"
      },
      "execution_count": 39,
      "outputs": [
        {
          "output_type": "stream",
          "name": "stdout",
          "text": [
            "[['It', 'was', 'on', 'this', 'very', 'day', ',', 'December', '16', ',', '1773', ',', 'that', 'patriots', 'at', 'Boston', 'Harbor', 'expressed', 'their', 'displeasure', 'with', 'a', 'foreign', 'power', '’', 's', 'influence', 'over', 'what', 'they', 'felt', 'was', 'an', 'essential', 'commodity', '.', 'Participants', 'of', 'the', 'Boston', 'Tea', 'Party', ',', 'many', 'of', 'whom', 'were', 'small-business', 'owners', ',', 'well', 'versed', 'in', 'and', 'practitioners', 'of', 'the', 'teachings', 'of', 'Adam', 'Smith', 'and', ',', 'yes', ',', 'free', 'market', 'economics', ',', 'never', 'would', 'have', 'envisioned', 'that', 'one', 'commodity', 'should', 'be', 'arbitrarily', 'discriminated', 'against', 'over', 'another', ',', 'especially', 'by', 'their', 'own', 'government', '.', 'We', 'have', 'an', 'opportunity', 'with', 'this', 'commodity', 'to', 'make', 'a', 'difference', '.'], ['Adam', 'Smith', 'is', 'spinning', 'in', 'his', 'grave', 'as', 'he', 'listens', 'to', 'the', 'Republicans', 'trying', 'to', 'protect', 'an', 'industry', 'from', 'market', 'forces', '.', 'Adam', 'Smith', 'is', 'actually', 'spinning', 'so', 'fast', 'in', 'his', 'grave', 'that', 'he', 'could', 'qualify', 'as', 'a', 'new', 'energy', 'source', 'for', 'our', 'country', '.', 'That', 'is', 'how', 'shocked', 'he', 'would', 'be', 'about', 'this', 'attempt', 'to', 'undermine', 'the', 'public', 'health', 'and', 'safety', 'in', 'our', 'country', 'on', 'behalf', 'of', 'an', 'industry', 'that', 'is', 'losing', 'a', 'battle', 'in', 'the', 'marketplace', '.'], ['It', 'is', 'enough', 'for', 'people', 'to', 'inherit', 'a', 'house', 'or', 'two', 'houses', '.', 'That', 'is', 'not', 'bad', '.', 'But', 'the', 'fact', 'that', 'we', 'would', 'tax', 'beyond', 'that', 'means', 'that', 'we', 'are', 'not', 'going', 'to', 'get', 'a', 'society', 'that', 'is', 'based', 'on', 'inherited', 'wealth', 'and', 'deep', ',', 'profound', 'political', 'and', 'economic', 'inequality', 'which', 'were', 'totally', 'anathema', 'to', 'the', 'Founders', 'of', 'the', 'country', ',', 'and', 'also', ',', 'by', 'the', 'way', ',', 'totally', 'antithetical', 'to', 'the', 'vision', 'of', 'Adam', 'Smith', 'who', 'is', 'the', 'big', 'hero', 'to', 'my', 'conservative', 'friends', 'on', 'the', 'other', 'side', 'of', 'the', 'aisle', '.', 'Adam', 'Smith', 'was', 'someone', 'who', 'said', ':', 'You', 'don', '’', 't', 'want', 'to', 'have', 'inherited', 'wealth', 'in', 'a', 'society', 'like', 'that', '.', 'That', 'is', 'dangerous', '.', 'It', 'will', 'promote', 'idleness', 'and', 'irresponsibility', 'among', 'the', 'people', 'who', 'inherit', 'hundreds', 'of', 'millions', 'or', 'billions', 'of', 'dollars', '.', 'It', 'will', 'increase', 'political', 'inequalities', 'and', 'class', 'tension', 'in', 'the', 'society', ',', 'and', 'it', 'will', 'lead', 'to', 'irresponsible', 'behavior', 'by', 'the', 'people', 'who', 'have', 'that', 'kind', 'of', 'wealth', '.'], ['We', 'can', '’', 't', 'ignore', 'the', 'idea', 'that', 'even', 'though', 'Adam', 'Smith', 'wrote', 'his', 'book', 'on', '‘', '‘', 'The', 'Wealth', 'of', 'Nations', '’', '’', 'published', 'in', ',', 'what', 'a', 'glorious', 'year', ',', '1776', ',', 'and', 'he', 'laid', 'out', 'the', 'fundamental', 'principles', 'of', 'free', 'enterprise', 'that', 'inspired', 'this', 'country', 'and', 'a', 'world', '.'], ['At', 'the', 'hearing', 'today', ',', 'I', 'heard', 'my', 'Republican', 'colleague', ',', 'Mr.', 'HUNTER', ',', 'chairman', 'of', 'the', 'committee', ',', 'quote', 'the', 'great', 'free', 'market', 'idol', ',', 'Adam', 'Smith', '.', 'All', 'too', 'often', ',', 'the', 'free', 'marketers', 'of', 'the', 'world', 'read', 'those', 'paragraphs', 'that', 'serve', 'their', 'purposes', ',', 'but', 'if', 'they', 'were', 'to', 'read', 'the', 'next', 'few', 'paragraphs', 'in', 'Adam', 'Smith', '’', 's', 'work', ',', '‘', '‘', 'The', 'Wealth', 'of', 'Nations', ',', '’', '’', 'they', 'would', 'read', 'that', 'Adam', 'Smith', 'said', 'very', 'clearly', 'at', 'the', 'period', 'of', 'time', 'he', 'was', 'writing', 'that', 'it', 'was', 'absolutely', 'essential', 'for', 'the', 'British', 'Government', 'to', 'protect', 'the', 'British', 'merchant', 'marine', 'and', 'the', 'British', 'maritime', 'industry', '.'], ['These', 'early', 'settlers', 'were', 'driven', 'by', 'religious', 'freedom', '.', 'As', 'they', 'began', 'to', 'build', 'their', 'farms', ',', 'their', 'shops', ',', 'and', 'trade', 'and', 'build', 'ships', 'along', 'the', 'coast', 'and', 'our', 'harbours', ',', 'we', 'reach', 'the', 'year', 'of', '1776', '.', 'Then', ',', 'of', 'course', ',', 'we', 'know', 'the', 'Declaration', 'was', 'on', 'July', '4', 'of', 'that', 'year', '.', 'But', 'there', 'is', 'another', 'seminal', 'event', ',', 'Mr.', 'Speaker', ',', 'and', 'that', 'is', 'Adam', 'Smith', 'published', 'his', 'treatise', 'on', 'free', 'enterprise', 'capitalism', '.', 'The', 'name', 'of', 'it', 'is', '‘', '‘', 'The', 'Wealth', 'of', 'Nations', '.', '’', '’'], ['You', 'have', 'consistently', 'stressed', 'that', 'the', 'objective', 'of', 'tax', 'reform', 'should', 'be', 'to', 'enhance', 'prospects', 'for', 'increased', 'economic', 'growth', 'and', 'household', 'incomes', '.', 'We', 'agree', 'with', 'this', 'objective', ',', 'which', 'is', 'consistent', 'with', 'the', 'traditional', 'norms', 'of', 'public', 'finance', 'going', 'back', 'to', 'Adam', 'Smith', '.'], ['Mr.', 'ARRINGTON', '.', 'Mr.', 'Speaker', ',', 'the', 'year', '1776', 'marked', 'a', 'turning', 'point', 'not', 'only', 'in', 'American', 'history', ',', 'but', 'in', 'human', 'history', '.', 'While', 'brave', 'patriots', 'here', 'in', 'America', 'were', 'affirming', 'their', 'right', 'to', 'equal', 'representation', 'and', ',', 'ultimately', ',', 'revolution', ',', 'a', 'Scottish', 'philosopher', 'named', 'Adam', 'Smith', 'was', 'revolutionizing', 'the', 'way', 'we', 'think', 'about', 'economics', '.', '‘', '‘', 'The', 'Wealth', 'of', 'Nations', '’', '’', 'was', 'the', 'book', 'he', 'wrote', 'where', 'he', 'extolled', 'the', 'virtues', 'of', 'free', 'markets', 'and', 'free', 'trade', ',', 'showing', 'how', 'all', 'benefit', 'from', 'robust', 'competition', 'and', 'an', 'open', 'marketplace', '.', 'Mr.', 'Speaker', ',', 'because', 'of', 'tax', 'cuts', 'and', 'regulatory', 'reform', ',', 'returning', 'to', 'freer', 'markets', 'in', 'this', 'country', ',', 'we', 'have', 'this', 'economy', 'off', 'high', 'centre', 'and', 'growing', 'at', 'a', 'rate', 'we', 'haven', '’', 't', 'seen', 'in', 'over', 'a', 'decade', '.', 'While', 'some', 'of', 'my', 'friends', 'across', 'the', 'aisle', 'would', 'like', 'to', 'dispute', 'this', ',', 'the', 'results', 'speak', 'for', 'themselves', '.'], ['The', 'first', 'one', 'I', 'would', 'like', 'to', 'point', 'out', 'because', 'it', 'comes', 'from', 'Adam', 'Smith—Adam', 'Smith', ',', 'who', 'wrote', '‘', '‘', 'The', 'Wealth', 'of', 'Nations', ',', '’', '’', 'the', 'great', 'Scottish', 'political', 'economist', 'whom', 'many', 'people', 'in', 'the', 'Chicago', 'school', 'and', 'people', 'who', 'believe', 'in', 'this', 'idea', 'of', 'trickle-down', 'economics', 'look', 'to', 'and', 'the', 'invisible', 'hand', 'that', 'he', 'so', 'famously', 'wrote', 'about', '.', 'But', 'the', 'quote', 'on', 'the', 'top', 'here', ',', 'I', 'think', ',', 'is', 'a', 'very', 'clear', 'demonstration', 'of', 'his', 'view', 'in', 'the', 'late', '1700s', 'in', 'spite', 'of', 'his', 'perspective', 'on', 'many', 'things', ',', 'and', 'it', 'is', 'the', 'first', 'quote', 'on', 'the', 'chart', ':', '‘', '‘', 'The', 'disposition', 'to', 'admire', ',', 'and', 'almost', 'to', 'worship', ',', 'the', 'rich', 'and', 'the', 'powerful', ',', 'and', 'to', 'despise', ',', 'or', ',', 'at', 'least', ',', 'to', 'neglect', 'persons', 'of', 'poor', 'and', 'mean', 'condition', 'is', 'the', 'great', 'and', 'most', 'universal', 'cause', 'of', 'the', 'corruption', 'of', 'our', 'moral', 'sentiments', '’', '’', '—Adam', 'Smith', '.'], ['Adam', 'Smith', 'is', 'spinning', 'in', 'his', 'grave', ',', 'wondering', 'how', 'the', 'fossil', 'fuel', 'industry', 'gets', 'such', 'subsidies', '.', 'As', 'a', 'matter', 'of', 'fact', ',', 'he', 'is', 'spinning', 'so', 'fast', 'that', 'he', 'would', 'qualify', 'for', 'a', 'subsidy', 'under', 'the', 'tax', 'policies', ',', 'which', 'Republicans', 'put', 'in', 'place', '.'], ['Same', 'as', 'WASHINGTON', ',', 'WEDNESDAY', ',', 'DECEMBER', '19', ',', '2018'], ['1776', 'wasn', '’', 't', 'just', 'a', 'revolutionary', 'year', 'for', 'America', '.', 'It', 'was', 'a', 'revolutionary', 'year', 'for', 'free', 'enterprise', ',', 'for', 'American', 'capitalism', ',', 'free', 'market', 'capitalism', ',', 'as', 'well', ',', 'because', 'it', 'was', 'in', 'that', 'year', 'that', 'Scottish', 'moral', 'philosopher', 'Adam', 'Smith', 'penned', 'its', 'intellectual', 'foundation', 'in', 'his', 'opus', 'magnum', ',', '‘', '‘', 'The', 'Wealth', 'of', 'Nations.', '’', '’', 'Prosperity', 'would', 'never', ',', 'never', 'be', 'the', 'same', '.', 'We', 'now', 'have', 'over', '200', 'years', 'of', 'history', 'in', 'this', 'country', 'proving', 'that', 'free', 'market', 'capitalism', 'produces', 'the', 'greatest', 'wealth', 'for', 'the', 'greatest', 'number', 'of', 'people', '.'], ['We', 'are', 'ushering', 'our', 'power', 'sector', 'into', 'a', 'clean', 'energy', 'future', 'that', 'is', 'good', 'for', 'our', 'environment', 'and', 'good', 'for', 'our', 'economy', ',', 'as', 'Senator', 'CARPER', 'said', '.', 'In', 'the', 'early', '2020s', ',', 'it', 'could', 'be', 'cheaper', 'to', 'build', 'new', 'renewables', 'from', 'scratch', 'than', 'to', 'continue', 'operating', 'old', ',', 'dirty', ',', 'coal-fired', 'power', 'plants', '.', 'That', 'is', 'not', 'a', 'conspiracy', ';', 'that', 'is', 'called', 'competition', '.', 'Adam', 'Smith', 'is', 'smiling', 'in', 'his', 'grave', ',', 'looking', 'at', 'this', 'competition', 'unfold', '.', 'The', 'cost', 'of', 'solar', 'has', 'fallen', '50', 'to', '60', 'percent', 'over', 'the', 'last', '5', 'to', '6', 'years', '.', 'In', 'fact', ',', 'wind', 'and', 'solar', 'are', 'generally', 'cheaper', 'than', 'coal', 'and', 'nuclear', 'energy', 'right', 'now', '.'], ['You', 'run', 'a', 'coal', 'plant', ';', 'you', 'make', 'the', 'profits', 'from', 'selling', 'the', 'electricity', 'that', 'the', 'coal', 'plant', 'produces', ',', 'but', 'you', 'don', '’', 't', 'pay', 'the', 'price', 'for', 'the', 'carbon', 'you', 'put', 'in', 'the', 'air', '.', 'So', 'it', 'is', 'not', 'going', 'to', 'happen', 'through', 'the', 'free', 'market', 'alone', 'because', 'of', 'what', 'even', 'Adam', 'Smith', 'recognized', ':', 'There', 'are', 'externalities', 'that', 'have', 'to', 'be', 'captured', ',', 'and', 'it', 'is', 'government', '’', 's', 'job', 'to', 'at', 'least', 'make', 'sure', 'they', 'are', 'captured', '.'], ['On', 'the', 'capitalist', 'all-star', 'team', ',', 'you', 'will', 'recognize', 'names', 'like', 'Adam', 'Smith', ',', 'Ronald', 'Reagan', ',', 'George', 'Bush', ',', 'Jack', 'Kemp', ',', 'Henry', 'Ford', ',', 'and', 'Donald', 'Trump', ',', 'all', 'proponents', 'of', 'capitalism', 'who', 'promoted', 'the', 'ideas', 'of', 'individual', 'responsibility', 'and', 'free', 'enterprise', '.'], ['Think', 'of', 'what', 'it', 'was', 'like', '.', 'Here', 'is', 'this', 'land', ',', 'this', 'huge', 'Western', 'Hemisphere', 'that', 'hadn', '’', 't', 'seen', 'any', 'aspect', 'of', 'what', 'we', 'consider', 'to', 'be', 'modern', 'life', '.', 'And', 'on', 'this', 'land', ',', 'here', 'came', ',', 'at', 'the', 'dawn', 'of', 'the', 'industrial', 'revolution', ',', 'the', 'idea—it', 'will', 'be', 'Adam', 'Smith', ',', 'he', 'wrote', '‘', '‘', 'Wealth', 'of', 'Nations', '’', '’', ',', 'published', '1776', ',', 'the', 'same', 'year', 'the', 'Declaration', 'was', 'published'], ['So', 'the', 'next', 'time', 'you', 'see', 'Republicans', 'in', 'high', 'moral', 'dudgeon', ',', 'claiming', 'and', 'complaining', 'about', 'spending', 'of', 'Democrats', 'and', 'socialism', ',', 'remind', 'them—remind', 'them', 'if', 'they', 'supported', 'this', 'monstrous', 'bill', ',', 'that', 'really', 'the', 'difference', 'between', 'the', 'parties', 'is', 'less', 'Adam', 'Smith', 'versus', 'Marx', 'and', 'more', 'Marx', 'versus', 'Engels', '.'], ['When', 'a', 'colleague', 'told', 'the', 'great', 'economist', ',', 'Adam', 'Smith', ',', 'that', 'a', 'British', 'defeat', 'would', 'be', 'the', 'ruin', 'of', 'the', 'nation', ',', 'Smith', 'calmly', 'observed', ':', '‘', '‘', 'Be', 'assured', ',', 'my', 'young', 'friend', ',', 'that', 'there', 'is', 'a', 'great', 'deal', 'of', 'ruin', 'in', 'a', 'nation', '.', '’', '’'], ['We', 'are', 'a', 'nation', 'that', 'exploded', 'forth', 'to', 'be', 'the', 'dominating', 'economy', 'on', 'the', 'planet', 'through', 'the', 'capitalist', 'system', '.', 'But', 'the', 'capitalist', 'system', 'was', 'not', 'fair', 'and', 'equal', 'all', 'the', 'time', '.', 'In', 'fact', ',', 'it', 'did', 'not', 'reflect', 'what', 'Adam', 'Smith', 'himself', ',', 'in', 'his', 'essay', 'on', 'moral', 'sentiments', ',', 'talked', 'about', '.'], ['That', 'was', '98', 'percent', 'of', 'the', 'world', '.', 'Fast-forward', 'to', 'today', ',', 'after', 'we', 'have', 'adopted', 'what', 'Adam', 'Smith', 'talked', 'about', 'as', 'far', 'as', 'trade', ',', 'division', 'of', 'labour', ',', 'and', 'capitalism', ',', 'do', 'you', 'know', 'what', 'we', 'have', 'now', '?', 'When', 'you', 'look', 'at', 'poverty—', 'less', 'than', '$', '2', 'a', 'day', 'in', 'the', 'world—it', 'is', 'less', 'than', '10', 'percent', 'of', 'the', 'world', '.', 'You', 'won', '’', 't', 'find', 'this', 'on', 'television', '.', 'There', 'is', 'not', 'going', 'to', 'be', 'any', 'good', 'news', 'on', 'television', 'or', 'in', 'the', 'newspaper', '.', 'The', 'poorest', 'people', 'in', 'our', 'country', 'actually', 'are', 'equivalent', 'to', 'the', 'middle', 'class', 'in', 'most', 'countries', '.', 'We', 'are', 'a', 'huge', 'success', ',', 'but', 'we', 'are', 'a', 'country', 'misguided', 'and', 'led', 'astray', 'by', 'media', 'that', 'aren', '’', 't', 'honest', '.'], ['You', 'go', 'back', ',', 'way', 'back', ',', 'to', 'the', 'godfather', 'of', 'capitalism', ',', 'Adam', 'Smith', ',', 'who', 'said', 'to', 'always', 'watch', 'out', 'for', 'the', 'standing', 'army', 'of', 'monopolies', '.', 'We', 'knew', 'from', 'the', 'beginnings', 'of', 'this', 'country', 'that', 'we', 'would', 'have', 'to', 'step', 'in', 'time', 'and', 'time', 'again', 'to', 'make', 'sure', 'that', 'we', 'rejuvenate', 'capitalism', '.', 'That', 'is', 'what', 'this', 'is', 'about', '.'], ['adam', 'Smith—the', 'godfather', 'of', 'capitalism', ',', 'the', 'guy', 'who', 'talked', 'about', 'the', 'invisible', 'hand—loved', 'capitalism', ',', 'but', 'he', 'always', 'said', 'this', ':', 'Always', 'watch', 'out', 'for', 'the', 'standing', 'army', 'of', 'monopolies', '.', 'And', 'that', 'is', 'why', ',', 'over', 'time', ',', 'we', 'have', 'developed', 'law', 'that', 'allows', 'us', 'to', 'ensure', 'that', 'the', 'big', 'guys', 'don', '’', 't', 'always', 'control', 'the', 'marketplace—so', 'that', 'you', 'can', 'have', 'new', 'forms', 'of', 'competition', 'developed', '.'], ['Adam', 'Smith', '’', 's', 'Money', 'World']]\n"
          ]
        }
      ]
    },
    {
      "cell_type": "code",
      "source": [
        "def preprocess_tokens(list_of_lists):\n",
        "  lower_tokens = [[t.lower() for t in list_of_tokens] for list_of_tokens in list_of_lists for t in list_of_tokens]\n",
        "  alpha_only = [[t for t in token_list if t.isalpha()] for token_list in lower_tokens]\n",
        "  no_stops = [[t for t in alpha_list if t not in nltk.corpus.stopwords.words('english')] for alpha_list in alpha_only]\n",
        "  wordnet_lemmatizer = nltk.stem.WordNetLemmatizer()\n",
        "  lemmatized = [[wordnet_lemmatizer.lemmatize(t) for t in no_stops_list] for no_stops_list in no_stops]\n",
        "  return lemmatized\n",
        "\n",
        "preprocessed = preprocess_tokens(token_list)\n",
        "print(preprocessed[:10])"
      ],
      "metadata": {
        "id": "2jXp10MNMD_i",
        "outputId": "8afc6375-ed25-492f-d004-be3c1ba8c509",
        "colab": {
          "base_uri": "https://localhost:8080/"
        }
      },
      "execution_count": 38,
      "outputs": [
        {
          "output_type": "stream",
          "name": "stdout",
          "text": [
            "[['day', 'december', 'patriot', 'boston', 'harbor', 'expressed', 'displeasure', 'foreign', 'power', 'influence', 'felt', 'essential', 'commodity', 'participant', 'boston', 'tea', 'party', 'many', 'owner', 'well', 'versed', 'practitioner', 'teaching', 'adam', 'smith', 'yes', 'free', 'market', 'economics', 'never', 'would', 'envisioned', 'one', 'commodity', 'arbitrarily', 'discriminated', 'another', 'especially', 'government', 'opportunity', 'commodity', 'make', 'difference'], ['day', 'december', 'patriot', 'boston', 'harbor', 'expressed', 'displeasure', 'foreign', 'power', 'influence', 'felt', 'essential', 'commodity', 'participant', 'boston', 'tea', 'party', 'many', 'owner', 'well', 'versed', 'practitioner', 'teaching', 'adam', 'smith', 'yes', 'free', 'market', 'economics', 'never', 'would', 'envisioned', 'one', 'commodity', 'arbitrarily', 'discriminated', 'another', 'especially', 'government', 'opportunity', 'commodity', 'make', 'difference'], ['day', 'december', 'patriot', 'boston', 'harbor', 'expressed', 'displeasure', 'foreign', 'power', 'influence', 'felt', 'essential', 'commodity', 'participant', 'boston', 'tea', 'party', 'many', 'owner', 'well', 'versed', 'practitioner', 'teaching', 'adam', 'smith', 'yes', 'free', 'market', 'economics', 'never', 'would', 'envisioned', 'one', 'commodity', 'arbitrarily', 'discriminated', 'another', 'especially', 'government', 'opportunity', 'commodity', 'make', 'difference'], ['day', 'december', 'patriot', 'boston', 'harbor', 'expressed', 'displeasure', 'foreign', 'power', 'influence', 'felt', 'essential', 'commodity', 'participant', 'boston', 'tea', 'party', 'many', 'owner', 'well', 'versed', 'practitioner', 'teaching', 'adam', 'smith', 'yes', 'free', 'market', 'economics', 'never', 'would', 'envisioned', 'one', 'commodity', 'arbitrarily', 'discriminated', 'another', 'especially', 'government', 'opportunity', 'commodity', 'make', 'difference'], ['day', 'december', 'patriot', 'boston', 'harbor', 'expressed', 'displeasure', 'foreign', 'power', 'influence', 'felt', 'essential', 'commodity', 'participant', 'boston', 'tea', 'party', 'many', 'owner', 'well', 'versed', 'practitioner', 'teaching', 'adam', 'smith', 'yes', 'free', 'market', 'economics', 'never', 'would', 'envisioned', 'one', 'commodity', 'arbitrarily', 'discriminated', 'another', 'especially', 'government', 'opportunity', 'commodity', 'make', 'difference'], ['day', 'december', 'patriot', 'boston', 'harbor', 'expressed', 'displeasure', 'foreign', 'power', 'influence', 'felt', 'essential', 'commodity', 'participant', 'boston', 'tea', 'party', 'many', 'owner', 'well', 'versed', 'practitioner', 'teaching', 'adam', 'smith', 'yes', 'free', 'market', 'economics', 'never', 'would', 'envisioned', 'one', 'commodity', 'arbitrarily', 'discriminated', 'another', 'especially', 'government', 'opportunity', 'commodity', 'make', 'difference'], ['day', 'december', 'patriot', 'boston', 'harbor', 'expressed', 'displeasure', 'foreign', 'power', 'influence', 'felt', 'essential', 'commodity', 'participant', 'boston', 'tea', 'party', 'many', 'owner', 'well', 'versed', 'practitioner', 'teaching', 'adam', 'smith', 'yes', 'free', 'market', 'economics', 'never', 'would', 'envisioned', 'one', 'commodity', 'arbitrarily', 'discriminated', 'another', 'especially', 'government', 'opportunity', 'commodity', 'make', 'difference'], ['day', 'december', 'patriot', 'boston', 'harbor', 'expressed', 'displeasure', 'foreign', 'power', 'influence', 'felt', 'essential', 'commodity', 'participant', 'boston', 'tea', 'party', 'many', 'owner', 'well', 'versed', 'practitioner', 'teaching', 'adam', 'smith', 'yes', 'free', 'market', 'economics', 'never', 'would', 'envisioned', 'one', 'commodity', 'arbitrarily', 'discriminated', 'another', 'especially', 'government', 'opportunity', 'commodity', 'make', 'difference'], ['day', 'december', 'patriot', 'boston', 'harbor', 'expressed', 'displeasure', 'foreign', 'power', 'influence', 'felt', 'essential', 'commodity', 'participant', 'boston', 'tea', 'party', 'many', 'owner', 'well', 'versed', 'practitioner', 'teaching', 'adam', 'smith', 'yes', 'free', 'market', 'economics', 'never', 'would', 'envisioned', 'one', 'commodity', 'arbitrarily', 'discriminated', 'another', 'especially', 'government', 'opportunity', 'commodity', 'make', 'difference'], ['day', 'december', 'patriot', 'boston', 'harbor', 'expressed', 'displeasure', 'foreign', 'power', 'influence', 'felt', 'essential', 'commodity', 'participant', 'boston', 'tea', 'party', 'many', 'owner', 'well', 'versed', 'practitioner', 'teaching', 'adam', 'smith', 'yes', 'free', 'market', 'economics', 'never', 'would', 'envisioned', 'one', 'commodity', 'arbitrarily', 'discriminated', 'another', 'especially', 'government', 'opportunity', 'commodity', 'make', 'difference']]\n"
          ]
        }
      ]
    },
    {
      "cell_type": "code",
      "source": [
        "from gensim.corpora.dictionary import Dictionary\n",
        "dictionary = Dictionary(articles)\n",
        "\n",
        "# Select the id for \"computer\": computer_id\n",
        "computer_id = dictionary.token2id.get(\"computer\")\n",
        "\n",
        "# Use computer_id with the dictionary to print the word\n",
        "print(dictionary.get(computer_id))\n",
        "\n",
        "# Create a MmCorpus: corpus\n",
        "corpus = [dictionary.doc2bow(article) for article in articles]\n",
        "\n",
        "# Print the first 10 word ids with their frequency counts from the fifth document\n",
        "print(corpus[4][:10])\n"
      ],
      "metadata": {
        "id": "TugAwRj76aZ3"
      },
      "execution_count": null,
      "outputs": []
    },
    {
      "cell_type": "code",
      "source": [
        "bow_count = collections.Counter(preprocessed)\n",
        "bow_count.most_common(10)"
      ],
      "metadata": {
        "id": "WUq4Gm7aJcEW",
        "outputId": "f0f7cdec-4f1b-4f60-be00-23776f5b6db4",
        "colab": {
          "base_uri": "https://localhost:8080/"
        }
      },
      "execution_count": 7,
      "outputs": [
        {
          "output_type": "execute_result",
          "data": {
            "text/plain": [
              "[('smith', 27),\n",
              " ('adam', 26),\n",
              " ('free', 12),\n",
              " ('wealth', 11),\n",
              " ('would', 10),\n",
              " ('country', 10),\n",
              " ('year', 10),\n",
              " ('capitalism', 10),\n",
              " ('nation', 9),\n",
              " ('market', 8)]"
            ]
          },
          "metadata": {},
          "execution_count": 7
        }
      ]
    }
  ]
}
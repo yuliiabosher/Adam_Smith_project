{
  "nbformat": 4,
  "nbformat_minor": 0,
  "metadata": {
    "colab": {
      "provenance": [],
      "authorship_tag": "ABX9TyMuDfOtJRnU7bgetSJskfih",
      "include_colab_link": true
    },
    "kernelspec": {
      "name": "python3",
      "display_name": "Python 3"
    },
    "language_info": {
      "name": "python"
    }
  },
  "cells": [
    {
      "cell_type": "markdown",
      "metadata": {
        "id": "view-in-github",
        "colab_type": "text"
      },
      "source": [
        "<a href=\"https://colab.research.google.com/github/yuliiabosher/Adam_Smith_project/blob/main/Congressional_record.ipynb\" target=\"_parent\"><img src=\"https://colab.research.google.com/assets/colab-badge.svg\" alt=\"Open In Colab\"/></a>"
      ]
    },
    {
      "cell_type": "code",
      "execution_count": 60,
      "metadata": {
        "id": "wWjo2_H4-fxs"
      },
      "outputs": [],
      "source": [
        "import requests\n",
        "import os\n",
        "from google.colab import output\n",
        "import pprint\n",
        "from io import BytesIO\n",
        "import PyPDF2"
      ]
    },
    {
      "cell_type": "code",
      "source": [
        "key = input('enter API key ')\n",
        "os.environ['Congress_API_Key'] = key\n",
        "output.clear()"
      ],
      "metadata": {
        "id": "jhBBTnpE_NJy"
      },
      "execution_count": 11,
      "outputs": []
    },
    {
      "cell_type": "code",
      "source": [
        "response = requests.get(f'https://api.congress.gov/v3/congressional-record/?y=2024&m=5&d=21&api_key={key}')\n",
        "pprint.pprint(response.text)"
      ],
      "metadata": {
        "colab": {
          "base_uri": "https://localhost:8080/"
        },
        "id": "2yPR6mhqLsdG",
        "outputId": "4dcbd37b-18db-4e54-fc72-38e57337e9d8"
      },
      "execution_count": 21,
      "outputs": [
        {
          "output_type": "stream",
          "name": "stdout",
          "text": [
            "('{\\n'\n",
            " '    \"Results\": {\\n'\n",
            " '        \"IndexStart\": 1,\\n'\n",
            " '        \"Issues\": [\\n'\n",
            " '            {\\n'\n",
            " '                \"Congress\": \"118\",\\n'\n",
            " '                \"Id\": 27400,\\n'\n",
            " '                \"Issue\": \"88\",\\n'\n",
            " '                \"Links\": {\\n'\n",
            " '                    \"Digest\": {\\n'\n",
            " '                        \"Label\": \"Daily Digest\",\\n'\n",
            " '                        \"Ordinal\": 1,\\n'\n",
            " '                        \"PDF\": [\\n'\n",
            " '                            {\\n'\n",
            " '                                \"Part\": \"1\",\\n'\n",
            " '                                \"Url\": '\n",
            " '\"https://www.congress.gov/118/crec/2024/05/21/170/88/CREC-2024-05-21-dailydigest.pdf\"\\n'\n",
            " '                            }\\n'\n",
            " '                        ]\\n'\n",
            " '                    },\\n'\n",
            " '                    \"FullRecord\": {\\n'\n",
            " '                        \"Label\": \"Entire Issue\",\\n'\n",
            " '                        \"Ordinal\": 5,\\n'\n",
            " '                        \"PDF\": [\\n'\n",
            " '                            {\\n'\n",
            " '                                \"Part\": \"1\",\\n'\n",
            " '                                \"Url\": '\n",
            " '\"https://www.congress.gov/118/crec/2024/05/21/170/88/CREC-2024-05-21.pdf\"\\n'\n",
            " '                            }\\n'\n",
            " '                        ]\\n'\n",
            " '                    },\\n'\n",
            " '                    \"House\": {\\n'\n",
            " '                        \"Label\": \"House Section\",\\n'\n",
            " '                        \"Ordinal\": 3,\\n'\n",
            " '                        \"PDF\": [\\n'\n",
            " '                            {\\n'\n",
            " '                                \"Part\": \"1\",\\n'\n",
            " '                                \"Url\": '\n",
            " '\"https://www.congress.gov/118/crec/2024/05/21/170/88/CREC-2024-05-21-house.pdf\"\\n'\n",
            " '                            }\\n'\n",
            " '                        ]\\n'\n",
            " '                    },\\n'\n",
            " '                    \"Remarks\": {\\n'\n",
            " '                        \"Label\": \"Extensions of Remarks Section\",\\n'\n",
            " '                        \"Ordinal\": 4,\\n'\n",
            " '                        \"PDF\": [\\n'\n",
            " '                            {\\n'\n",
            " '                                \"Part\": \"1\",\\n'\n",
            " '                                \"Url\": '\n",
            " '\"https://www.congress.gov/118/crec/2024/05/21/170/88/CREC-2024-05-21-extensions.pdf\"\\n'\n",
            " '                            }\\n'\n",
            " '                        ]\\n'\n",
            " '                    },\\n'\n",
            " '                    \"Senate\": {\\n'\n",
            " '                        \"Label\": \"Senate Section\",\\n'\n",
            " '                        \"Ordinal\": 2,\\n'\n",
            " '                        \"PDF\": [\\n'\n",
            " '                            {\\n'\n",
            " '                                \"Part\": \"1\",\\n'\n",
            " '                                \"Url\": '\n",
            " '\"https://www.congress.gov/118/crec/2024/05/21/170/88/CREC-2024-05-21-senate.pdf\"\\n'\n",
            " '                            }\\n'\n",
            " '                        ]\\n'\n",
            " '                    }\\n'\n",
            " '                },\\n'\n",
            " '                \"PublishDate\": \"2024-05-21\",\\n'\n",
            " '                \"Session\": \"2\",\\n'\n",
            " '                \"Volume\": \"170\"\\n'\n",
            " '            }\\n'\n",
            " '        ],\\n'\n",
            " '        \"SetSize\": 1,\\n'\n",
            " '        \"TotalCount\": 1\\n'\n",
            " '    },\\n'\n",
            " '    \"Status\": {\\n'\n",
            " '        \"Code\": \"200\",\\n'\n",
            " '        \"Message\": \"success\"\\n'\n",
            " '    }\\n'\n",
            " '}')\n"
          ]
        }
      ]
    },
    {
      "cell_type": "code",
      "source": [
        "link_to_pdf_file = response.json()['Results']['Issues'][0]['Links']['FullRecord']['PDF'][0]['Url']\n",
        "print(link_to_pdf_file)"
      ],
      "metadata": {
        "colab": {
          "base_uri": "https://localhost:8080/"
        },
        "id": "HDRz8Fb7Pedp",
        "outputId": "9ec2afbe-2135-4e8f-ef77-698671b26d87"
      },
      "execution_count": 59,
      "outputs": [
        {
          "output_type": "stream",
          "name": "stdout",
          "text": [
            "https://www.congress.gov/118/crec/2024/05/21/170/88/CREC-2024-05-21.pdf\n"
          ]
        }
      ]
    },
    {
      "cell_type": "code",
      "source": [
        "pdf_file = requests.get(link_to_pdf_file)\n",
        "pdf_data = BytesIO(pdf_file.content)\n",
        "pdf_reader = PyPDF2.PdfReader(pdf_data)\n",
        "number_of_pages = len(pdf_reader.pages)\n",
        "page = pdf_reader.pages[0]\n",
        "text = page.extract_text()\n",
        "print(text)"
      ],
      "metadata": {
        "id": "dTzXpabATyzF",
        "outputId": "7836dfd4-2acc-4142-a3d8-08511f697cb0",
        "colab": {
          "base_uri": "https://localhost:8080/"
        }
      },
      "execution_count": 69,
      "outputs": [
        {
          "output_type": "stream",
          "name": "stdout",
          "text": [
            "Congressional RecordUNUMEPLURIBUS\n",
            "United States\n",
            "of America PROCEEDINGS AND DE BATES OF THE 118th CONGRESS, SECOND SESSION\n",
            "bThis symbol represents the time of day during the House proceedings, e.g., b1407 is 2:07 p.m.\n",
            "Matter set in this typeface indicates words inserted or appended, rather than spoken, by a Member of the House on the floor.\n",
            ".H3359 Vol. 170 WASHINGTON, TUESDAY, MAY 21, 2024 No. 88 \n",
            "House of Representatives \n",
            "The House met at noon and was \n",
            "called to order by the Speaker pro tem-\n",
            "pore (Mr. K USTOFF ). \n",
            "f \n",
            "DESIGNATION OF SPEAKER PRO \n",
            "TEMPORE \n",
            "The SPEAKER pro tempore laid be-\n",
            "fore the House the following commu-nication from the Speaker: \n",
            "WASHINGTON , DC, \n",
            "May 21, 2024. \n",
            "I hereby appoint the Honorable D AVID \n",
            "KUSTOFF to act as Speaker pro tempore on \n",
            "this day. \n",
            "MIKEJOHNSON , \n",
            "Speaker of the House of Representatives. \n",
            "f \n",
            "MORNING-HOUR DEBATE \n",
            "The SPEAKER pro tempore. Pursu-\n",
            "ant to the order of the House of Janu-ary 9, 2024, the Chair will now recog-nize Members from lists submitted by the majority and minority leaders for morning-hour debate. \n",
            "The Chair will alternate recognition \n",
            "between the parties, with time equally allocated between the parties and each Member other than the majority and minority leaders and the minority whip limited to 5 minutes, but in no event shall debate continue beyond 1:50 p.m. \n",
            "f \n",
            "INFLATION UNDER THE BIDEN \n",
            "ADMINISTRATION \n",
            "The SPEAKER pro tempore. The \n",
            "Chair recognizes the gentleman from Pennsylvania (Mr. J\n",
            "OYCE ) for 5 min-\n",
            "utes. \n",
            "Mr. JOYCE of Pennsylvania. Mr. \n",
            "Speaker, since President Biden took of-fice, the price of gasoline has risen 55 percent, the price of electricity is up close to 30 percent, the price of gro-ceries is up more than 20 percent, and the price of baby food is up 30 percent. \n",
            "Across Pennsylvania, families are \n",
            "feeling the effects of this inflation. On average, they are paying an additional \n",
            "$70 a month for housing and an addi-tional $240 a month for transportation. Since 2021, Pennsylvania households have spent over $20,000 more than they would have because of inflation. \n",
            "Recently, President Biden has at-\n",
            "tempted to claim that inflation was al-ready at 9 percent annually when he took office, when, in fact, it was only at 1.4 percent. \n",
            "What we are seeing is a President \n",
            "who has failed in his duty to protect American families. In central Pennsyl-vania, more than 100,000 families make less than $50,000 a year. Mothers shouldn’t have to make a decision on whether to buy gasoline or to buy school lunches. Parents should not have to worry at the kitchen table about paying their credit card bill or their rent. \n",
            "This is the reality that President \n",
            "Biden’s radical spending spree has cre-ated over the past 4 years. It is time to return to fiscal sanity, and it is time to once again be responsible stewards of the taxpayer dollar. \n",
            "No matter what President Biden says \n",
            "in his campaign speeches, inflation is the fault of his administration, and it is time to put a stop to the President’s failed policies. \n",
            "RECOGNIZING MEMORIAL DAY  \n",
            "Mr. JOYCE of Pennsylvania. Mr. \n",
            "Speaker, as we recognize Memorial Day, we remember and honor the over \n",
            "1.1 million Americans who have given their lives while serving in the Armed Forces. These men and women are he-roes. The American story is not told without recognizing the price that they have paid to ensure our continued free-dom. \n",
            "In Pennsylvania’s 13th Congressional \n",
            "District, we understand the terrible price that freedom costs. It was in Get-tysburg, following the bloodiest battle of the Civil War, that President Lin-coln said we must: ‘‘take increased de-votion to that cause for which they gave the last full measure of devotion.’’ In the western part of our district, \n",
            "Cambria County was home to both \n",
            "United States Marine Corps Sergeant Michael Strank and U.S. Army Captain Harry Cramer. \n",
            "Sergeant Strank was one of the ma-\n",
            "rines who raised the American flag on Iwo Jima. He was killed several days later during heavy fighting on that is-land. \n",
            "Captain Cramer was a Green Beret, \n",
            "one of the Army’s most highly trained warriors who, in 1957, would become the first American casualty during the war in Vietnam. \n",
            "These stories are very representative \n",
            "of the men and women across our coun-try who have made the ultimate sac-rifice. \n",
            "This weekend, amid graduation par-\n",
            "ties and summer barbecues, please take a moment to recognize these brave men and women who swore an oath to de-fend our Nation and gave the ultimate sacrifice in the service of our freedoms. \n",
            "f \n",
            "ENDING HUNGER IN CUBA \n",
            "The SPEAKER pro tempore. The \n",
            "Chair recognizes the gentleman from Massachusetts (Mr. M\n",
            "CGOVERN ) for 5 \n",
            "minutes. \n",
            "Mr. M CGOVERN. Mr. Speaker, last \n",
            "week, the Inter-American Commission on Human Rights and the Office of the Special Rapporteur on Economic, So-cial, Cultural, and Environmental Rights expressed concern over the worsening of food insecurity in Cuba. \n",
            "They noted how this situation dis-\n",
            "proportionately affects the most vul-nerable, including older people, preg-nant women, children, and those with chronic illnesses. This is not a problem just in Havana. Most of Cuba’s prov-inces are experiencing high levels of food insecurity. \n",
            "In March, the BBC reported that, for \n",
            "the first time, the Cuban Government has asked the World Food Programme for help amid food shortages. The WFP \n",
            "VerDate Sep 11 2014 02:53 May 22, 2024 Jkt 049060 PO 00000 Frm 00001 Fmt 4634 Sfmt 0634 E:\\CR\\FM\\A21MY7.000 H21MYPT1dmwilson on DSKJM0X7X2PROD with HOUSE® Pdnted on recycled papfil \n"
          ]
        }
      ]
    }
  ]
}
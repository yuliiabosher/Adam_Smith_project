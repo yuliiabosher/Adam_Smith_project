{
  "nbformat": 4,
  "nbformat_minor": 0,
  "metadata": {
    "colab": {
      "provenance": [],
      "authorship_tag": "ABX9TyPT1z+6hDTO1i6cXFWB9U8W",
      "include_colab_link": true
    },
    "kernelspec": {
      "name": "python3",
      "display_name": "Python 3"
    },
    "language_info": {
      "name": "python"
    }
  },
  "cells": [
    {
      "cell_type": "markdown",
      "metadata": {
        "id": "view-in-github",
        "colab_type": "text"
      },
      "source": [
        "<a href=\"https://colab.research.google.com/github/yuliiabosher/Adam_Smith_project/blob/main/Congressional_record.ipynb\" target=\"_parent\"><img src=\"https://colab.research.google.com/assets/colab-badge.svg\" alt=\"Open In Colab\"/></a>"
      ]
    },
    {
      "cell_type": "code",
      "source": [
        "!pip install PyPDF2\n",
        "!pip install dask"
      ],
      "metadata": {
        "id": "XIgKrMaIqWxO",
        "outputId": "6636d2fb-2763-4fd6-c140-0ce37b5a0aa0",
        "colab": {
          "base_uri": "https://localhost:8080/"
        }
      },
      "execution_count": 18,
      "outputs": [
        {
          "metadata": {
            "tags": null
          },
          "name": "stdout",
          "output_type": "stream",
          "text": [
            "Requirement already satisfied: PyPDF2 in /usr/local/lib/python3.10/dist-packages (3.0.1)\n",
            "Requirement already satisfied: dask in /usr/local/lib/python3.10/dist-packages (2023.8.1)\n",
            "Requirement already satisfied: click>=8.0 in /usr/local/lib/python3.10/dist-packages (from dask) (8.1.7)\n",
            "Requirement already satisfied: cloudpickle>=1.5.0 in /usr/local/lib/python3.10/dist-packages (from dask) (2.2.1)\n",
            "Requirement already satisfied: fsspec>=2021.09.0 in /usr/local/lib/python3.10/dist-packages (from dask) (2023.6.0)\n",
            "Requirement already satisfied: packaging>=20.0 in /usr/local/lib/python3.10/dist-packages (from dask) (24.0)\n",
            "Requirement already satisfied: partd>=1.2.0 in /usr/local/lib/python3.10/dist-packages (from dask) (1.4.2)\n",
            "Requirement already satisfied: pyyaml>=5.3.1 in /usr/local/lib/python3.10/dist-packages (from dask) (6.0.1)\n",
            "Requirement already satisfied: toolz>=0.10.0 in /usr/local/lib/python3.10/dist-packages (from dask) (0.12.1)\n",
            "Requirement already satisfied: importlib-metadata>=4.13.0 in /usr/local/lib/python3.10/dist-packages (from dask) (7.1.0)\n",
            "Requirement already satisfied: zipp>=0.5 in /usr/local/lib/python3.10/dist-packages (from importlib-metadata>=4.13.0->dask) (3.18.2)\n",
            "Requirement already satisfied: locket in /usr/local/lib/python3.10/dist-packages (from partd>=1.2.0->dask) (1.0.0)\n"
          ]
        }
      ]
    },
    {
      "cell_type": "code",
      "execution_count": null,
      "metadata": {
        "id": "wWjo2_H4-fxs"
      },
      "outputs": [],
      "source": [
        "import requests\n",
        "import os\n",
        "from google.colab import output\n",
        "import pprint\n",
        "from io import BytesIO\n",
        "import PyPDF2\n",
        "import re\n",
        "import datetime\n",
        "import dask"
      ]
    },
    {
      "cell_type": "code",
      "source": [
        "key = input('enter API key ')\n",
        "os.environ['Congress_API_Key'] = key\n",
        "output.clear()"
      ],
      "metadata": {
        "id": "jhBBTnpE_NJy"
      },
      "execution_count": 19,
      "outputs": []
    },
    {
      "cell_type": "code",
      "source": [
        "def list_endpoints():\n",
        "    date_today = datetime.datetime.now()\n",
        "    year_today = date_today.year\n",
        "    month_today = date_today.month\n",
        "    day_today = date_today.day\n",
        "    key = \"qu2TgXAQPvswtEZ176PFWyfvdb5wd1nwcv2JwEUo\"\n",
        "\n",
        "    endpoints = []\n",
        "    for i in range(1, 3650):\n",
        "        past_date = date_today - datetime.timedelta(days=i)\n",
        "        year = past_date.strftime(\"%Y\")\n",
        "        month = past_date.strftime(\"%m\")\n",
        "        day = past_date.strftime(\"%d\")\n",
        "        endpoint = f\"https://api.congress.gov/v3/congressional-record/?y={year}&m={month}&d={day}&api_key={key}\"\n",
        "        endpoints.append(endpoint)\n",
        "    return endpoints\n",
        "\n",
        "\n",
        "endpoints_result = list_endpoints()"
      ],
      "metadata": {
        "id": "lpdwaPONuf6b"
      },
      "execution_count": 20,
      "outputs": []
    },
    {
      "cell_type": "code",
      "source": [
        "def find_pdf_links(endpoints_list):\n",
        "  try:\n",
        "    links_to_pdfs_with_matches = []\n",
        "    for i in endpoints_list:\n",
        "        response = requests.get(i)\n",
        "        if response.json()['Results']['Issues'] != []:\n",
        "          link_to_pdf_file = response.json()['Results']['Issues'][0]['Links']['FullRecord']['PDF'][0]['Url']\n",
        "          pdf_file = requests.get(link_to_pdf_file)\n",
        "          pdf_data = BytesIO(pdf_file.content)\n",
        "          pdf_reader = PyPDF2.PdfReader(pdf_data)\n",
        "          number_of_pages = len(pdf_reader.pages)\n",
        "          for j in range(number_of_pages):\n",
        "            page = pdf_reader.pages[j]\n",
        "            text = page.extract_text()\n",
        "            adam_smith_matches = re.findall(r'Adam\\sSmith\\W*', text)\n",
        "            if adam_smith_matches != []:\n",
        "              print(adam_smith_matches)\n",
        "              print(link_to_pdf_file)\n",
        "              links_to_pdfs_with_matches.append(link_to_pdf_file)\n",
        "    return links_to_pdfs_with_matches\n",
        "  except Exception as e:\n",
        "    print(e)\n",
        "    return links_to_pdfs_with_matches\n",
        "\n",
        "\n",
        "\n",
        "delayed_pdf_links = dask.delayed(find_pdf_links)(endpoints_result)"
      ],
      "metadata": {
        "id": "H1Zcg6uLubqp"
      },
      "execution_count": 21,
      "outputs": []
    },
    {
      "cell_type": "code",
      "source": [
        "actual_pdf_links = delayed_pdf_links.compute()\n",
        "actual_pdf_links"
      ],
      "metadata": {
        "colab": {
          "base_uri": "https://localhost:8080/"
        },
        "id": "ZW_D3yDPETR8",
        "outputId": "2cfe4c81-8463-472b-a7c7-9385795d0079"
      },
      "execution_count": null,
      "outputs": [
        {
          "output_type": "stream",
          "name": "stdout",
          "text": [
            "['Adam Smith .................................................... ']\n",
            "https://www.congress.gov/118/crec/2024/03/29/170/54/CREC-2024-03-29.pdf\n",
            "['Adam Smith, ']\n",
            "https://www.congress.gov/118/crec/2023/04/19/169/65/CREC-2023-04-19.pdf\n",
            "['Adam Smith .................................................... ']\n",
            "https://www.congress.gov/118/crec/2023/04/06/169/60/CREC-2023-04-06.pdf\n",
            "['Adam Smith’']\n",
            "https://www.congress.gov/118/crec/2023/03/09/169/45/CREC-2023-03-09.pdf\n",
            "['Adam Smith ']\n",
            "https://www.congress.gov/118/crec/2023/01/27/169/18/CREC-2023-01-27.pdf\n",
            "['Adam Smith, ']\n",
            "https://www.congress.gov/118/crec/2023/01/27/169/18/CREC-2023-01-27.pdf\n",
            "['Adam Smith \\n(']\n",
            "https://www.congress.gov/117/crec/2022/12/21/168/199/CREC-2022-12-21.pdf\n",
            "['Adam Smith, ']\n",
            "https://www.congress.gov/117/crec/2022/12/08/168/191/CREC-2022-12-08.pdf\n",
            "['Adam Smith—']\n",
            "https://www.congress.gov/117/crec/2022/07/26/168/124/CREC-2022-07-26.pdf\n",
            "['Adam Smith, ']\n",
            "https://www.congress.gov/117/crec/2022/07/19/168/119/CREC-2022-07-19.pdf\n",
            "['Adam Smith .................................................... ', 'Adam Smith .................................................... ']\n",
            "https://www.congress.gov/117/crec/2022/04/07/168/62/CREC-2022-04-07.pdf\n",
            "['Adam Smith (']\n",
            "https://www.congress.gov/117/crec/2022/02/08/168/25/CREC-2022-02-08.pdf\n"
          ]
        }
      ]
    }
  ]
}
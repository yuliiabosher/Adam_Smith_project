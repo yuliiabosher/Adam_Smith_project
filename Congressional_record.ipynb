{
  "nbformat": 4,
  "nbformat_minor": 0,
  "metadata": {
    "colab": {
      "provenance": [],
      "authorship_tag": "ABX9TyO3TvNV04wYYhJV/yIrzCSa",
      "include_colab_link": true
    },
    "kernelspec": {
      "name": "python3",
      "display_name": "Python 3"
    },
    "language_info": {
      "name": "python"
    }
  },
  "cells": [
    {
      "cell_type": "markdown",
      "metadata": {
        "id": "view-in-github",
        "colab_type": "text"
      },
      "source": [
        "<a href=\"https://colab.research.google.com/github/yuliiabosher/Adam_Smith_project/blob/main/Congressional_record.ipynb\" target=\"_parent\"><img src=\"https://colab.research.google.com/assets/colab-badge.svg\" alt=\"Open In Colab\"/></a>"
      ]
    },
    {
      "cell_type": "code",
      "source": [
        "!pip install PyPDF2\n",
        "!pip install dask"
      ],
      "metadata": {
        "id": "XIgKrMaIqWxO",
        "outputId": "0f3b4525-75d8-4da9-ffda-71e0ef64c8c8",
        "colab": {
          "base_uri": "https://localhost:8080/"
        }
      },
      "execution_count": 2,
      "outputs": [
        {
          "output_type": "stream",
          "name": "stdout",
          "text": [
            "Collecting PyPDF2\n",
            "  Downloading pypdf2-3.0.1-py3-none-any.whl (232 kB)\n",
            "\u001b[2K     \u001b[90m━━━━━━━━━━━━━━━━━━━━━━━━━━━━━━━━━━━━━━━━\u001b[0m \u001b[32m232.6/232.6 kB\u001b[0m \u001b[31m2.0 MB/s\u001b[0m eta \u001b[36m0:00:00\u001b[0m\n",
            "\u001b[?25hInstalling collected packages: PyPDF2\n",
            "Successfully installed PyPDF2-3.0.1\n",
            "Requirement already satisfied: dask in /usr/local/lib/python3.10/dist-packages (2023.8.1)\n",
            "Requirement already satisfied: click>=8.0 in /usr/local/lib/python3.10/dist-packages (from dask) (8.1.7)\n",
            "Requirement already satisfied: cloudpickle>=1.5.0 in /usr/local/lib/python3.10/dist-packages (from dask) (2.2.1)\n",
            "Requirement already satisfied: fsspec>=2021.09.0 in /usr/local/lib/python3.10/dist-packages (from dask) (2023.6.0)\n",
            "Requirement already satisfied: packaging>=20.0 in /usr/local/lib/python3.10/dist-packages (from dask) (24.0)\n",
            "Requirement already satisfied: partd>=1.2.0 in /usr/local/lib/python3.10/dist-packages (from dask) (1.4.2)\n",
            "Requirement already satisfied: pyyaml>=5.3.1 in /usr/local/lib/python3.10/dist-packages (from dask) (6.0.1)\n",
            "Requirement already satisfied: toolz>=0.10.0 in /usr/local/lib/python3.10/dist-packages (from dask) (0.12.1)\n",
            "Requirement already satisfied: importlib-metadata>=4.13.0 in /usr/local/lib/python3.10/dist-packages (from dask) (7.1.0)\n",
            "Requirement already satisfied: zipp>=0.5 in /usr/local/lib/python3.10/dist-packages (from importlib-metadata>=4.13.0->dask) (3.18.2)\n",
            "Requirement already satisfied: locket in /usr/local/lib/python3.10/dist-packages (from partd>=1.2.0->dask) (1.0.0)\n"
          ]
        }
      ]
    },
    {
      "cell_type": "code",
      "execution_count": 3,
      "metadata": {
        "id": "wWjo2_H4-fxs"
      },
      "outputs": [],
      "source": [
        "import requests\n",
        "import os\n",
        "from google.colab import output\n",
        "import pprint\n",
        "from io import BytesIO\n",
        "import PyPDF2\n",
        "import re\n",
        "import datetime\n",
        "import dask"
      ]
    },
    {
      "cell_type": "code",
      "source": [
        "key = input('enter API key ')\n",
        "os.environ['Congress_API_Key'] = key\n",
        "output.clear()"
      ],
      "metadata": {
        "id": "jhBBTnpE_NJy"
      },
      "execution_count": 4,
      "outputs": []
    },
    {
      "cell_type": "code",
      "source": [
        "def list_endpoints(year,month,day):\n",
        "    date_today = datetime.datetime(year, month, day)\n",
        "    endpoints = []\n",
        "    for i in range(1, 365):\n",
        "        past_date = date_today - datetime.timedelta(days=i)\n",
        "        year = past_date.strftime(\"%Y\")\n",
        "        month = past_date.strftime(\"%m\")\n",
        "        day = past_date.strftime(\"%d\")\n",
        "        endpoint = f\"https://api.congress.gov/v3/congressional-record/?y={year}&m={month}&d={day}&api_key={key}\"\n",
        "        endpoints.append(endpoint)\n",
        "    return endpoints"
      ],
      "metadata": {
        "id": "lpdwaPONuf6b"
      },
      "execution_count": 5,
      "outputs": []
    },
    {
      "cell_type": "code",
      "source": [
        "def find_pdf_links(endpoints_list):\n",
        "  try:\n",
        "    links_to_pdfs_with_matches = []\n",
        "    for i in endpoints_list:\n",
        "        response = requests.get(i)\n",
        "        if response.json()['Results']['Issues'] != []:\n",
        "          link_to_pdf_file = response.json()['Results']['Issues'][0]['Links']['FullRecord']['PDF'][0]['Url']\n",
        "          pdf_file = requests.get(link_to_pdf_file)\n",
        "          if pdf_file.content[-7:] == b'\\n%%EOF\\n':\n",
        "            pdf_data = BytesIO(pdf_file.content)\n",
        "            pdf_reader = PyPDF2.PdfReader(pdf_data)\n",
        "            number_of_pages = len(pdf_reader.pages)\n",
        "            for j in range(number_of_pages):\n",
        "              page = pdf_reader.pages[j]\n",
        "              text = page.extract_text()\n",
        "              adam_smith_matches = re.findall(r'Adam\\sSmith\\W*', text)\n",
        "              if adam_smith_matches != []:\n",
        "                print(link_to_pdf_file)\n",
        "                links_to_pdfs_with_matches.append(link_to_pdf_file)\n",
        "    return links_to_pdfs_with_matches\n",
        "  except Exception as e:\n",
        "    print(e)\n",
        "    return links_to_pdfs_with_matches\n",
        "\n",
        "delayed_pdf_links = [dask.delayed(find_pdf_links)(list_endpoints(i,5,20)) for i in range(1998,2003)]"
      ],
      "metadata": {
        "id": "H1Zcg6uLubqp"
      },
      "execution_count": 6,
      "outputs": []
    },
    {
      "cell_type": "code",
      "source": [
        "actual_pdf_links = dask.compute(delayed_pdf_links)\n",
        "actual_pdf_links"
      ],
      "metadata": {
        "colab": {
          "base_uri": "https://localhost:8080/"
        },
        "id": "ZW_D3yDPETR8",
        "outputId": "71c24707-64ec-4366-c9d0-bf1160093e16"
      },
      "execution_count": 7,
      "outputs": [
        {
          "output_type": "stream",
          "name": "stdout",
          "text": [
            "https://www.congress.gov/105/crec/1998/05/19/144/64/CREC-1998-05-19.pdf\n",
            "https://www.congress.gov/105/crec/1998/05/19/144/64/CREC-1998-05-19.pdf\n",
            "https://www.congress.gov/105/crec/1998/05/19/144/64/CREC-1998-05-19.pdf\n",
            "https://www.congress.gov/105/crec/1998/05/19/144/64/CREC-1998-05-19.pdf\n",
            "https://www.congress.gov/105/crec/1998/05/14/144/61/CREC-1998-05-14.pdf\n",
            "https://www.congress.gov/105/crec/1998/05/14/144/61/CREC-1998-05-14.pdf\n",
            "https://www.congress.gov/105/crec/1998/05/13/144/60/CREC-1998-05-13.pdf\n",
            "https://www.congress.gov/105/crec/1998/05/13/144/60/CREC-1998-05-13.pdf\n",
            "https://www.congress.gov/105/crec/1998/05/13/144/60/CREC-1998-05-13.pdf\n",
            "https://www.congress.gov/105/crec/1998/05/13/144/60/CREC-1998-05-13.pdf\n",
            "https://www.congress.gov/105/crec/1998/05/13/144/60/CREC-1998-05-13.pdf\n",
            "https://www.congress.gov/105/crec/1998/05/13/144/60/CREC-1998-05-13.pdf\n",
            "https://www.congress.gov/105/crec/1998/05/13/144/60/CREC-1998-05-13.pdf\n",
            "Missed the stop code in LZWDecode!\n",
            "https://www.congress.gov/106/crec/2000/05/18/146/62/CREC-2000-05-18.pdf\n",
            "https://www.congress.gov/106/crec/2000/05/11/146/58/CREC-2000-05-11.pdf\n",
            "https://www.congress.gov/107/crec/2002/04/18/CREC-2002-04-18.pdf\n",
            "https://www.congress.gov/107/crec/2002/04/11/CREC-2002-04-11.pdf\n"
          ]
        },
        {
          "output_type": "stream",
          "name": "stderr",
          "text": [
            "WARNING:PyPDF2.generic._base:Illegal character in Name Object (b'/H\\x892\\xb740P\\x80@s\\x10\\xd3\\x14\\x88S\\x0cy\\xb9\\x0c\\x152\\x15x\\xb9\\x0c\\x14\\x8c\\x0cL\\x15')\n"
          ]
        },
        {
          "output_type": "stream",
          "name": "stdout",
          "text": [
            "https://www.congress.gov/107/crec/2002/04/09/CREC-2002-04-09.pdf\n",
            "https://www.congress.gov/106/crec/2000/04/11/146/45/CREC-2000-04-11.pdf\n",
            "https://www.congress.gov/107/crec/2002/03/20/CREC-2002-03-20.pdf\n",
            "https://www.congress.gov/106/crec/2000/03/21/146/32/CREC-2000-03-21.pdf\n",
            "https://www.congress.gov/107/crec/2002/02/28/CREC-2002-02-28.pdf\n",
            "https://www.congress.gov/106/crec/2000/03/14/146/28/CREC-2000-03-14.pdf\n",
            "https://www.congress.gov/106/crec/2000/03/14/146/28/CREC-2000-03-14.pdf\n",
            "https://www.congress.gov/106/crec/2000/02/10/146/12/CREC-2000-02-10.pdf\n",
            "https://www.congress.gov/107/crec/2002/01/24/CREC-2002-01-24.pdf\n"
          ]
        },
        {
          "output_type": "stream",
          "name": "stderr",
          "text": [
            "WARNING:PyPDF2.generic._base:Illegal character in Name Object (b'/\\x84\\xf8\\x88\\r\\xf77\\xc7\\x01\\x8b\\xf8\\x96\\x03\\xf8\\x96\\xf7s\\x15\\xfc\\x88\\x06}O\\x05\\xf8\\x88\\x06\\t\\x0e\\x94\\xf8')\n"
          ]
        },
        {
          "output_type": "stream",
          "name": "stdout",
          "text": [
            "https://www.congress.gov/107/crec/2001/12/20/CREC-2001-12-20.pdf\n",
            "https://www.congress.gov/106/crec/1999/11/17/145/163/CREC-1999-11-17.pdf\n",
            "https://www.congress.gov/107/crec/2001/12/06/CREC-2001-12-06.pdf\n",
            "https://www.congress.gov/106/crec/1999/11/09/145/157/CREC-1999-11-09.pdf\n",
            "https://www.congress.gov/106/crec/1999/11/09/145/157/CREC-1999-11-09.pdf\n",
            "https://www.congress.gov/107/crec/2001/11/30/CREC-2001-11-30.pdf\n",
            "https://www.congress.gov/107/crec/2001/11/27/CREC-2001-11-27.pdf\n",
            "https://www.congress.gov/107/crec/2001/11/14/CREC-2001-11-14.pdf\n",
            "https://www.congress.gov/106/crec/1999/11/02/145/152/CREC-1999-11-02.pdf\n",
            "https://www.congress.gov/106/crec/1999/11/01/145/151/CREC-1999-11-01.pdf\n",
            "https://www.congress.gov/106/crec/1999/10/28/145/149/CREC-1999-10-28.pdf\n",
            "https://www.congress.gov/107/crec/2001/10/30/CREC-2001-10-30.pdf\n",
            "https://www.congress.gov/107/crec/2001/10/30/CREC-2001-10-30.pdf\n",
            "https://www.congress.gov/106/crec/1999/10/27/145/148/CREC-1999-10-27.pdf\n",
            "https://www.congress.gov/107/crec/2001/10/25/CREC-2001-10-25.pdf\n",
            "https://www.congress.gov/107/crec/2001/10/15/CREC-2001-10-15.pdf\n",
            "https://www.congress.gov/107/crec/2001/10/12/CREC-2001-10-12.pdf\n",
            "https://www.congress.gov/107/crec/2001/10/04/CREC-2001-10-04.pdf\n",
            "https://www.congress.gov/106/crec/1999/10/13/145/138/CREC-1999-10-13.pdf\n",
            "Missed the stop code in LZWDecode!\n",
            "https://www.congress.gov/107/crec/2001/05/17/CREC-2001-05-17.pdf\n",
            "https://www.congress.gov/107/crec/2001/05/10/CREC-2001-05-10.pdf\n",
            "https://www.congress.gov/107/crec/2001/09/14/CREC-2001-09-14.pdf\n",
            "https://www.congress.gov/107/crec/2001/09/13/CREC-2001-09-13.pdf\n",
            "https://www.congress.gov/107/crec/2001/09/06/CREC-2001-09-06.pdf\n",
            "https://www.congress.gov/107/crec/2001/04/26/147/54/CREC-2001-04-26.pdf\n",
            "https://www.congress.gov/107/crec/2001/04/24/CREC-2001-04-24.pdf\n",
            "https://www.congress.gov/107/crec/2001/07/26/CREC-2001-07-26.pdf\n",
            "https://www.congress.gov/107/crec/2001/03/29/147/44/CREC-2001-03-29.pdf\n",
            "https://www.congress.gov/107/crec/2001/03/28/CREC-2001-03-28.pdf\n",
            "https://www.congress.gov/107/crec/2001/07/20/CREC-2001-07-20.pdf\n",
            "https://www.congress.gov/107/crec/2001/07/19/CREC-2001-07-19.pdf\n",
            "https://www.congress.gov/107/crec/2001/07/19/CREC-2001-07-19.pdf\n",
            "https://www.congress.gov/107/crec/2001/03/22/CREC-2001-03-22.pdf\n",
            "https://www.congress.gov/107/crec/2001/03/15/CREC-2001-03-15.pdf\n",
            "https://www.congress.gov/107/crec/2001/07/10/CREC-2001-07-10.pdf\n",
            "https://www.congress.gov/107/crec/2001/06/27/CREC-2001-06-27.pdf\n",
            "https://www.congress.gov/107/crec/2001/02/14/CREC-2001-02-14.pdf\n",
            "https://www.congress.gov/107/crec/2001/02/06/CREC-2001-02-06.pdf\n"
          ]
        },
        {
          "output_type": "stream",
          "name": "stderr",
          "text": [
            "WARNING:PyPDF2.generic._base:Illegal character in Name Object (b'/\\xa7\\xf7\\xcd\\r\\x94\\xdc\\x03\\xf8\\xc1\\x9f\\x01\\x96\\n\\xea\\xf7&\\x15\\xf3\\x07\\xf7>\\xf7\\x95\\x05|\\x96\\x05sp\\x05')\n",
            "WARNING:PyPDF2.generic._base:Illegal character in Name Object (b'/\\x0e\\x8b\\xf8\\x88\\r\\x0e\\x8b\\xf8\\x88\\r\\x0e\\x8b\\xf8\\x88\\r\\x0e\\x97\\xf8\\xbb\\r\\xf7f\\xe5\\x03\\xf8u1\\x03\\xa9\\xdc')\n",
            "WARNING:PyPDF2.generic._base:Illegal character in Name Object (b'/\\xa7\\xf7\\xcd\\r\\x94\\xdc\\x03\\xf8\\xc1\\x9f\\x01\\x96\\n\\xea\\xf7&\\x15\\xf3\\x07\\xf7>\\xf7\\x95\\x05|\\x96\\x05sp\\x05')\n",
            "WARNING:PyPDF2.generic._base:Illegal character in Name Object (b'/\\x99\\xf8\\x19\\r}\\xcb\\x01\\xf8\\x0c\\xa3\\x01\\x8b\\xef\\x03\\xf7\\xbe\\xc3\\x03\\x8b\\xf7\\x01\\x15@\\xb9[\\xd3\\x1e\\xf5\\xd6\\xee')\n",
            "WARNING:PyPDF2.generic._base:Illegal character in Name Object (b'/\\x15`\\x98p\\xb7\\x1e\\xf7\\x08\\x8b\\xf2\\xf76\\x93\\x8b\\x08\\x8d\\x8d\\x8a\\x89\\x1f\\x8b\\x80c6\\x8bf\\x08x\\x92\\x84')\n",
            "WARNING:PyPDF2.generic._base:Illegal character in Name Object (b'/\\x99\\xf8\\x19\\r}\\xcb\\x01\\xf8\\x0c\\xa3\\x01\\x8b\\xef\\x03\\xf7\\xbe\\xc3\\x03\\x8b\\xf7\\x01\\x15@\\xb9[\\xd3\\x1e\\xf5\\xd6\\xee')\n"
          ]
        },
        {
          "output_type": "stream",
          "name": "stdout",
          "text": [
            "Missed the stop code in LZWDecode!\n"
          ]
        },
        {
          "output_type": "stream",
          "name": "stderr",
          "text": [
            "WARNING:PyPDF2.generic._base:Illegal character in Name Object (b'/\\xa7\\xf7\\xcd\\r\\x94\\xdc\\x03\\xf8\\xc1\\x9f\\x01\\x96\\n\\xea\\xf7&\\x15\\xf3\\x07\\xf7>\\xf7\\x95\\x05|\\x96\\x05sp\\x05')\n",
            "WARNING:PyPDF2.generic._base:Illegal character in Name Object (b'/\\x8a\\xf7\\x98\\x15\\xd7\\x07\\xa5t\\xa4w\\xa1c\\x08B\\xfb')\n",
            "WARNING:PyPDF2.generic._base:Illegal character in Name Object (b'/\\xc1\\x05\\x84\\x9f\\x05q\\x84\\x88\\x9d\\x8b\\x97\\x08\\xf7\\xe3\\x07\\x90\\x9e\\x05\\x94\\x9a\\x05\\x98\\x07\\xfb:\\xd1_\\x8c\\x8b\\x8b')\n",
            "WARNING:PyPDF2.generic._base:Illegal character in Name Object (b'/\\xa7\\xf7\\xcd\\r\\x94\\xdc\\x03\\xf8\\xc1\\x9f\\x01\\x96\\n\\xea\\xf7&\\x15\\xf3\\x07\\xf7>\\xf7\\x95\\x05|\\x96\\x05sp\\x05')\n",
            "WARNING:PyPDF2.generic._base:Illegal character in Name Object (b'/\\xf5\\xfb\\x16\\x1e\\t\\x94o\\x15\\xcc\\x95`|\\x1fW|\\x7f\\xfb\\x1d\\x1et\\x82\\x8c\\x9b\\x1f\\xaf\\xb5\\xd0\\xce\\x1e\\t')\n",
            "WARNING:PyPDF2.generic._base:Illegal character in Name Object (b'/\\ry\\xc3\\x01\\xf8\\x02\\xad\\x01\\x92\\xe7\\x03\\xf7}\\xe7\\x03\\xdby\\x15\\xdd\\x8b\\xc6\\xbe\\x91\\x8b\\x08\\xc1\\x8c\\x8e\\x0c\\x10')\n",
            "WARNING:PyPDF2.generic._base:Illegal character in Name Object (b'/\\x8d\\x8e\\x95\\x1f\\xcb]\\xf5\\xfb\\x16\\x1e\\t\\x94o\\x15\\xcc\\x95`|\\x1fW|\\x7f\\xfb\\x1d\\x1et\\x82\\x8c\\x9b\\x1f')\n",
            "WARNING:PyPDF2.generic._base:Illegal character in Name Object (b'/\\xa3\\xf8P\\ry\\xcb\\x01\\xf7r\\xa7\\x01\\xf8\\x08\\xa7\\x01\\x8b\\xf1\\x03\\xf7\\xb6\\xe7\\x03\\xf7b\\xf8$\\x15-\\xfb\\x04')\n",
            "WARNING:PyPDF2.generic._base:Illegal character in Name Object (b'/\\xa3\\xf8P\\ry\\xcb\\x01\\xf7r\\xa7\\x01\\xf8\\x08\\xa7\\x01\\x8b\\xf1\\x03\\xf7\\xb6\\xe7\\x03\\xf7b\\xf8$\\x15-\\xfb\\x04')\n",
            "WARNING:PyPDF2.generic._base:Illegal character in Name Object (b'/\\xff\\xff\\xff\\xff\\xff\\xff\\xff\\xff\\xff\\xff\\xff\\xff\\xff\\xff\\xff\\xff\\xff\\xff\\xff\\xff\\xff\\xff\\xff\\xff\\xff\\xff\\xff\\xff\\xff\\xff')\n",
            "WARNING:PyPDF2.generic._base:Illegal character in Name Object (b'/\\xff\\xff\\xff\\xff\\xff\\xff\\xff\\xff\\xff\\xff\\xff\\xff\\xff\\xff\\xff\\xff\\xff\\xff\\xff\\xff\\xff\\xff\\xff\\xff\\xff\\xff\\xff\\xff\\xff\\xff')\n",
            "WARNING:PyPDF2.generic._base:Illegal character in Name Object (b'/\\xff\\xff\\xff\\xff\\xff\\xff\\xff\\xff\\xff\\xff\\xff\\xff\\xff\\xff\\xff\\xff\\xff\\xff\\xff\\xff\\xff\\xff\\xff\\xff\\xff\\xff\\xff\\xff\\xff\\xff')\n",
            "WARNING:PyPDF2.generic._base:Illegal character in Name Object (b'/\\xff\\xff\\xff\\xff\\xff\\xff\\xff\\xff\\xff\\xff\\xff\\xff\\xff\\xff\\xff\\xff\\xff\\xff\\xff\\xff\\xff\\xff\\xff\\xff\\xff\\xff\\xff\\xff\\xff\\xff')\n",
            "WARNING:PyPDF2.generic._base:Illegal character in Name Object (b'/\\xff\\xff\\xff\\xff\\xff\\xff\\xff\\xff\\xff\\xff\\xff\\xff\\xff\\xff\\xff\\xff\\xff\\xff\\xff\\xff\\xff\\xff\\xff\\xff\\xff\\xff\\xff\\xff\\xff\\xff')\n",
            "WARNING:PyPDF2.generic._base:Illegal character in Name Object (b'/H\\x892\\xb740P\\x80@s\\x10\\xd3\\x14\\x88S\\x0cy\\xb9\\x0c\\x152\\x15x\\xb9\\x0c\\x14\\x8c\\x0cL\\x15')\n"
          ]
        },
        {
          "output_type": "stream",
          "name": "stdout",
          "text": [
            "https://www.congress.gov/106/crec/2000/09/20/CREC-2000-09-20.pdf\n",
            "https://www.congress.gov/106/crec/2000/09/14/CREC-2000-09-14.pdf\n",
            "https://www.congress.gov/106/crec/2000/09/14/CREC-2000-09-14.pdf\n",
            "https://www.congress.gov/106/crec/2000/09/08/CREC-2000-09-08.pdf\n"
          ]
        },
        {
          "output_type": "stream",
          "name": "stderr",
          "text": [
            "WARNING:PyPDF2.generic._base:Illegal character in Name Object (b'/\\x8b\\xf8\\x88\\r\\xf75\\xc7\\x01\\x8b\\xf8\\x88\\x03\\xf8\\x88\\xf7q\\x15\\xfc\\x88\\x06O\\x07\\xf8\\x88\\x06\\t\\x0e\\xb9\\xf8\\x88')\n",
            "WARNING:PyPDF2.generic._base:Illegal character in Name Object (b'/\\x8b\\xf8\\x88\\r\\xf75\\xc7\\x01\\x8b\\xf8\\x88\\x03\\xf8\\x88\\xf7q\\x15\\xfc\\x88\\x06O\\x07\\xf8\\x88\\x06\\t\\x0e\\xb9\\xf8\\x88')\n",
            "WARNING:PyPDF2.generic._base:Illegal character in Name Object (b'/\\xf7\\x0c}\\x8b\\xfb\\x0c\\x08\\xfbB\\xfbxb\\x87\\x1e\\x82\\x84\\x88\\x84\\x1f{\\x92\\x8b\\x96\\x1e\\xed\\xf7l\\xdb\\xf7M')\n",
            "WARNING:PyPDF2.generic._base:Illegal character in Name Object (b'/\\x84\\xf8\\x88\\r\\xf77\\xc7\\x01\\x8b\\xf8\\x96\\x03\\xf8\\x96\\xf7s\\x15\\xfc\\x88\\x06}O\\x05\\xf8\\x88\\x06\\t\\x0e\\x94\\xf8')\n"
          ]
        },
        {
          "output_type": "stream",
          "name": "stdout",
          "text": [
            "https://www.congress.gov/106/crec/2000/06/19/CREC-2000-06-19.pdf\n"
          ]
        },
        {
          "output_type": "stream",
          "name": "stderr",
          "text": [
            "WARNING:PyPDF2.generic._base:Illegal character in Name Object (b'/\\x8b\\xf8\\x88\\r\\xf75\\xc7\\x01\\x8b\\xf8\\x88\\x03\\xf8\\x88\\xf7q\\x15\\xfc\\x88\\x06O\\x07\\xf8\\x88\\x06\\t\\x0e\\xb9\\xf8\\x88')\n",
            "WARNING:PyPDF2.generic._base:Illegal character in Name Object (b'/\\x8b\\xf8\\x88\\r\\xf75\\xc7\\x01\\x8b\\xf8\\x88\\x03\\xf8\\x88\\xf7q\\x15\\xfc\\x88\\x06O\\x07\\xf8\\x88\\x06\\t\\x0e\\xb9\\xf8\\x88')\n",
            "WARNING:PyPDF2.generic._base:Illegal character in Name Object (b'/\\x8b\\xf8\\x88\\r\\xf75\\xc7\\x01\\x8b\\xf8\\x88\\x03\\xf8\\x88\\xf7q\\x15\\xfc\\x88\\x06O\\x07\\xf8\\x88\\x06\\t\\x0e\\xb9\\xf8\\x88')\n",
            "WARNING:PyPDF2.generic._base:Illegal character in Name Object (b'/\\x0c}\\x8b\\xfb\\x0c\\x08\\xfbB\\xfbxb\\x87\\x1e\\x82\\x84\\x88\\x84\\x1f{\\x92\\x8b\\x96\\x1e\\xed\\xf7l\\xdb\\xf7M\\x1f')\n",
            "WARNING:PyPDF2.generic._base:Illegal character in Name Object (b'/\\x84\\xf8\\x88\\r\\xf77\\xc7\\x01\\x8b\\xf8\\x96\\x03\\xf8\\x96\\xf7s\\x15\\xfc\\x88\\x06}O\\x05\\xf8\\x88\\x06\\t\\x0e\\x94\\xf8')\n",
            "WARNING:PyPDF2.generic._base:Illegal character in Name Object (b'/\\x84\\xf8\\x88\\r\\xf77\\xc7\\x01\\x8b\\xf8\\x96\\x03\\xf8\\x96\\xf7s\\x15\\xfc\\x88\\x06}O\\x05\\xf8\\x88\\x06\\t\\x0e\\x94\\xf8')\n",
            "WARNING:PyPDF2.generic._base:Illegal character in Name Object (b'/\\x84\\xf8\\x88\\r\\xf77\\xc7\\x01\\x8b\\xf8\\x96\\x03\\xf8\\x96\\xf7s\\x15\\xfc\\x88\\x06}O\\x05\\xf8\\x88\\x06\\t\\x0e\\x94\\xf8')\n",
            "WARNING:PyPDF2.generic._base:Illegal character in Name Object (b'/\\x98\\xa0\\xbe\\x8b\\xa2\\x08\\x92\\x89\\x8f\\x85\\x1e\\x7f\\x8b\\x89vy\\x86\\x08Y}L\\x96Mx\\x08j\\x81Y\\\\\\x8b')\n"
          ]
        },
        {
          "output_type": "stream",
          "name": "stdout",
          "text": [
            "https://www.congress.gov/106/crec/2000/06/15/146/75/CREC-2000-06-15.pdf\n"
          ]
        },
        {
          "output_type": "stream",
          "name": "stderr",
          "text": [
            "WARNING:PyPDF2.generic._base:Illegal character in Name Object (b'/\\x8b\\xa2\\x08\\x92\\x89\\x8f\\x85\\x1e\\x7f\\x8b\\x89vy\\x86\\x08Y}L\\x96Mx\\x08j\\x81Y\\\\\\x8bA\\x08\\x8b')\n",
            "WARNING:PyPDF2.generic._base:Illegal character in Name Object (b'/\\x84\\xf8\\x88\\r\\xf77\\xc7\\x01\\x8b\\xf8\\x96\\x03\\xf8\\x96\\xf7s\\x15\\xfc\\x88\\x06}O\\x05\\xf8\\x88\\x06\\t\\x0e\\x94\\xf8')\n"
          ]
        },
        {
          "output_type": "stream",
          "name": "stdout",
          "text": [
            "https://www.congress.gov/106/crec/2000/06/08/146/70/CREC-2000-06-08.pdf\n",
            "https://www.congress.gov/106/crec/2000/06/08/146/70/CREC-2000-06-08.pdf\n"
          ]
        },
        {
          "output_type": "execute_result",
          "data": {
            "text/plain": [
              "([['https://www.congress.gov/105/crec/1998/05/19/144/64/CREC-1998-05-19.pdf',\n",
              "   'https://www.congress.gov/105/crec/1998/05/19/144/64/CREC-1998-05-19.pdf',\n",
              "   'https://www.congress.gov/105/crec/1998/05/19/144/64/CREC-1998-05-19.pdf',\n",
              "   'https://www.congress.gov/105/crec/1998/05/19/144/64/CREC-1998-05-19.pdf',\n",
              "   'https://www.congress.gov/105/crec/1998/05/14/144/61/CREC-1998-05-14.pdf',\n",
              "   'https://www.congress.gov/105/crec/1998/05/14/144/61/CREC-1998-05-14.pdf',\n",
              "   'https://www.congress.gov/105/crec/1998/05/13/144/60/CREC-1998-05-13.pdf',\n",
              "   'https://www.congress.gov/105/crec/1998/05/13/144/60/CREC-1998-05-13.pdf',\n",
              "   'https://www.congress.gov/105/crec/1998/05/13/144/60/CREC-1998-05-13.pdf',\n",
              "   'https://www.congress.gov/105/crec/1998/05/13/144/60/CREC-1998-05-13.pdf',\n",
              "   'https://www.congress.gov/105/crec/1998/05/13/144/60/CREC-1998-05-13.pdf',\n",
              "   'https://www.congress.gov/105/crec/1998/05/13/144/60/CREC-1998-05-13.pdf',\n",
              "   'https://www.congress.gov/105/crec/1998/05/13/144/60/CREC-1998-05-13.pdf'],\n",
              "  [],\n",
              "  ['https://www.congress.gov/106/crec/2000/05/18/146/62/CREC-2000-05-18.pdf',\n",
              "   'https://www.congress.gov/106/crec/2000/05/11/146/58/CREC-2000-05-11.pdf',\n",
              "   'https://www.congress.gov/106/crec/2000/04/11/146/45/CREC-2000-04-11.pdf',\n",
              "   'https://www.congress.gov/106/crec/2000/03/21/146/32/CREC-2000-03-21.pdf',\n",
              "   'https://www.congress.gov/106/crec/2000/03/14/146/28/CREC-2000-03-14.pdf',\n",
              "   'https://www.congress.gov/106/crec/2000/03/14/146/28/CREC-2000-03-14.pdf',\n",
              "   'https://www.congress.gov/106/crec/2000/02/10/146/12/CREC-2000-02-10.pdf',\n",
              "   'https://www.congress.gov/106/crec/1999/11/17/145/163/CREC-1999-11-17.pdf',\n",
              "   'https://www.congress.gov/106/crec/1999/11/09/145/157/CREC-1999-11-09.pdf',\n",
              "   'https://www.congress.gov/106/crec/1999/11/09/145/157/CREC-1999-11-09.pdf',\n",
              "   'https://www.congress.gov/106/crec/1999/11/02/145/152/CREC-1999-11-02.pdf',\n",
              "   'https://www.congress.gov/106/crec/1999/11/01/145/151/CREC-1999-11-01.pdf',\n",
              "   'https://www.congress.gov/106/crec/1999/10/28/145/149/CREC-1999-10-28.pdf',\n",
              "   'https://www.congress.gov/106/crec/1999/10/27/145/148/CREC-1999-10-27.pdf',\n",
              "   'https://www.congress.gov/106/crec/1999/10/13/145/138/CREC-1999-10-13.pdf'],\n",
              "  ['https://www.congress.gov/107/crec/2001/05/17/CREC-2001-05-17.pdf',\n",
              "   'https://www.congress.gov/107/crec/2001/05/10/CREC-2001-05-10.pdf',\n",
              "   'https://www.congress.gov/107/crec/2001/04/26/147/54/CREC-2001-04-26.pdf',\n",
              "   'https://www.congress.gov/107/crec/2001/04/24/CREC-2001-04-24.pdf',\n",
              "   'https://www.congress.gov/107/crec/2001/03/29/147/44/CREC-2001-03-29.pdf',\n",
              "   'https://www.congress.gov/107/crec/2001/03/28/CREC-2001-03-28.pdf',\n",
              "   'https://www.congress.gov/107/crec/2001/03/22/CREC-2001-03-22.pdf',\n",
              "   'https://www.congress.gov/107/crec/2001/03/15/CREC-2001-03-15.pdf',\n",
              "   'https://www.congress.gov/107/crec/2001/02/14/CREC-2001-02-14.pdf',\n",
              "   'https://www.congress.gov/107/crec/2001/02/06/CREC-2001-02-06.pdf',\n",
              "   'https://www.congress.gov/106/crec/2000/09/20/CREC-2000-09-20.pdf',\n",
              "   'https://www.congress.gov/106/crec/2000/09/14/CREC-2000-09-14.pdf',\n",
              "   'https://www.congress.gov/106/crec/2000/09/14/CREC-2000-09-14.pdf',\n",
              "   'https://www.congress.gov/106/crec/2000/09/08/CREC-2000-09-08.pdf',\n",
              "   'https://www.congress.gov/106/crec/2000/06/19/CREC-2000-06-19.pdf',\n",
              "   'https://www.congress.gov/106/crec/2000/06/15/146/75/CREC-2000-06-15.pdf',\n",
              "   'https://www.congress.gov/106/crec/2000/06/08/146/70/CREC-2000-06-08.pdf',\n",
              "   'https://www.congress.gov/106/crec/2000/06/08/146/70/CREC-2000-06-08.pdf'],\n",
              "  ['https://www.congress.gov/107/crec/2002/04/18/CREC-2002-04-18.pdf',\n",
              "   'https://www.congress.gov/107/crec/2002/04/11/CREC-2002-04-11.pdf',\n",
              "   'https://www.congress.gov/107/crec/2002/04/09/CREC-2002-04-09.pdf',\n",
              "   'https://www.congress.gov/107/crec/2002/03/20/CREC-2002-03-20.pdf',\n",
              "   'https://www.congress.gov/107/crec/2002/02/28/CREC-2002-02-28.pdf',\n",
              "   'https://www.congress.gov/107/crec/2002/01/24/CREC-2002-01-24.pdf',\n",
              "   'https://www.congress.gov/107/crec/2001/12/20/CREC-2001-12-20.pdf',\n",
              "   'https://www.congress.gov/107/crec/2001/12/06/CREC-2001-12-06.pdf',\n",
              "   'https://www.congress.gov/107/crec/2001/11/30/CREC-2001-11-30.pdf',\n",
              "   'https://www.congress.gov/107/crec/2001/11/27/CREC-2001-11-27.pdf',\n",
              "   'https://www.congress.gov/107/crec/2001/11/14/CREC-2001-11-14.pdf',\n",
              "   'https://www.congress.gov/107/crec/2001/10/30/CREC-2001-10-30.pdf',\n",
              "   'https://www.congress.gov/107/crec/2001/10/30/CREC-2001-10-30.pdf',\n",
              "   'https://www.congress.gov/107/crec/2001/10/25/CREC-2001-10-25.pdf',\n",
              "   'https://www.congress.gov/107/crec/2001/10/15/CREC-2001-10-15.pdf',\n",
              "   'https://www.congress.gov/107/crec/2001/10/12/CREC-2001-10-12.pdf',\n",
              "   'https://www.congress.gov/107/crec/2001/10/04/CREC-2001-10-04.pdf',\n",
              "   'https://www.congress.gov/107/crec/2001/09/14/CREC-2001-09-14.pdf',\n",
              "   'https://www.congress.gov/107/crec/2001/09/13/CREC-2001-09-13.pdf',\n",
              "   'https://www.congress.gov/107/crec/2001/09/06/CREC-2001-09-06.pdf',\n",
              "   'https://www.congress.gov/107/crec/2001/07/26/CREC-2001-07-26.pdf',\n",
              "   'https://www.congress.gov/107/crec/2001/07/20/CREC-2001-07-20.pdf',\n",
              "   'https://www.congress.gov/107/crec/2001/07/19/CREC-2001-07-19.pdf',\n",
              "   'https://www.congress.gov/107/crec/2001/07/19/CREC-2001-07-19.pdf',\n",
              "   'https://www.congress.gov/107/crec/2001/07/10/CREC-2001-07-10.pdf',\n",
              "   'https://www.congress.gov/107/crec/2001/06/27/CREC-2001-06-27.pdf']],)"
            ]
          },
          "metadata": {},
          "execution_count": 7
        }
      ]
    }
  ]
}
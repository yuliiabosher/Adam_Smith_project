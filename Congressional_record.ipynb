{
  "nbformat": 4,
  "nbformat_minor": 0,
  "metadata": {
    "colab": {
      "provenance": [],
      "authorship_tag": "ABX9TyP/YCSkut00CHXYchQrWG2T",
      "include_colab_link": true
    },
    "kernelspec": {
      "name": "python3",
      "display_name": "Python 3"
    },
    "language_info": {
      "name": "python"
    }
  },
  "cells": [
    {
      "cell_type": "markdown",
      "metadata": {
        "id": "view-in-github",
        "colab_type": "text"
      },
      "source": [
        "<a href=\"https://colab.research.google.com/github/yuliiabosher/Adam_Smith_project/blob/main/Congressional_record.ipynb\" target=\"_parent\"><img src=\"https://colab.research.google.com/assets/colab-badge.svg\" alt=\"Open In Colab\"/></a>"
      ]
    },
    {
      "cell_type": "code",
      "source": [
        "!pip install PyPDF2"
      ],
      "metadata": {
        "id": "XIgKrMaIqWxO",
        "outputId": "8fef3c16-f8e9-445f-a1a8-291dbccfdfd6",
        "colab": {
          "base_uri": "https://localhost:8080/"
        }
      },
      "execution_count": 1,
      "outputs": [
        {
          "output_type": "stream",
          "name": "stdout",
          "text": [
            "Collecting PyPDF2\n",
            "  Downloading pypdf2-3.0.1-py3-none-any.whl (232 kB)\n",
            "\u001b[2K     \u001b[90m━━━━━━━━━━━━━━━━━━━━━━━━━━━━━━━━━━━━━━━━\u001b[0m \u001b[32m232.6/232.6 kB\u001b[0m \u001b[31m4.3 MB/s\u001b[0m eta \u001b[36m0:00:00\u001b[0m\n",
            "\u001b[?25hInstalling collected packages: PyPDF2\n",
            "Successfully installed PyPDF2-3.0.1\n"
          ]
        }
      ]
    },
    {
      "cell_type": "code",
      "execution_count": 2,
      "metadata": {
        "id": "wWjo2_H4-fxs"
      },
      "outputs": [],
      "source": [
        "import requests\n",
        "import os\n",
        "from google.colab import output\n",
        "import pprint\n",
        "from io import BytesIO\n",
        "import PyPDF2\n",
        "import re\n",
        "import datetime"
      ]
    },
    {
      "cell_type": "code",
      "source": [
        "key = input('enter API key ')\n",
        "os.environ['Congress_API_Key'] = key\n",
        "output.clear()"
      ],
      "metadata": {
        "id": "jhBBTnpE_NJy"
      },
      "execution_count": null,
      "outputs": []
    },
    {
      "cell_type": "code",
      "source": [
        "date_today = datetime.datetime.now()\n",
        "year_today = date_today.year\n",
        "month_today = date_today.month\n",
        "day_today = date_today.day"
      ],
      "metadata": {
        "id": "R9tyA7AqcFfh"
      },
      "execution_count": null,
      "outputs": []
    },
    {
      "cell_type": "code",
      "source": [
        "ten_years_in_days = 36500\n",
        "total_matches = []\n",
        "for i in range(1, ten_years_in_days):\n",
        "  past_date = date_today - datetime.timedelta(days=i)\n",
        "  year = past_date.strftime('%Y')\n",
        "  month = past_date.strftime('%m')\n",
        "  day = past_date.strftime('%d')\n",
        "  response = requests.get(f'https://api.congress.gov/v3/congressional-record/?y={year}&m={month}&d={day}&api_key={key}')\n",
        "  if response.json()['Results']['Issues'] != []:\n",
        "    link_to_pdf_file = response.json()['Results']['Issues'][0]['Links']['FullRecord']['PDF'][0]['Url']\n",
        "    pdf_file = requests.get(link_to_pdf_file)\n",
        "    pdf_data = BytesIO(pdf_file.content)\n",
        "    pdf_reader = PyPDF2.PdfReader(pdf_data)\n",
        "    number_of_pages = len(pdf_reader.pages)\n",
        "    for j in range(number_of_pages):\n",
        "      page = pdf_reader.pages[j]\n",
        "      text = page.extract_text()\n",
        "      adam_smith_matches = re.findall(r'Adam\\w*\\W*\\sSmith\\w*\\W*', text)\n",
        "      if adam_smith_matches != []:\n",
        "        print(adam_smith_matches)\n",
        "      total_matches += adam_smith_matches\n",
        "print(total_matches)\n"
      ],
      "metadata": {
        "id": "_3rSx0F3fGAv"
      },
      "execution_count": null,
      "outputs": []
    }
  ]
}
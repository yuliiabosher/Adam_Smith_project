{
  "nbformat": 4,
  "nbformat_minor": 0,
  "metadata": {
    "colab": {
      "provenance": [],
      "authorship_tag": "ABX9TyPaS3CgrlMO7VcdiKUa6EA8",
      "include_colab_link": true
    },
    "kernelspec": {
      "name": "python3",
      "display_name": "Python 3"
    },
    "language_info": {
      "name": "python"
    }
  },
  "cells": [
    {
      "cell_type": "markdown",
      "metadata": {
        "id": "view-in-github",
        "colab_type": "text"
      },
      "source": [
        "<a href=\"https://colab.research.google.com/github/yuliiabosher/Adam_Smith_project/blob/main/Congressional_record.ipynb\" target=\"_parent\"><img src=\"https://colab.research.google.com/assets/colab-badge.svg\" alt=\"Open In Colab\"/></a>"
      ]
    },
    {
      "cell_type": "code",
      "execution_count": 83,
      "metadata": {
        "id": "wWjo2_H4-fxs"
      },
      "outputs": [],
      "source": [
        "import requests\n",
        "import os\n",
        "from google.colab import output\n",
        "import pprint\n",
        "from io import BytesIO\n",
        "import PyPDF2\n",
        "import re\n",
        "import datetime"
      ]
    },
    {
      "cell_type": "code",
      "source": [
        "key = input('enter API key ')\n",
        "os.environ['Congress_API_Key'] = key\n",
        "output.clear()"
      ],
      "metadata": {
        "id": "jhBBTnpE_NJy"
      },
      "execution_count": 11,
      "outputs": []
    },
    {
      "cell_type": "code",
      "source": [
        "date_today = datetime.datetime.now()\n",
        "year_today = date_today.year\n",
        "month_today = date_today.month\n",
        "day_today = date_today.day"
      ],
      "metadata": {
        "id": "R9tyA7AqcFfh"
      },
      "execution_count": 90,
      "outputs": []
    },
    {
      "cell_type": "code",
      "source": [
        "ten_years_in_days = 36500\n",
        "total_matches = []\n",
        "for i in range(ten_years_in_days):\n",
        "  past_date = date_today - datetime.timedelta(days=i)\n",
        "  year = past_date.strftime('%Y')\n",
        "  month = past_date.strftime('%m')\n",
        "  day = past_date.strftime('%d')\n",
        "  response = requests.get(f'https://api.congress.gov/v3/congressional-record/?y={year}&m={month}&d={day}&api_key={key}')\n",
        "  link_to_pdf_file = response.json()['Results']['Issues'][0]['Links']['FullRecord']['PDF'][0]['Url']\n",
        "  pdf_file = requests.get(link_to_pdf_file)\n",
        "  pdf_data = BytesIO(pdf_file.content)\n",
        "  pdf_reader = PyPDF2.PdfReader(pdf_data)\n",
        "  number_of_pages = len(pdf_reader.pages)\n",
        "  for j in range(number_of_pages):\n",
        "    page = pdf_reader.pages[j]\n",
        "    text = page.extract_text()\n",
        "    adam_smith_matches = re.findall(r'Adam\\w*\\W*\\sSmith\\w*\\W*', text)\n",
        "    total_matches += adam_smith_matches\n",
        "print(total_matches)\n"
      ],
      "metadata": {
        "id": "_3rSx0F3fGAv",
        "outputId": "52ff129a-07b2-4659-ef3b-a59b326eeb47",
        "colab": {
          "base_uri": "https://localhost:8080/",
          "height": 211
        }
      },
      "execution_count": 111,
      "outputs": [
        {
          "output_type": "error",
          "ename": "IndexError",
          "evalue": "list index out of range",
          "traceback": [
            "\u001b[0;31m---------------------------------------------------------------------------\u001b[0m",
            "\u001b[0;31mIndexError\u001b[0m                                Traceback (most recent call last)",
            "\u001b[0;32m<ipython-input-111-11368b417bc1>\u001b[0m in \u001b[0;36m<cell line: 3>\u001b[0;34m()\u001b[0m\n\u001b[1;32m      7\u001b[0m   \u001b[0mday\u001b[0m \u001b[0;34m=\u001b[0m \u001b[0mpast_date\u001b[0m\u001b[0;34m.\u001b[0m\u001b[0mstrftime\u001b[0m\u001b[0;34m(\u001b[0m\u001b[0;34m'%d'\u001b[0m\u001b[0;34m)\u001b[0m\u001b[0;34m\u001b[0m\u001b[0;34m\u001b[0m\u001b[0m\n\u001b[1;32m      8\u001b[0m   \u001b[0mresponse\u001b[0m \u001b[0;34m=\u001b[0m \u001b[0mrequests\u001b[0m\u001b[0;34m.\u001b[0m\u001b[0mget\u001b[0m\u001b[0;34m(\u001b[0m\u001b[0;34mf'https://api.congress.gov/v3/congressional-record/?y={year}&m={month}&d={day}&api_key={key}'\u001b[0m\u001b[0;34m)\u001b[0m\u001b[0;34m\u001b[0m\u001b[0;34m\u001b[0m\u001b[0m\n\u001b[0;32m----> 9\u001b[0;31m   \u001b[0mlink_to_pdf_file\u001b[0m \u001b[0;34m=\u001b[0m \u001b[0mresponse\u001b[0m\u001b[0;34m.\u001b[0m\u001b[0mjson\u001b[0m\u001b[0;34m(\u001b[0m\u001b[0;34m)\u001b[0m\u001b[0;34m[\u001b[0m\u001b[0;34m'Results'\u001b[0m\u001b[0;34m]\u001b[0m\u001b[0;34m[\u001b[0m\u001b[0;34m'Issues'\u001b[0m\u001b[0;34m]\u001b[0m\u001b[0;34m[\u001b[0m\u001b[0;36m0\u001b[0m\u001b[0;34m]\u001b[0m\u001b[0;34m[\u001b[0m\u001b[0;34m'Links'\u001b[0m\u001b[0;34m]\u001b[0m\u001b[0;34m[\u001b[0m\u001b[0;34m'FullRecord'\u001b[0m\u001b[0;34m]\u001b[0m\u001b[0;34m[\u001b[0m\u001b[0;34m'PDF'\u001b[0m\u001b[0;34m]\u001b[0m\u001b[0;34m[\u001b[0m\u001b[0;36m0\u001b[0m\u001b[0;34m]\u001b[0m\u001b[0;34m[\u001b[0m\u001b[0;34m'Url'\u001b[0m\u001b[0;34m]\u001b[0m\u001b[0;34m\u001b[0m\u001b[0;34m\u001b[0m\u001b[0m\n\u001b[0m\u001b[1;32m     10\u001b[0m   \u001b[0mpdf_file\u001b[0m \u001b[0;34m=\u001b[0m \u001b[0mrequests\u001b[0m\u001b[0;34m.\u001b[0m\u001b[0mget\u001b[0m\u001b[0;34m(\u001b[0m\u001b[0mlink_to_pdf_file\u001b[0m\u001b[0;34m)\u001b[0m\u001b[0;34m\u001b[0m\u001b[0;34m\u001b[0m\u001b[0m\n\u001b[1;32m     11\u001b[0m   \u001b[0mpdf_data\u001b[0m \u001b[0;34m=\u001b[0m \u001b[0mBytesIO\u001b[0m\u001b[0;34m(\u001b[0m\u001b[0mpdf_file\u001b[0m\u001b[0;34m.\u001b[0m\u001b[0mcontent\u001b[0m\u001b[0;34m)\u001b[0m\u001b[0;34m\u001b[0m\u001b[0;34m\u001b[0m\u001b[0m\n",
            "\u001b[0;31mIndexError\u001b[0m: list index out of range"
          ]
        }
      ]
    },
    {
      "cell_type": "code",
      "source": [],
      "metadata": {
        "id": "cm86KX7Wd-iw"
      },
      "execution_count": 107,
      "outputs": []
    },
    {
      "cell_type": "code",
      "source": [
        "response = requests.get(f'https://api.congress.gov/v3/congressional-record/?y={year}&m={month}&d={day}&api_key={key}')"
      ],
      "metadata": {
        "id": "XF_jdFEcdOHs",
        "outputId": "c13cc773-a4f7-4bac-9365-c9052ba11dc2",
        "colab": {
          "base_uri": "https://localhost:8080/",
          "height": 52
        }
      },
      "execution_count": 95,
      "outputs": [
        {
          "output_type": "execute_result",
          "data": {
            "text/plain": [
              "'{\\n    \"Results\": {\\n        \"IndexStart\": 1,\\n        \"Issues\": [],\\n        \"SetSize\": 1,\\n        \"TotalCount\": 0\\n    },\\n    \"Status\": {\\n        \"Code\": \"200\",\\n        \"Message\": \"success\"\\n    }\\n}'"
            ],
            "application/vnd.google.colaboratory.intrinsic+json": {
              "type": "string"
            }
          },
          "metadata": {},
          "execution_count": 95
        }
      ]
    },
    {
      "cell_type": "code",
      "source": [
        "response = requests.get(f'https://api.congress.gov/v3/congressional-record/?y=2024&m=5&d=21&api_key={key}')\n",
        "pprint.pprint(response.text)"
      ],
      "metadata": {
        "colab": {
          "base_uri": "https://localhost:8080/"
        },
        "id": "2yPR6mhqLsdG",
        "outputId": "73f895da-3f5a-4f57-a735-2473e479a06e"
      },
      "execution_count": 103,
      "outputs": [
        {
          "output_type": "stream",
          "name": "stdout",
          "text": [
            "('{\\n'\n",
            " '    \"Results\": {\\n'\n",
            " '        \"IndexStart\": 1,\\n'\n",
            " '        \"Issues\": [\\n'\n",
            " '            {\\n'\n",
            " '                \"Congress\": \"118\",\\n'\n",
            " '                \"Id\": 27400,\\n'\n",
            " '                \"Issue\": \"88\",\\n'\n",
            " '                \"Links\": {\\n'\n",
            " '                    \"Digest\": {\\n'\n",
            " '                        \"Label\": \"Daily Digest\",\\n'\n",
            " '                        \"Ordinal\": 1,\\n'\n",
            " '                        \"PDF\": [\\n'\n",
            " '                            {\\n'\n",
            " '                                \"Part\": \"1\",\\n'\n",
            " '                                \"Url\": '\n",
            " '\"https://www.congress.gov/118/crec/2024/05/21/170/88/CREC-2024-05-21-dailydigest.pdf\"\\n'\n",
            " '                            }\\n'\n",
            " '                        ]\\n'\n",
            " '                    },\\n'\n",
            " '                    \"FullRecord\": {\\n'\n",
            " '                        \"Label\": \"Entire Issue\",\\n'\n",
            " '                        \"Ordinal\": 5,\\n'\n",
            " '                        \"PDF\": [\\n'\n",
            " '                            {\\n'\n",
            " '                                \"Part\": \"1\",\\n'\n",
            " '                                \"Url\": '\n",
            " '\"https://www.congress.gov/118/crec/2024/05/21/170/88/CREC-2024-05-21.pdf\"\\n'\n",
            " '                            }\\n'\n",
            " '                        ]\\n'\n",
            " '                    },\\n'\n",
            " '                    \"House\": {\\n'\n",
            " '                        \"Label\": \"House Section\",\\n'\n",
            " '                        \"Ordinal\": 3,\\n'\n",
            " '                        \"PDF\": [\\n'\n",
            " '                            {\\n'\n",
            " '                                \"Part\": \"1\",\\n'\n",
            " '                                \"Url\": '\n",
            " '\"https://www.congress.gov/118/crec/2024/05/21/170/88/CREC-2024-05-21-house.pdf\"\\n'\n",
            " '                            }\\n'\n",
            " '                        ]\\n'\n",
            " '                    },\\n'\n",
            " '                    \"Remarks\": {\\n'\n",
            " '                        \"Label\": \"Extensions of Remarks Section\",\\n'\n",
            " '                        \"Ordinal\": 4,\\n'\n",
            " '                        \"PDF\": [\\n'\n",
            " '                            {\\n'\n",
            " '                                \"Part\": \"1\",\\n'\n",
            " '                                \"Url\": '\n",
            " '\"https://www.congress.gov/118/crec/2024/05/21/170/88/CREC-2024-05-21-extensions.pdf\"\\n'\n",
            " '                            }\\n'\n",
            " '                        ]\\n'\n",
            " '                    },\\n'\n",
            " '                    \"Senate\": {\\n'\n",
            " '                        \"Label\": \"Senate Section\",\\n'\n",
            " '                        \"Ordinal\": 2,\\n'\n",
            " '                        \"PDF\": [\\n'\n",
            " '                            {\\n'\n",
            " '                                \"Part\": \"1\",\\n'\n",
            " '                                \"Url\": '\n",
            " '\"https://www.congress.gov/118/crec/2024/05/21/170/88/CREC-2024-05-21-senate.pdf\"\\n'\n",
            " '                            }\\n'\n",
            " '                        ]\\n'\n",
            " '                    }\\n'\n",
            " '                },\\n'\n",
            " '                \"PublishDate\": \"2024-05-21\",\\n'\n",
            " '                \"Session\": \"2\",\\n'\n",
            " '                \"Volume\": \"170\"\\n'\n",
            " '            }\\n'\n",
            " '        ],\\n'\n",
            " '        \"SetSize\": 1,\\n'\n",
            " '        \"TotalCount\": 1\\n'\n",
            " '    },\\n'\n",
            " '    \"Status\": {\\n'\n",
            " '        \"Code\": \"200\",\\n'\n",
            " '        \"Message\": \"success\"\\n'\n",
            " '    }\\n'\n",
            " '}')\n"
          ]
        }
      ]
    },
    {
      "cell_type": "code",
      "source": [
        "link_to_pdf_file = response.json()['Results']['Issues'][0]['Links']['FullRecord']['PDF'][0]['Url']\n",
        "print(link_to_pdf_file)"
      ],
      "metadata": {
        "colab": {
          "base_uri": "https://localhost:8080/",
          "height": 159
        },
        "id": "HDRz8Fb7Pedp",
        "outputId": "3cd7edc1-eb39-4105-9fd4-59b343b7ea10"
      },
      "execution_count": 112,
      "outputs": [
        {
          "output_type": "error",
          "ename": "IndexError",
          "evalue": "list index out of range",
          "traceback": [
            "\u001b[0;31m---------------------------------------------------------------------------\u001b[0m",
            "\u001b[0;31mIndexError\u001b[0m                                Traceback (most recent call last)",
            "\u001b[0;32m<ipython-input-112-da4691f448ab>\u001b[0m in \u001b[0;36m<cell line: 1>\u001b[0;34m()\u001b[0m\n\u001b[0;32m----> 1\u001b[0;31m \u001b[0mlink_to_pdf_file\u001b[0m \u001b[0;34m=\u001b[0m \u001b[0mresponse\u001b[0m\u001b[0;34m.\u001b[0m\u001b[0mjson\u001b[0m\u001b[0;34m(\u001b[0m\u001b[0;34m)\u001b[0m\u001b[0;34m[\u001b[0m\u001b[0;34m'Results'\u001b[0m\u001b[0;34m]\u001b[0m\u001b[0;34m[\u001b[0m\u001b[0;34m'Issues'\u001b[0m\u001b[0;34m]\u001b[0m\u001b[0;34m[\u001b[0m\u001b[0;36m0\u001b[0m\u001b[0;34m]\u001b[0m\u001b[0;34m[\u001b[0m\u001b[0;34m'Links'\u001b[0m\u001b[0;34m]\u001b[0m\u001b[0;34m[\u001b[0m\u001b[0;34m'FullRecord'\u001b[0m\u001b[0;34m]\u001b[0m\u001b[0;34m[\u001b[0m\u001b[0;34m'PDF'\u001b[0m\u001b[0;34m]\u001b[0m\u001b[0;34m[\u001b[0m\u001b[0;36m0\u001b[0m\u001b[0;34m]\u001b[0m\u001b[0;34m[\u001b[0m\u001b[0;34m'Url'\u001b[0m\u001b[0;34m]\u001b[0m\u001b[0;34m\u001b[0m\u001b[0;34m\u001b[0m\u001b[0m\n\u001b[0m\u001b[1;32m      2\u001b[0m \u001b[0mprint\u001b[0m\u001b[0;34m(\u001b[0m\u001b[0mlink_to_pdf_file\u001b[0m\u001b[0;34m)\u001b[0m\u001b[0;34m\u001b[0m\u001b[0;34m\u001b[0m\u001b[0m\n",
            "\u001b[0;31mIndexError\u001b[0m: list index out of range"
          ]
        }
      ]
    },
    {
      "cell_type": "code",
      "source": [
        "pdf_file = requests.get(link_to_pdf_file)\n",
        "pdf_data = BytesIO(pdf_file.content)\n",
        "pdf_reader = PyPDF2.PdfReader(pdf_data)\n",
        "number_of_pages = len(pdf_reader.pages)\n",
        "total_matches = []\n",
        "for i in range(number_of_pages):\n",
        "  page = pdf_reader.pages[i]\n",
        "  text = page.extract_text()\n",
        "  adam_smith_matches = re.findall(r'Adam\\w*\\W*\\sSmith\\w*\\W*', text)\n",
        "  total_matches += adam_smith_matches\n",
        "print(total_matches)\n"
      ],
      "metadata": {
        "colab": {
          "base_uri": "https://localhost:8080/"
        },
        "id": "dTzXpabATyzF",
        "outputId": "d6bd574c-c626-46e4-cd29-64158e2743fb"
      },
      "execution_count": 108,
      "outputs": [
        {
          "output_type": "stream",
          "name": "stdout",
          "text": [
            "[]\n"
          ]
        }
      ]
    }
  ]
}
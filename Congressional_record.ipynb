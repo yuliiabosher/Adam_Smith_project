{
  "nbformat": 4,
  "nbformat_minor": 0,
  "metadata": {
    "colab": {
      "provenance": [],
      "authorship_tag": "ABX9TyOExRh9CFLmrNvq4LuPmQsx",
      "include_colab_link": true
    },
    "kernelspec": {
      "name": "python3",
      "display_name": "Python 3"
    },
    "language_info": {
      "name": "python"
    }
  },
  "cells": [
    {
      "cell_type": "markdown",
      "metadata": {
        "id": "view-in-github",
        "colab_type": "text"
      },
      "source": [
        "<a href=\"https://colab.research.google.com/github/yuliiabosher/Adam_Smith_project/blob/main/Congressional_record.ipynb\" target=\"_parent\"><img src=\"https://colab.research.google.com/assets/colab-badge.svg\" alt=\"Open In Colab\"/></a>"
      ]
    },
    {
      "cell_type": "code",
      "source": [
        "!pip install PyPDF2\n",
        "!pip install dask"
      ],
      "metadata": {
        "id": "XIgKrMaIqWxO",
        "outputId": "6c402652-bd11-4f6f-bd41-6909be05dbc3",
        "colab": {
          "base_uri": "https://localhost:8080/"
        }
      },
      "execution_count": 1,
      "outputs": [
        {
          "output_type": "stream",
          "name": "stdout",
          "text": [
            "Collecting PyPDF2\n",
            "  Downloading pypdf2-3.0.1-py3-none-any.whl (232 kB)\n",
            "\u001b[2K     \u001b[90m━━━━━━━━━━━━━━━━━━━━━━━━━━━━━━━━━━━━━━━━\u001b[0m \u001b[32m232.6/232.6 kB\u001b[0m \u001b[31m1.5 MB/s\u001b[0m eta \u001b[36m0:00:00\u001b[0m\n",
            "\u001b[?25hInstalling collected packages: PyPDF2\n",
            "Successfully installed PyPDF2-3.0.1\n",
            "Requirement already satisfied: dask in /usr/local/lib/python3.10/dist-packages (2023.8.1)\n",
            "Requirement already satisfied: click>=8.0 in /usr/local/lib/python3.10/dist-packages (from dask) (8.1.7)\n",
            "Requirement already satisfied: cloudpickle>=1.5.0 in /usr/local/lib/python3.10/dist-packages (from dask) (2.2.1)\n",
            "Requirement already satisfied: fsspec>=2021.09.0 in /usr/local/lib/python3.10/dist-packages (from dask) (2023.6.0)\n",
            "Requirement already satisfied: packaging>=20.0 in /usr/local/lib/python3.10/dist-packages (from dask) (24.0)\n",
            "Requirement already satisfied: partd>=1.2.0 in /usr/local/lib/python3.10/dist-packages (from dask) (1.4.2)\n",
            "Requirement already satisfied: pyyaml>=5.3.1 in /usr/local/lib/python3.10/dist-packages (from dask) (6.0.1)\n",
            "Requirement already satisfied: toolz>=0.10.0 in /usr/local/lib/python3.10/dist-packages (from dask) (0.12.1)\n",
            "Requirement already satisfied: importlib-metadata>=4.13.0 in /usr/local/lib/python3.10/dist-packages (from dask) (7.1.0)\n",
            "Requirement already satisfied: zipp>=0.5 in /usr/local/lib/python3.10/dist-packages (from importlib-metadata>=4.13.0->dask) (3.18.2)\n",
            "Requirement already satisfied: locket in /usr/local/lib/python3.10/dist-packages (from partd>=1.2.0->dask) (1.0.0)\n"
          ]
        }
      ]
    },
    {
      "cell_type": "code",
      "execution_count": 2,
      "metadata": {
        "id": "wWjo2_H4-fxs"
      },
      "outputs": [],
      "source": [
        "import requests\n",
        "import os\n",
        "from google.colab import output\n",
        "import pprint\n",
        "from io import BytesIO\n",
        "import PyPDF2\n",
        "import re\n",
        "import datetime\n",
        "import dask"
      ]
    },
    {
      "cell_type": "code",
      "source": [
        "key = input('enter API key ')\n",
        "os.environ['Congress_API_Key'] = key\n",
        "output.clear()"
      ],
      "metadata": {
        "id": "jhBBTnpE_NJy"
      },
      "execution_count": 3,
      "outputs": []
    },
    {
      "cell_type": "code",
      "source": [
        "def list_endpoints(year,month,day):\n",
        "    date_today = datetime.datetime(year, month, day)\n",
        "    endpoints = []\n",
        "    for i in range(1, 365):\n",
        "        past_date = date_today - datetime.timedelta(days=i)\n",
        "        year = past_date.strftime(\"%Y\")\n",
        "        month = past_date.strftime(\"%m\")\n",
        "        day = past_date.strftime(\"%d\")\n",
        "        endpoint = f\"https://api.congress.gov/v3/congressional-record/?y={year}&m={month}&d={day}&api_key={key}\"\n",
        "        endpoints.append(endpoint)\n",
        "    return endpoints\n",
        "\n",
        "endpoints_result1 = list_endpoints(2014,5,20)\n",
        "endpoints_result2 = list_endpoints(2013,5,20)\n",
        "endpoints_result3 = list_endpoints(2012,5,20)\n",
        "endpoints_result4 = list_endpoints(2011,5,20)\n",
        "endpoints_result5 = list_endpoints(2010,5,20)"
      ],
      "metadata": {
        "id": "lpdwaPONuf6b"
      },
      "execution_count": 7,
      "outputs": []
    },
    {
      "cell_type": "code",
      "source": [
        "def find_pdf_links(endpoints_list):\n",
        "  try:\n",
        "    links_to_pdfs_with_matches = []\n",
        "    for i in endpoints_list:\n",
        "        response = requests.get(i)\n",
        "        if response.json()['Results']['Issues'] != []:\n",
        "          link_to_pdf_file = response.json()['Results']['Issues'][0]['Links']['FullRecord']['PDF'][0]['Url']\n",
        "          pdf_file = requests.get(link_to_pdf_file)\n",
        "          if pdf_file.content[-7:] == b'\\n%%EOF\\n':\n",
        "            pdf_data = BytesIO(pdf_file.content)\n",
        "            pdf_reader = PyPDF2.PdfReader(pdf_data)\n",
        "            number_of_pages = len(pdf_reader.pages)\n",
        "            for j in range(number_of_pages):\n",
        "              page = pdf_reader.pages[j]\n",
        "              text = page.extract_text()\n",
        "              adam_smith_matches = re.findall(r'Adam\\sSmith\\W*', text)\n",
        "              if adam_smith_matches != []:\n",
        "                print(link_to_pdf_file)\n",
        "                links_to_pdfs_with_matches.append(link_to_pdf_file)\n",
        "    return links_to_pdfs_with_matches\n",
        "  except Exception as e:\n",
        "    print(e)\n",
        "    return links_to_pdfs_with_matches\n",
        "\n",
        "\n",
        "\n",
        "delayed_pdf_links = dask.delayed(dask.delayed(find_pdf_links)(endpoints_result1), \\\n",
        "dask.delayed(find_pdf_links)(endpoints_result2), dask.delayed(find_pdf_links)(endpoints_result3), \\\n",
        "dask.delayed(find_pdf_links)(endpoints_result4), dask.delayed(find_pdf_links)(endpoints_result5))"
      ],
      "metadata": {
        "id": "H1Zcg6uLubqp"
      },
      "execution_count": 9,
      "outputs": []
    },
    {
      "cell_type": "code",
      "source": [
        "actual_pdf_links = delayed_pdf_links.compute()\n",
        "actual_pdf_links"
      ],
      "metadata": {
        "colab": {
          "base_uri": "https://localhost:8080/"
        },
        "id": "ZW_D3yDPETR8",
        "outputId": "f2118fd4-b8c9-4d7d-89c1-66b7e42f2cd9"
      },
      "execution_count": 10,
      "outputs": [
        {
          "output_type": "stream",
          "name": "stdout",
          "text": [
            "https://www.congress.gov/113/crec/2014/05/06/CREC-2014-05-06.pdf\n",
            "https://www.congress.gov/113/crec/2014/04/03/CREC-2014-04-03.pdf\n",
            "https://www.congress.gov/113/crec/2014/03/28/CREC-2014-03-28.pdf\n",
            "https://www.congress.gov/113/crec/2014/03/14/CREC-2014-03-14.pdf\n",
            "https://www.congress.gov/113/crec/2014/03/14/CREC-2014-03-14.pdf\n",
            "https://www.congress.gov/113/crec/2014/02/28/CREC-2014-02-28.pdf\n",
            "https://www.congress.gov/113/crec/2014/02/11/CREC-2014-02-11.pdf\n",
            "https://www.congress.gov/113/crec/2014/01/10/CREC-2014-01-10.pdf\n",
            "https://www.congress.gov/113/crec/2013/12/19/CREC-2013-12-19.pdf\n",
            "https://www.congress.gov/113/crec/2013/12/12/CREC-2013-12-12.pdf\n",
            "https://www.congress.gov/113/crec/2013/11/22/CREC-2013-11-22.pdf\n",
            "https://www.congress.gov/113/crec/2013/11/12/CREC-2013-11-12.pdf\n",
            "https://www.congress.gov/113/crec/2013/10/12/CREC-2013-10-12.pdf\n",
            "https://www.congress.gov/113/crec/2013/10/08/CREC-2013-10-08.pdf\n",
            "https://www.congress.gov/113/crec/2013/07/25/CREC-2013-07-25.pdf\n",
            "https://www.congress.gov/113/crec/2013/07/24/CREC-2013-07-24.pdf\n",
            "https://www.congress.gov/113/crec/2013/06/20/CREC-2013-06-20.pdf\n",
            "https://www.congress.gov/113/crec/2013/06/14/CREC-2013-06-14.pdf\n",
            "https://www.congress.gov/113/crec/2013/06/06/CREC-2013-06-06.pdf\n"
          ]
        },
        {
          "output_type": "execute_result",
          "data": {
            "text/plain": [
              "['https://www.congress.gov/113/crec/2014/05/06/CREC-2014-05-06.pdf',\n",
              " 'https://www.congress.gov/113/crec/2014/04/03/CREC-2014-04-03.pdf',\n",
              " 'https://www.congress.gov/113/crec/2014/03/28/CREC-2014-03-28.pdf',\n",
              " 'https://www.congress.gov/113/crec/2014/03/14/CREC-2014-03-14.pdf',\n",
              " 'https://www.congress.gov/113/crec/2014/03/14/CREC-2014-03-14.pdf',\n",
              " 'https://www.congress.gov/113/crec/2014/02/28/CREC-2014-02-28.pdf',\n",
              " 'https://www.congress.gov/113/crec/2014/02/11/CREC-2014-02-11.pdf',\n",
              " 'https://www.congress.gov/113/crec/2014/01/10/CREC-2014-01-10.pdf',\n",
              " 'https://www.congress.gov/113/crec/2013/12/19/CREC-2013-12-19.pdf',\n",
              " 'https://www.congress.gov/113/crec/2013/12/12/CREC-2013-12-12.pdf',\n",
              " 'https://www.congress.gov/113/crec/2013/11/22/CREC-2013-11-22.pdf',\n",
              " 'https://www.congress.gov/113/crec/2013/11/12/CREC-2013-11-12.pdf',\n",
              " 'https://www.congress.gov/113/crec/2013/10/12/CREC-2013-10-12.pdf',\n",
              " 'https://www.congress.gov/113/crec/2013/10/08/CREC-2013-10-08.pdf',\n",
              " 'https://www.congress.gov/113/crec/2013/07/25/CREC-2013-07-25.pdf',\n",
              " 'https://www.congress.gov/113/crec/2013/07/24/CREC-2013-07-24.pdf',\n",
              " 'https://www.congress.gov/113/crec/2013/06/20/CREC-2013-06-20.pdf',\n",
              " 'https://www.congress.gov/113/crec/2013/06/14/CREC-2013-06-14.pdf',\n",
              " 'https://www.congress.gov/113/crec/2013/06/06/CREC-2013-06-06.pdf']"
            ]
          },
          "metadata": {},
          "execution_count": 10
        }
      ]
    }
  ]
}
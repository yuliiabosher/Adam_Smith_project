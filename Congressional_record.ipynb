{
  "nbformat": 4,
  "nbformat_minor": 0,
  "metadata": {
    "colab": {
      "provenance": [],
      "authorship_tag": "ABX9TyObylVbGFsazSqHsWMUmeN+",
      "include_colab_link": true
    },
    "kernelspec": {
      "name": "python3",
      "display_name": "Python 3"
    },
    "language_info": {
      "name": "python"
    }
  },
  "cells": [
    {
      "cell_type": "markdown",
      "metadata": {
        "id": "view-in-github",
        "colab_type": "text"
      },
      "source": [
        "<a href=\"https://colab.research.google.com/github/yuliiabosher/Adam_Smith_project/blob/main/Congressional_record.ipynb\" target=\"_parent\"><img src=\"https://colab.research.google.com/assets/colab-badge.svg\" alt=\"Open In Colab\"/></a>"
      ]
    },
    {
      "cell_type": "code",
      "execution_count": 16,
      "metadata": {
        "id": "wWjo2_H4-fxs"
      },
      "outputs": [],
      "source": [
        "import requests\n",
        "import os\n",
        "from google.colab import output\n",
        "import pprint"
      ]
    },
    {
      "cell_type": "code",
      "source": [
        "key = input('enter API key ')\n",
        "os.environ['Congress_API_Key'] = key\n",
        "output.clear()"
      ],
      "metadata": {
        "id": "jhBBTnpE_NJy"
      },
      "execution_count": 11,
      "outputs": []
    },
    {
      "cell_type": "code",
      "source": [
        "response = requests.get(f'https://api.congress.gov/v3/congressional-record/?y=2024&m=5&d=21&api_key={key}')\n",
        "pprint.pprint(response.text)"
      ],
      "metadata": {
        "id": "2yPR6mhqLsdG",
        "outputId": "4dcbd37b-18db-4e54-fc72-38e57337e9d8",
        "colab": {
          "base_uri": "https://localhost:8080/"
        }
      },
      "execution_count": 21,
      "outputs": [
        {
          "output_type": "stream",
          "name": "stdout",
          "text": [
            "('{\\n'\n",
            " '    \"Results\": {\\n'\n",
            " '        \"IndexStart\": 1,\\n'\n",
            " '        \"Issues\": [\\n'\n",
            " '            {\\n'\n",
            " '                \"Congress\": \"118\",\\n'\n",
            " '                \"Id\": 27400,\\n'\n",
            " '                \"Issue\": \"88\",\\n'\n",
            " '                \"Links\": {\\n'\n",
            " '                    \"Digest\": {\\n'\n",
            " '                        \"Label\": \"Daily Digest\",\\n'\n",
            " '                        \"Ordinal\": 1,\\n'\n",
            " '                        \"PDF\": [\\n'\n",
            " '                            {\\n'\n",
            " '                                \"Part\": \"1\",\\n'\n",
            " '                                \"Url\": '\n",
            " '\"https://www.congress.gov/118/crec/2024/05/21/170/88/CREC-2024-05-21-dailydigest.pdf\"\\n'\n",
            " '                            }\\n'\n",
            " '                        ]\\n'\n",
            " '                    },\\n'\n",
            " '                    \"FullRecord\": {\\n'\n",
            " '                        \"Label\": \"Entire Issue\",\\n'\n",
            " '                        \"Ordinal\": 5,\\n'\n",
            " '                        \"PDF\": [\\n'\n",
            " '                            {\\n'\n",
            " '                                \"Part\": \"1\",\\n'\n",
            " '                                \"Url\": '\n",
            " '\"https://www.congress.gov/118/crec/2024/05/21/170/88/CREC-2024-05-21.pdf\"\\n'\n",
            " '                            }\\n'\n",
            " '                        ]\\n'\n",
            " '                    },\\n'\n",
            " '                    \"House\": {\\n'\n",
            " '                        \"Label\": \"House Section\",\\n'\n",
            " '                        \"Ordinal\": 3,\\n'\n",
            " '                        \"PDF\": [\\n'\n",
            " '                            {\\n'\n",
            " '                                \"Part\": \"1\",\\n'\n",
            " '                                \"Url\": '\n",
            " '\"https://www.congress.gov/118/crec/2024/05/21/170/88/CREC-2024-05-21-house.pdf\"\\n'\n",
            " '                            }\\n'\n",
            " '                        ]\\n'\n",
            " '                    },\\n'\n",
            " '                    \"Remarks\": {\\n'\n",
            " '                        \"Label\": \"Extensions of Remarks Section\",\\n'\n",
            " '                        \"Ordinal\": 4,\\n'\n",
            " '                        \"PDF\": [\\n'\n",
            " '                            {\\n'\n",
            " '                                \"Part\": \"1\",\\n'\n",
            " '                                \"Url\": '\n",
            " '\"https://www.congress.gov/118/crec/2024/05/21/170/88/CREC-2024-05-21-extensions.pdf\"\\n'\n",
            " '                            }\\n'\n",
            " '                        ]\\n'\n",
            " '                    },\\n'\n",
            " '                    \"Senate\": {\\n'\n",
            " '                        \"Label\": \"Senate Section\",\\n'\n",
            " '                        \"Ordinal\": 2,\\n'\n",
            " '                        \"PDF\": [\\n'\n",
            " '                            {\\n'\n",
            " '                                \"Part\": \"1\",\\n'\n",
            " '                                \"Url\": '\n",
            " '\"https://www.congress.gov/118/crec/2024/05/21/170/88/CREC-2024-05-21-senate.pdf\"\\n'\n",
            " '                            }\\n'\n",
            " '                        ]\\n'\n",
            " '                    }\\n'\n",
            " '                },\\n'\n",
            " '                \"PublishDate\": \"2024-05-21\",\\n'\n",
            " '                \"Session\": \"2\",\\n'\n",
            " '                \"Volume\": \"170\"\\n'\n",
            " '            }\\n'\n",
            " '        ],\\n'\n",
            " '        \"SetSize\": 1,\\n'\n",
            " '        \"TotalCount\": 1\\n'\n",
            " '    },\\n'\n",
            " '    \"Status\": {\\n'\n",
            " '        \"Code\": \"200\",\\n'\n",
            " '        \"Message\": \"success\"\\n'\n",
            " '    }\\n'\n",
            " '}')\n"
          ]
        }
      ]
    },
    {
      "cell_type": "code",
      "source": [
        "entire_daily_issue = response.json()['Results']['Issues'][0]['Links']['FullRecord']['PDF'][0]['Url']\n",
        "print(entire_daily_issue)"
      ],
      "metadata": {
        "id": "HDRz8Fb7Pedp",
        "outputId": "c25bfcd1-3f2a-4d47-dced-20c57e69de5e",
        "colab": {
          "base_uri": "https://localhost:8080/"
        }
      },
      "execution_count": 43,
      "outputs": [
        {
          "output_type": "stream",
          "name": "stdout",
          "text": [
            "https://www.congress.gov/118/crec/2024/05/21/170/88/CREC-2024-05-21.pdf\n"
          ]
        }
      ]
    }
  ]
}
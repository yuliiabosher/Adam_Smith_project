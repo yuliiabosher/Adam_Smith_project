{
  "nbformat": 4,
  "nbformat_minor": 0,
  "metadata": {
    "colab": {
      "provenance": [],
      "authorship_tag": "ABX9TyPHuAq/QB/LjnYUEI7kk033",
      "include_colab_link": true
    },
    "kernelspec": {
      "name": "python3",
      "display_name": "Python 3"
    },
    "language_info": {
      "name": "python"
    }
  },
  "cells": [
    {
      "cell_type": "markdown",
      "metadata": {
        "id": "view-in-github",
        "colab_type": "text"
      },
      "source": [
        "<a href=\"https://colab.research.google.com/github/yuliiabosher/Adam_Smith_project/blob/main/Congressional_record.ipynb\" target=\"_parent\"><img src=\"https://colab.research.google.com/assets/colab-badge.svg\" alt=\"Open In Colab\"/></a>"
      ]
    },
    {
      "cell_type": "code",
      "source": [
        "!pip install PyPDF2\n",
        "!pip install dask"
      ],
      "metadata": {
        "id": "XIgKrMaIqWxO",
        "outputId": "51eccd6b-017d-4ce4-a377-34c43a4fbe47",
        "colab": {
          "base_uri": "https://localhost:8080/"
        }
      },
      "execution_count": 1,
      "outputs": [
        {
          "output_type": "stream",
          "name": "stdout",
          "text": [
            "Collecting PyPDF2\n",
            "  Downloading pypdf2-3.0.1-py3-none-any.whl (232 kB)\n",
            "\u001b[?25l     \u001b[90m━━━━━━━━━━━━━━━━━━━━━━━━━━━━━━━━━━━━━━━━\u001b[0m \u001b[32m0.0/232.6 kB\u001b[0m \u001b[31m?\u001b[0m eta \u001b[36m-:--:--\u001b[0m\r\u001b[2K     \u001b[91m━━━━━━━━━━━━\u001b[0m\u001b[90m╺\u001b[0m\u001b[90m━━━━━━━━━━━━━━━━━━━━━━━━━━━\u001b[0m \u001b[32m71.7/232.6 kB\u001b[0m \u001b[31m1.9 MB/s\u001b[0m eta \u001b[36m0:00:01\u001b[0m\r\u001b[2K     \u001b[90m━━━━━━━━━━━━━━━━━━━━━━━━━━━━━━━━━━━━━━━━\u001b[0m \u001b[32m232.6/232.6 kB\u001b[0m \u001b[31m3.7 MB/s\u001b[0m eta \u001b[36m0:00:00\u001b[0m\n",
            "\u001b[?25hInstalling collected packages: PyPDF2\n",
            "Successfully installed PyPDF2-3.0.1\n",
            "Requirement already satisfied: dask in /usr/local/lib/python3.10/dist-packages (2023.8.1)\n",
            "Requirement already satisfied: click>=8.0 in /usr/local/lib/python3.10/dist-packages (from dask) (8.1.7)\n",
            "Requirement already satisfied: cloudpickle>=1.5.0 in /usr/local/lib/python3.10/dist-packages (from dask) (2.2.1)\n",
            "Requirement already satisfied: fsspec>=2021.09.0 in /usr/local/lib/python3.10/dist-packages (from dask) (2023.6.0)\n",
            "Requirement already satisfied: packaging>=20.0 in /usr/local/lib/python3.10/dist-packages (from dask) (24.0)\n",
            "Requirement already satisfied: partd>=1.2.0 in /usr/local/lib/python3.10/dist-packages (from dask) (1.4.2)\n",
            "Requirement already satisfied: pyyaml>=5.3.1 in /usr/local/lib/python3.10/dist-packages (from dask) (6.0.1)\n",
            "Requirement already satisfied: toolz>=0.10.0 in /usr/local/lib/python3.10/dist-packages (from dask) (0.12.1)\n",
            "Requirement already satisfied: importlib-metadata>=4.13.0 in /usr/local/lib/python3.10/dist-packages (from dask) (7.1.0)\n",
            "Requirement already satisfied: zipp>=0.5 in /usr/local/lib/python3.10/dist-packages (from importlib-metadata>=4.13.0->dask) (3.18.2)\n",
            "Requirement already satisfied: locket in /usr/local/lib/python3.10/dist-packages (from partd>=1.2.0->dask) (1.0.0)\n"
          ]
        }
      ]
    },
    {
      "cell_type": "code",
      "execution_count": 2,
      "metadata": {
        "id": "wWjo2_H4-fxs"
      },
      "outputs": [],
      "source": [
        "import requests\n",
        "import os\n",
        "from google.colab import output\n",
        "import pprint\n",
        "from io import BytesIO\n",
        "import PyPDF2\n",
        "import re\n",
        "import datetime\n",
        "import dask"
      ]
    },
    {
      "cell_type": "code",
      "source": [
        "key = input('enter API key ')\n",
        "os.environ['Congress_API_Key'] = key\n",
        "output.clear()"
      ],
      "metadata": {
        "id": "jhBBTnpE_NJy"
      },
      "execution_count": 3,
      "outputs": []
    },
    {
      "cell_type": "code",
      "source": [
        "def list_endpoints():\n",
        "    date_today = datetime.datetime.now()\n",
        "    year_today = date_today.year\n",
        "    month_today = date_today.month\n",
        "    day_today = date_today.day\n",
        "    key = \"qu2TgXAQPvswtEZ176PFWyfvdb5wd1nwcv2JwEUo\"\n",
        "\n",
        "    endpoints = []\n",
        "    for i in range(1, 3650):\n",
        "        past_date = date_today - datetime.timedelta(days=i)\n",
        "        year = past_date.strftime(\"%Y\")\n",
        "        month = past_date.strftime(\"%m\")\n",
        "        day = past_date.strftime(\"%d\")\n",
        "        endpoint = f\"https://api.congress.gov/v3/congressional-record/?y={year}&m={month}&d={day}&api_key={key}\"\n",
        "        endpoints.append(endpoint)\n",
        "    return endpoints\n",
        "\n",
        "\n",
        "endpoints_result = list_endpoints()"
      ],
      "metadata": {
        "id": "lpdwaPONuf6b"
      },
      "execution_count": 4,
      "outputs": []
    },
    {
      "cell_type": "code",
      "source": [
        "def find_pdf_links(endpoints_list):\n",
        "  try:\n",
        "    links_to_pdfs_with_matches = []\n",
        "    for i in endpoints_list:\n",
        "        response = requests.get(i)\n",
        "        if response.json()['Results']['Issues'] != []:\n",
        "          link_to_pdf_file = response.json()['Results']['Issues'][0]['Links']['FullRecord']['PDF'][0]['Url']\n",
        "          pdf_file = requests.get(link_to_pdf_file)\n",
        "          if pdf_file.content[-7:] == b'\\n%%EOF\\n':\n",
        "            pdf_data = BytesIO(pdf_file.content)\n",
        "            pdf_reader = PyPDF2.PdfReader(pdf_data)\n",
        "            number_of_pages = len(pdf_reader.pages)\n",
        "            for j in range(number_of_pages):\n",
        "              page = pdf_reader.pages[j]\n",
        "              text = page.extract_text()\n",
        "              adam_smith_matches = re.findall(r'Adam\\sSmith\\W*', text)\n",
        "              if adam_smith_matches != []:\n",
        "                print(link_to_pdf_file)\n",
        "                links_to_pdfs_with_matches.append(link_to_pdf_file)\n",
        "    return links_to_pdfs_with_matches\n",
        "  except Exception as e:\n",
        "    print(e)\n",
        "    return links_to_pdfs_with_matches\n",
        "\n",
        "\n",
        "\n",
        "delayed_pdf_links = dask.delayed(find_pdf_links)(endpoints_result)"
      ],
      "metadata": {
        "id": "H1Zcg6uLubqp"
      },
      "execution_count": 5,
      "outputs": []
    },
    {
      "cell_type": "code",
      "source": [
        "actual_pdf_links = delayed_pdf_links.compute()\n",
        "actual_pdf_links"
      ],
      "metadata": {
        "colab": {
          "base_uri": "https://localhost:8080/"
        },
        "id": "ZW_D3yDPETR8",
        "outputId": "7729449e-72dc-45b0-8ad2-b7628475ef6d"
      },
      "execution_count": 6,
      "outputs": [
        {
          "output_type": "stream",
          "name": "stdout",
          "text": [
            "https://www.congress.gov/118/crec/2024/03/29/170/54/CREC-2024-03-29.pdf\n",
            "https://www.congress.gov/118/crec/2023/04/19/169/65/CREC-2023-04-19.pdf\n",
            "https://www.congress.gov/118/crec/2023/04/06/169/60/CREC-2023-04-06.pdf\n",
            "https://www.congress.gov/118/crec/2023/03/09/169/45/CREC-2023-03-09.pdf\n",
            "https://www.congress.gov/118/crec/2023/01/27/169/18/CREC-2023-01-27.pdf\n",
            "https://www.congress.gov/118/crec/2023/01/27/169/18/CREC-2023-01-27.pdf\n",
            "https://www.congress.gov/117/crec/2022/12/21/168/199/CREC-2022-12-21.pdf\n",
            "https://www.congress.gov/117/crec/2022/12/08/168/191/CREC-2022-12-08.pdf\n",
            "https://www.congress.gov/117/crec/2022/07/26/168/124/CREC-2022-07-26.pdf\n",
            "https://www.congress.gov/117/crec/2022/07/19/168/119/CREC-2022-07-19.pdf\n",
            "https://www.congress.gov/117/crec/2022/04/07/168/62/CREC-2022-04-07.pdf\n",
            "https://www.congress.gov/117/crec/2022/02/08/168/25/CREC-2022-02-08.pdf\n",
            "https://www.congress.gov/117/crec/2021/10/07/167/177/CREC-2021-10-07.pdf\n",
            "https://www.congress.gov/117/crec/2021/10/06/167/176/CREC-2021-10-06.pdf\n",
            "https://www.congress.gov/117/crec/2021/03/19/CREC-2021-03-19.pdf\n",
            "https://www.congress.gov/117/crec/2021/01/28/167/17/CREC-2021-01-28.pdf\n",
            "https://www.congress.gov/116/crec/2020/12/21/166/218/CREC-2020-12-21.pdf\n",
            "https://www.congress.gov/116/crec/2020/10/01/CREC-2020-10-01.pdf\n",
            "https://www.congress.gov/116/crec/2020/09/15/CREC-2020-09-15.pdf\n",
            "https://www.congress.gov/116/crec/2020/06/22/CREC-2020-06-22.pdf\n",
            "https://www.congress.gov/116/crec/2019/12/10/CREC-2019-12-10.pdf\n",
            "https://www.congress.gov/116/crec/2019/09/17/CREC-2019-09-17.pdf\n",
            "https://www.congress.gov/116/crec/2019/03/07/CREC-2019-03-07.pdf\n",
            "https://www.congress.gov/116/crec/2019/01/17/CREC-2019-01-17.pdf\n",
            "https://www.congress.gov/116/crec/2019/01/17/CREC-2019-01-17.pdf\n",
            "https://www.congress.gov/115/crec/2018/12/19/CREC-2018-12-19.pdf\n",
            "https://www.congress.gov/115/crec/2018/12/11/CREC-2018-12-11.pdf\n",
            "https://www.congress.gov/115/crec/2018/11/28/CREC-2018-11-28.pdf\n",
            "https://www.congress.gov/115/crec/2018/06/26/CREC-2018-06-26.pdf\n",
            "https://www.congress.gov/115/crec/2018/06/26/CREC-2018-06-26.pdf\n",
            "https://www.congress.gov/115/crec/2018/04/24/CREC-2018-04-24.pdf\n",
            "https://www.congress.gov/115/crec/2018/04/11/CREC-2018-04-11.pdf\n",
            "https://www.congress.gov/115/crec/2018/03/14/CREC-2018-03-14.pdf\n",
            "https://www.congress.gov/115/crec/2018/03/13/CREC-2018-03-13.pdf\n",
            "https://www.congress.gov/115/crec/2017/11/27/CREC-2017-11-27.pdf\n",
            "https://www.congress.gov/115/crec/2017/10/10/CREC-2017-10-10.pdf\n",
            "https://www.congress.gov/115/crec/2017/10/03/CREC-2017-10-03.pdf\n",
            "https://www.congress.gov/115/crec/2017/09/07/CREC-2017-09-07.pdf\n",
            "https://www.congress.gov/115/crec/2017/09/07/CREC-2017-09-07.pdf\n",
            "https://www.congress.gov/115/crec/2017/09/07/CREC-2017-09-07.pdf\n",
            "https://www.congress.gov/115/crec/2017/07/13/CREC-2017-07-13.pdf\n",
            "https://www.congress.gov/115/crec/2017/04/27/CREC-2017-04-27.pdf\n",
            "https://www.congress.gov/115/crec/2017/02/15/CREC-2017-02-15.pdf\n",
            "https://www.congress.gov/115/crec/2017/02/02/CREC-2017-02-02.pdf\n",
            "https://www.congress.gov/115/crec/2017/02/02/CREC-2017-02-02.pdf\n",
            "https://www.congress.gov/115/crec/2017/02/01/CREC-2017-02-01.pdf\n",
            "https://www.congress.gov/115/crec/2017/01/27/CREC-2017-01-27.pdf\n",
            "https://www.congress.gov/114/crec/2016/11/18/CREC-2016-11-18.pdf\n",
            "https://www.congress.gov/114/crec/2016/06/10/CREC-2016-06-10.pdf\n",
            "https://www.congress.gov/114/crec/2016/02/11/CREC-2016-02-11.pdf\n",
            "https://www.congress.gov/114/crec/2015/12/16/CREC-2015-12-16.pdf\n",
            "https://www.congress.gov/114/crec/2015/11/04/CREC-2015-11-04.pdf\n",
            "https://www.congress.gov/114/crec/2015/10/09/CREC-2015-10-09.pdf\n",
            "https://www.congress.gov/114/crec/2015/09/18/CREC-2015-09-18.pdf\n",
            "https://www.congress.gov/114/crec/2015/09/17/CREC-2015-09-17.pdf\n",
            "https://www.congress.gov/114/crec/2015/06/12/CREC-2015-06-12.pdf\n",
            "https://www.congress.gov/114/crec/2015/05/15/CREC-2015-05-15.pdf\n",
            "https://www.congress.gov/114/crec/2015/05/14/CREC-2015-05-14.pdf\n",
            "https://www.congress.gov/114/crec/2015/01/22/CREC-2015-01-22.pdf\n",
            "https://www.congress.gov/114/crec/2015/01/22/CREC-2015-01-22.pdf\n",
            "https://www.congress.gov/113/crec/2014/11/14/CREC-2014-11-14.pdf\n",
            "https://www.congress.gov/113/crec/2014/09/19/CREC-2014-09-19.pdf\n",
            "https://www.congress.gov/113/crec/2014/07/18/160/113/CREC-2014-07-18.pdf\n",
            "https://www.congress.gov/113/crec/2014/06/26/CREC-2014-06-26.pdf\n"
          ]
        },
        {
          "output_type": "execute_result",
          "data": {
            "text/plain": [
              "['https://www.congress.gov/118/crec/2024/03/29/170/54/CREC-2024-03-29.pdf',\n",
              " 'https://www.congress.gov/118/crec/2023/04/19/169/65/CREC-2023-04-19.pdf',\n",
              " 'https://www.congress.gov/118/crec/2023/04/06/169/60/CREC-2023-04-06.pdf',\n",
              " 'https://www.congress.gov/118/crec/2023/03/09/169/45/CREC-2023-03-09.pdf',\n",
              " 'https://www.congress.gov/118/crec/2023/01/27/169/18/CREC-2023-01-27.pdf',\n",
              " 'https://www.congress.gov/118/crec/2023/01/27/169/18/CREC-2023-01-27.pdf',\n",
              " 'https://www.congress.gov/117/crec/2022/12/21/168/199/CREC-2022-12-21.pdf',\n",
              " 'https://www.congress.gov/117/crec/2022/12/08/168/191/CREC-2022-12-08.pdf',\n",
              " 'https://www.congress.gov/117/crec/2022/07/26/168/124/CREC-2022-07-26.pdf',\n",
              " 'https://www.congress.gov/117/crec/2022/07/19/168/119/CREC-2022-07-19.pdf',\n",
              " 'https://www.congress.gov/117/crec/2022/04/07/168/62/CREC-2022-04-07.pdf',\n",
              " 'https://www.congress.gov/117/crec/2022/02/08/168/25/CREC-2022-02-08.pdf',\n",
              " 'https://www.congress.gov/117/crec/2021/10/07/167/177/CREC-2021-10-07.pdf',\n",
              " 'https://www.congress.gov/117/crec/2021/10/06/167/176/CREC-2021-10-06.pdf',\n",
              " 'https://www.congress.gov/117/crec/2021/03/19/CREC-2021-03-19.pdf',\n",
              " 'https://www.congress.gov/117/crec/2021/01/28/167/17/CREC-2021-01-28.pdf',\n",
              " 'https://www.congress.gov/116/crec/2020/12/21/166/218/CREC-2020-12-21.pdf',\n",
              " 'https://www.congress.gov/116/crec/2020/10/01/CREC-2020-10-01.pdf',\n",
              " 'https://www.congress.gov/116/crec/2020/09/15/CREC-2020-09-15.pdf',\n",
              " 'https://www.congress.gov/116/crec/2020/06/22/CREC-2020-06-22.pdf',\n",
              " 'https://www.congress.gov/116/crec/2019/12/10/CREC-2019-12-10.pdf',\n",
              " 'https://www.congress.gov/116/crec/2019/09/17/CREC-2019-09-17.pdf',\n",
              " 'https://www.congress.gov/116/crec/2019/03/07/CREC-2019-03-07.pdf',\n",
              " 'https://www.congress.gov/116/crec/2019/01/17/CREC-2019-01-17.pdf',\n",
              " 'https://www.congress.gov/116/crec/2019/01/17/CREC-2019-01-17.pdf',\n",
              " 'https://www.congress.gov/115/crec/2018/12/19/CREC-2018-12-19.pdf',\n",
              " 'https://www.congress.gov/115/crec/2018/12/11/CREC-2018-12-11.pdf',\n",
              " 'https://www.congress.gov/115/crec/2018/11/28/CREC-2018-11-28.pdf',\n",
              " 'https://www.congress.gov/115/crec/2018/06/26/CREC-2018-06-26.pdf',\n",
              " 'https://www.congress.gov/115/crec/2018/06/26/CREC-2018-06-26.pdf',\n",
              " 'https://www.congress.gov/115/crec/2018/04/24/CREC-2018-04-24.pdf',\n",
              " 'https://www.congress.gov/115/crec/2018/04/11/CREC-2018-04-11.pdf',\n",
              " 'https://www.congress.gov/115/crec/2018/03/14/CREC-2018-03-14.pdf',\n",
              " 'https://www.congress.gov/115/crec/2018/03/13/CREC-2018-03-13.pdf',\n",
              " 'https://www.congress.gov/115/crec/2017/11/27/CREC-2017-11-27.pdf',\n",
              " 'https://www.congress.gov/115/crec/2017/10/10/CREC-2017-10-10.pdf',\n",
              " 'https://www.congress.gov/115/crec/2017/10/03/CREC-2017-10-03.pdf',\n",
              " 'https://www.congress.gov/115/crec/2017/09/07/CREC-2017-09-07.pdf',\n",
              " 'https://www.congress.gov/115/crec/2017/09/07/CREC-2017-09-07.pdf',\n",
              " 'https://www.congress.gov/115/crec/2017/09/07/CREC-2017-09-07.pdf',\n",
              " 'https://www.congress.gov/115/crec/2017/07/13/CREC-2017-07-13.pdf',\n",
              " 'https://www.congress.gov/115/crec/2017/04/27/CREC-2017-04-27.pdf',\n",
              " 'https://www.congress.gov/115/crec/2017/02/15/CREC-2017-02-15.pdf',\n",
              " 'https://www.congress.gov/115/crec/2017/02/02/CREC-2017-02-02.pdf',\n",
              " 'https://www.congress.gov/115/crec/2017/02/02/CREC-2017-02-02.pdf',\n",
              " 'https://www.congress.gov/115/crec/2017/02/01/CREC-2017-02-01.pdf',\n",
              " 'https://www.congress.gov/115/crec/2017/01/27/CREC-2017-01-27.pdf',\n",
              " 'https://www.congress.gov/114/crec/2016/11/18/CREC-2016-11-18.pdf',\n",
              " 'https://www.congress.gov/114/crec/2016/06/10/CREC-2016-06-10.pdf',\n",
              " 'https://www.congress.gov/114/crec/2016/02/11/CREC-2016-02-11.pdf',\n",
              " 'https://www.congress.gov/114/crec/2015/12/16/CREC-2015-12-16.pdf',\n",
              " 'https://www.congress.gov/114/crec/2015/11/04/CREC-2015-11-04.pdf',\n",
              " 'https://www.congress.gov/114/crec/2015/10/09/CREC-2015-10-09.pdf',\n",
              " 'https://www.congress.gov/114/crec/2015/09/18/CREC-2015-09-18.pdf',\n",
              " 'https://www.congress.gov/114/crec/2015/09/17/CREC-2015-09-17.pdf',\n",
              " 'https://www.congress.gov/114/crec/2015/06/12/CREC-2015-06-12.pdf',\n",
              " 'https://www.congress.gov/114/crec/2015/05/15/CREC-2015-05-15.pdf',\n",
              " 'https://www.congress.gov/114/crec/2015/05/14/CREC-2015-05-14.pdf',\n",
              " 'https://www.congress.gov/114/crec/2015/01/22/CREC-2015-01-22.pdf',\n",
              " 'https://www.congress.gov/114/crec/2015/01/22/CREC-2015-01-22.pdf',\n",
              " 'https://www.congress.gov/113/crec/2014/11/14/CREC-2014-11-14.pdf',\n",
              " 'https://www.congress.gov/113/crec/2014/09/19/CREC-2014-09-19.pdf',\n",
              " 'https://www.congress.gov/113/crec/2014/07/18/160/113/CREC-2014-07-18.pdf',\n",
              " 'https://www.congress.gov/113/crec/2014/06/26/CREC-2014-06-26.pdf']"
            ]
          },
          "metadata": {},
          "execution_count": 6
        }
      ]
    }
  ]
}
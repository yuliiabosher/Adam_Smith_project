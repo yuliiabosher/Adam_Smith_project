{
  "nbformat": 4,
  "nbformat_minor": 0,
  "metadata": {
    "colab": {
      "provenance": [],
      "authorship_tag": "ABX9TyMUNPIs7/3HNNoP7EEw6/+M",
      "include_colab_link": true
    },
    "kernelspec": {
      "name": "python3",
      "display_name": "Python 3"
    },
    "language_info": {
      "name": "python"
    }
  },
  "cells": [
    {
      "cell_type": "markdown",
      "metadata": {
        "id": "view-in-github",
        "colab_type": "text"
      },
      "source": [
        "<a href=\"https://colab.research.google.com/github/yuliiabosher/Adam_Smith_project/blob/main/Congressional_record.ipynb\" target=\"_parent\"><img src=\"https://colab.research.google.com/assets/colab-badge.svg\" alt=\"Open In Colab\"/></a>"
      ]
    },
    {
      "cell_type": "code",
      "execution_count": 70,
      "metadata": {
        "id": "wWjo2_H4-fxs"
      },
      "outputs": [],
      "source": [
        "import requests\n",
        "import os\n",
        "from google.colab import output\n",
        "import pprint\n",
        "from io import BytesIO\n",
        "import PyPDF2\n",
        "import re"
      ]
    },
    {
      "cell_type": "code",
      "source": [
        "key = input('enter API key ')\n",
        "os.environ['Congress_API_Key'] = key\n",
        "output.clear()"
      ],
      "metadata": {
        "id": "jhBBTnpE_NJy"
      },
      "execution_count": 11,
      "outputs": []
    },
    {
      "cell_type": "code",
      "source": [
        "response = requests.get(f'https://api.congress.gov/v3/congressional-record/?y=2024&m=5&d=21&api_key={key}')\n",
        "pprint.pprint(response.text)"
      ],
      "metadata": {
        "colab": {
          "base_uri": "https://localhost:8080/"
        },
        "id": "2yPR6mhqLsdG",
        "outputId": "4dcbd37b-18db-4e54-fc72-38e57337e9d8"
      },
      "execution_count": 21,
      "outputs": [
        {
          "output_type": "stream",
          "name": "stdout",
          "text": [
            "('{\\n'\n",
            " '    \"Results\": {\\n'\n",
            " '        \"IndexStart\": 1,\\n'\n",
            " '        \"Issues\": [\\n'\n",
            " '            {\\n'\n",
            " '                \"Congress\": \"118\",\\n'\n",
            " '                \"Id\": 27400,\\n'\n",
            " '                \"Issue\": \"88\",\\n'\n",
            " '                \"Links\": {\\n'\n",
            " '                    \"Digest\": {\\n'\n",
            " '                        \"Label\": \"Daily Digest\",\\n'\n",
            " '                        \"Ordinal\": 1,\\n'\n",
            " '                        \"PDF\": [\\n'\n",
            " '                            {\\n'\n",
            " '                                \"Part\": \"1\",\\n'\n",
            " '                                \"Url\": '\n",
            " '\"https://www.congress.gov/118/crec/2024/05/21/170/88/CREC-2024-05-21-dailydigest.pdf\"\\n'\n",
            " '                            }\\n'\n",
            " '                        ]\\n'\n",
            " '                    },\\n'\n",
            " '                    \"FullRecord\": {\\n'\n",
            " '                        \"Label\": \"Entire Issue\",\\n'\n",
            " '                        \"Ordinal\": 5,\\n'\n",
            " '                        \"PDF\": [\\n'\n",
            " '                            {\\n'\n",
            " '                                \"Part\": \"1\",\\n'\n",
            " '                                \"Url\": '\n",
            " '\"https://www.congress.gov/118/crec/2024/05/21/170/88/CREC-2024-05-21.pdf\"\\n'\n",
            " '                            }\\n'\n",
            " '                        ]\\n'\n",
            " '                    },\\n'\n",
            " '                    \"House\": {\\n'\n",
            " '                        \"Label\": \"House Section\",\\n'\n",
            " '                        \"Ordinal\": 3,\\n'\n",
            " '                        \"PDF\": [\\n'\n",
            " '                            {\\n'\n",
            " '                                \"Part\": \"1\",\\n'\n",
            " '                                \"Url\": '\n",
            " '\"https://www.congress.gov/118/crec/2024/05/21/170/88/CREC-2024-05-21-house.pdf\"\\n'\n",
            " '                            }\\n'\n",
            " '                        ]\\n'\n",
            " '                    },\\n'\n",
            " '                    \"Remarks\": {\\n'\n",
            " '                        \"Label\": \"Extensions of Remarks Section\",\\n'\n",
            " '                        \"Ordinal\": 4,\\n'\n",
            " '                        \"PDF\": [\\n'\n",
            " '                            {\\n'\n",
            " '                                \"Part\": \"1\",\\n'\n",
            " '                                \"Url\": '\n",
            " '\"https://www.congress.gov/118/crec/2024/05/21/170/88/CREC-2024-05-21-extensions.pdf\"\\n'\n",
            " '                            }\\n'\n",
            " '                        ]\\n'\n",
            " '                    },\\n'\n",
            " '                    \"Senate\": {\\n'\n",
            " '                        \"Label\": \"Senate Section\",\\n'\n",
            " '                        \"Ordinal\": 2,\\n'\n",
            " '                        \"PDF\": [\\n'\n",
            " '                            {\\n'\n",
            " '                                \"Part\": \"1\",\\n'\n",
            " '                                \"Url\": '\n",
            " '\"https://www.congress.gov/118/crec/2024/05/21/170/88/CREC-2024-05-21-senate.pdf\"\\n'\n",
            " '                            }\\n'\n",
            " '                        ]\\n'\n",
            " '                    }\\n'\n",
            " '                },\\n'\n",
            " '                \"PublishDate\": \"2024-05-21\",\\n'\n",
            " '                \"Session\": \"2\",\\n'\n",
            " '                \"Volume\": \"170\"\\n'\n",
            " '            }\\n'\n",
            " '        ],\\n'\n",
            " '        \"SetSize\": 1,\\n'\n",
            " '        \"TotalCount\": 1\\n'\n",
            " '    },\\n'\n",
            " '    \"Status\": {\\n'\n",
            " '        \"Code\": \"200\",\\n'\n",
            " '        \"Message\": \"success\"\\n'\n",
            " '    }\\n'\n",
            " '}')\n"
          ]
        }
      ]
    },
    {
      "cell_type": "code",
      "source": [
        "link_to_pdf_file = response.json()['Results']['Issues'][0]['Links']['FullRecord']['PDF'][0]['Url']\n",
        "print(link_to_pdf_file)"
      ],
      "metadata": {
        "colab": {
          "base_uri": "https://localhost:8080/"
        },
        "id": "HDRz8Fb7Pedp",
        "outputId": "9ec2afbe-2135-4e8f-ef77-698671b26d87"
      },
      "execution_count": 59,
      "outputs": [
        {
          "output_type": "stream",
          "name": "stdout",
          "text": [
            "https://www.congress.gov/118/crec/2024/05/21/170/88/CREC-2024-05-21.pdf\n"
          ]
        }
      ]
    },
    {
      "cell_type": "code",
      "source": [
        "pdf_file = requests.get(link_to_pdf_file)\n",
        "pdf_data = BytesIO(pdf_file.content)\n",
        "pdf_reader = PyPDF2.PdfReader(pdf_data)\n",
        "number_of_pages = len(pdf_reader.pages)\n",
        "total_matches = []\n",
        "for i in range(number_of_pages):\n",
        "  page = pdf_reader.pages[i]\n",
        "  text = page.extract_text()\n",
        "  adam_smith_matches = re.findall(r'Adam\\w*\\W*\\sSmith\\w*\\W*', text)\n",
        "  total_matches += adam_smith_matches\n",
        "print(total_matches)\n"
      ],
      "metadata": {
        "colab": {
          "base_uri": "https://localhost:8080/"
        },
        "id": "dTzXpabATyzF",
        "outputId": "1923b9de-3c73-4b5a-bd44-e894bff5574d"
      },
      "execution_count": 82,
      "outputs": [
        {
          "output_type": "stream",
          "name": "stdout",
          "text": [
            "[]\n"
          ]
        }
      ]
    }
  ]
}
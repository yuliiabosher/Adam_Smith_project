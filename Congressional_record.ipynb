{
  "nbformat": 4,
  "nbformat_minor": 0,
  "metadata": {
    "colab": {
      "provenance": [],
<<<<<<< HEAD
      "authorship_tag": "ABX9TyMJWSfttHEAxjOxD+bcG1FR",
=======
      "authorship_tag": "ABX9TyM/NVgzrcMGxhfvnVOSPpLJ",
>>>>>>> parent of 99769bd... calculated the number of links altogether
      "include_colab_link": true
    },
    "kernelspec": {
      "name": "python3",
      "display_name": "Python 3"
    },
    "language_info": {
      "name": "python"
    }
  },
  "cells": [
    {
      "cell_type": "markdown",
      "metadata": {
        "id": "view-in-github",
        "colab_type": "text"
      },
      "source": [
        "<a href=\"https://colab.research.google.com/github/yuliiabosher/Adam_Smith_project/blob/main/Congressional_record.ipynb\" target=\"_parent\"><img src=\"https://colab.research.google.com/assets/colab-badge.svg\" alt=\"Open In Colab\"/></a>"
      ]
    },
    {
      "cell_type": "code",
      "source": [
        "!pip install PyPDF2\n",
        "!pip install dask"
      ],
      "metadata": {
        "id": "XIgKrMaIqWxO",
        "outputId": "1c83b1e8-1943-492b-fc48-bd6bcb782f88",
        "colab": {
          "base_uri": "https://localhost:8080/"
        }
      },
      "execution_count": 20,
      "outputs": [
        {
          "output_type": "stream",
          "name": "stdout",
          "text": [
            "Requirement already satisfied: PyPDF2 in /usr/local/lib/python3.10/dist-packages (3.0.1)\n",
            "Requirement already satisfied: dask in /usr/local/lib/python3.10/dist-packages (2023.8.1)\n",
            "Requirement already satisfied: click>=8.0 in /usr/local/lib/python3.10/dist-packages (from dask) (8.1.7)\n",
            "Requirement already satisfied: cloudpickle>=1.5.0 in /usr/local/lib/python3.10/dist-packages (from dask) (2.2.1)\n",
            "Requirement already satisfied: fsspec>=2021.09.0 in /usr/local/lib/python3.10/dist-packages (from dask) (2023.6.0)\n",
            "Requirement already satisfied: packaging>=20.0 in /usr/local/lib/python3.10/dist-packages (from dask) (24.0)\n",
            "Requirement already satisfied: partd>=1.2.0 in /usr/local/lib/python3.10/dist-packages (from dask) (1.4.2)\n",
            "Requirement already satisfied: pyyaml>=5.3.1 in /usr/local/lib/python3.10/dist-packages (from dask) (6.0.1)\n",
            "Requirement already satisfied: toolz>=0.10.0 in /usr/local/lib/python3.10/dist-packages (from dask) (0.12.1)\n",
            "Requirement already satisfied: importlib-metadata>=4.13.0 in /usr/local/lib/python3.10/dist-packages (from dask) (7.1.0)\n",
            "Requirement already satisfied: zipp>=0.5 in /usr/local/lib/python3.10/dist-packages (from importlib-metadata>=4.13.0->dask) (3.18.2)\n",
            "Requirement already satisfied: locket in /usr/local/lib/python3.10/dist-packages (from partd>=1.2.0->dask) (1.0.0)\n"
          ]
        }
      ]
    },
    {
      "cell_type": "code",
      "execution_count": 24,
      "metadata": {
        "id": "wWjo2_H4-fxs"
      },
      "outputs": [],
      "source": [
        "import requests\n",
        "from google.colab import output\n",
        "import pprint\n",
        "import os\n",
        "from io import BytesIO\n",
        "import PyPDF2\n",
        "import re\n",
        "import datetime\n",
        "import dask\n",
        "import pandas as pd"
      ]
    },
    {
      "cell_type": "code",
      "source": [
        "key = input('enter API key ')\n",
        "os.environ['Congress_API_Key'] = key\n",
        "output.clear()"
      ],
      "metadata": {
        "id": "jhBBTnpE_NJy"
      },
      "execution_count": 34,
      "outputs": []
    },
    {
      "cell_type": "code",
      "source": [
        "def list_endpoints(year,month,day):\n",
        "    date_today = datetime.datetime(year, month, day)\n",
        "    endpoints = []\n",
        "    for i in range(1, 365):\n",
        "        past_date = date_today - datetime.timedelta(days=i)\n",
        "        year = past_date.strftime(\"%Y\")\n",
        "        month = past_date.strftime(\"%m\")\n",
        "        day = past_date.strftime(\"%d\")\n",
        "        endpoint = f\"https://api.congress.gov/v3/congressional-record/?y={year}&m={month}&d={day}&api_key={key}\"\n",
        "        endpoints.append(endpoint)\n",
        "    return endpoints"
      ],
      "metadata": {
        "id": "lpdwaPONuf6b"
      },
      "execution_count": 35,
      "outputs": []
    },
    {
      "cell_type": "code",
      "source": [
        "def locate_pdf_link(api):\n",
        "  response = pd.read_json(api)\n",
        "  if response['Results']['Issues']!=[]:\n",
        "    link_to_pdf_file = response['Results']['Issues'][0]['Links']['FullRecord']['PDF'][0]['Url']\n",
        "    pdf_file = requests.get(link_to_pdf_file)\n",
        "    return pdf_file\n",
        "  else:\n",
        "    return False\n",
        "\n",
        "def read_pdf(link):\n",
        "  if link and link.content[-7:] == b'\\n%%EOF\\n':\n",
        "    pdf_data = BytesIO(link.content)\n",
        "    pdf_reader = PyPDF2.PdfReader(pdf_data)\n",
        "    return pdf_reader\n",
        "  else:\n",
        "    return False\n",
        "\n",
        "def search_pdf(reader, link):\n",
        "  links_with_matches = []\n",
        "  if reader:\n",
        "    for page in reader.pages:\n",
        "      text = page.extract_text()\n",
        "      adam_smith_matches = re.search(r'Adam\\sSmith\\W*', text)\n",
        "      if adam_smith_matches:\n",
        "        links_with_matches.append(link)\n",
        "        break\n",
        "  return links_with_matches\n"
      ],
      "metadata": {
        "id": "g59RauQrGSAn"
      },
      "execution_count": 66,
      "outputs": []
    },
    {
      "cell_type": "code",
      "source": [
        "def find_pdf_links(endpoints_list):\n",
        "  try:\n",
        "    all_matches = []\n",
        "    for i in endpoints_list:\n",
        "        pdf_link = locate_pdf_link(i)\n",
        "        pdf_reader = read_pdf(pdf_link)\n",
        "        matches = search_pdf(pdf_reader, pdf_link)\n",
        "        all_matches.append(matches)\n",
        "    return all_matches\n",
        "  except Exception as e:\n",
        "    print(e)\n",
        "    return all_matches\n",
        "\n",
        "delayed_pdf_links = [dask.delayed(find_pdf_links)(list_endpoints(i,5,30)) for i in range(2024,2025)]"
      ],
      "metadata": {
        "id": "H1Zcg6uLubqp"
      },
      "execution_count": 70,
      "outputs": []
    },
    {
      "cell_type": "code",
      "source": [
        "actual_pdf_links = dask.visualize(delayed_pdf_links)\n",
        "display(actual_pdf_links)"
      ],
      "metadata": {
        "colab": {
          "base_uri": "https://localhost:8080/",
          "height": 315
        },
        "id": "ZW_D3yDPETR8",
        "outputId": "5f93d6e9-7428-400d-f950-11cd415216fb"
      },
      "execution_count": 71,
      "outputs": [
        {
          "output_type": "display_data",
          "data": {
            "image/png": "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\n",
            "text/plain": [
              "<IPython.core.display.Image object>"
            ]
          },
          "metadata": {}
        }
      ]
    },
    {
      "cell_type": "code",
      "source": [
        "actual_pdf_links = dask.compute(delayed_pdf_links)"
      ],
      "metadata": {
        "id": "f_7zqlqndWEE",
        "outputId": "79a7fc96-a004-4cab-caaf-6246e1a13ef5",
        "colab": {
          "base_uri": "https://localhost:8080/"
        },
        "collapsed": true
      },
      "execution_count": 72,
      "outputs": [
        {
          "output_type": "stream",
          "name": "stdout",
          "text": [
            "HTTP Error 429: Too Many Requests\n",
            "HTTP Error 429: Too Many Requests\n",
            "HTTP Error 429: Too Many Requests\n",
            "HTTP Error 429: Too Many Requests\n"
          ]
        }
      ]
    },
    {
      "cell_type": "code",
      "source": [
        "actual_pdf_links[0].sort()"
      ],
      "metadata": {
        "id": "IBtC7ND3Oo0H"
      },
      "execution_count": 73,
      "outputs": []
    },
    {
      "cell_type": "code",
      "source": [
        "actual_pdf_links[0]"
      ],
      "metadata": {
        "id": "gE1oWc3vO3iG",
        "outputId": "9deefcad-66de-4d94-f62d-69581d96ed09",
        "colab": {
          "base_uri": "https://localhost:8080/"
        }
      },
      "execution_count": 74,
      "outputs": [
        {
          "output_type": "execute_result",
          "data": {
            "text/plain": [
              "[[]]"
            ]
          },
          "metadata": {},
          "execution_count": 74
        }
      ]
<<<<<<< HEAD
    },
    {
      "cell_type": "code",
      "source": [
        "links = []\n",
        "for i in actual_pdf_links[0]:\n",
        "  if i!=[]:\n",
        "    for j in i:\n",
        "      links.append(j)\n",
        "len(links)"
      ],
      "metadata": {
        "id": "WaToCKgTd942",
        "outputId": "8ec490ad-b092-42bc-e110-cfa64abcbd36",
        "colab": {
          "base_uri": "https://localhost:8080/"
        }
      },
      "execution_count": 75,
      "outputs": [
        {
          "output_type": "execute_result",
          "data": {
            "text/plain": [
              "0"
            ]
          },
          "metadata": {},
          "execution_count": 75
        }
      ]
=======
>>>>>>> parent of 99769bd... calculated the number of links altogether
    }
  ]
}